{
 "cells": [
  {
   "cell_type": "markdown",
   "metadata": {},
   "source": [
    "# 06. Naver API"
   ]
  },
  {
   "attachments": {},
   "cell_type": "markdown",
   "metadata": {},
   "source": [
    "## 1. 네이버 API 사용 등록"
   ]
  },
  {
   "attachments": {},
   "cell_type": "markdown",
   "metadata": {},
   "source": [
    "- 네이버 개발자 센터\n",
    "- https://developers.naver.com/main/\n",
    "- Application\n",
    "    - 어플리케이션 등록\n",
    "    - 어플리케이션 이름 ds_study1\n",
    "    - 사용 API\n",
    "        - 데이터랩(검색어트렌드)\n",
    "        - 데이터랩(쇼핑인사이트)\n",
    "    - 환경추가\n",
    "        - WEB 설정\n",
    "        - http://localhost    \n",
    "    - Client ID: ASDl_ovqs4IQHIPCRcjR\n",
    "    - Client Secret: jtjCmXfkdJ\n",
    "    - https://developers.naver.com/apps/#/myapps/ASDl_ovqs4IQHIPCRcjR/overview\n"
   ]
  },
  {
   "cell_type": "markdown",
   "metadata": {},
   "source": [
    "## 2. 네이버 검색 API 사용하기"
   ]
  },
  {
   "cell_type": "markdown",
   "metadata": {},
   "source": [
    "- 개발 가이드\n",
    "https://developers.naver.com/docs/serviceapi/search/blog/blog.md#%EB%B8%94%EB%A1%9C%EA%B7%B8"
   ]
  },
  {
   "cell_type": "markdown",
   "metadata": {},
   "source": [
    "- urllib: http 프로토콜에 따라서 서버의 요청/응답을 처이하기 위한 모듈\n",
    "- urllib.request: 클라이언트의 요청을 처리하는 모듈\n",
    "- urllib.parse: url 주소에 대한 분석"
   ]
  },
  {
   "attachments": {},
   "cell_type": "markdown",
   "metadata": {},
   "source": [
    "## 검색: 블로그(blog)"
   ]
  },
  {
   "cell_type": "code",
   "execution_count": 4,
   "metadata": {},
   "outputs": [
    {
     "name": "stdout",
     "output_type": "stream",
     "text": [
      "{\n",
      "\t\"lastBuildDate\":\"Wed, 01 Feb 2023 16:09:17 +0900\",\n",
      "\t\"total\":383953,\n",
      "\t\"start\":1,\n",
      "\t\"display\":10,\n",
      "\t\"items\":[\n",
      "\t\t{\n",
      "\t\t\t\"title\":\"<b>파이썬<\\/b>학원 초보자를 위한 공부과정!\",\n",
      "\t\t\t\"link\":\"https:\\/\\/blog.naver.com\\/chzhvkdll\\/222931446581\",\n",
      "\t\t\t\"description\":\"그래서 제가 <b>파이썬<\\/b>학원을 다닌 계기과 장단점, 고민에 대해 써보도록 하겠습니다 :) 모두가 같을 수는... <b>파이썬<\\/b>학원 수강 신청한 건 대학 후배 중에 갑자기 전공 무관하게 그쪽으로 턴해서 공부하고 취직했단... \",\n",
      "\t\t\t\"bloggername\":\"에피\",\n",
      "\t\t\t\"bloggerlink\":\"blog.naver.com\\/chzhvkdll\",\n",
      "\t\t\t\"postdate\":\"20221118\"\n",
      "\t\t},\n",
      "\t\t{\n",
      "\t\t\t\"title\":\"<b>파이썬<\\/b> 자격증 취득 수업 내용 정리!\",\n",
      "\t\t\t\"link\":\"https:\\/\\/blog.naver.com\\/eunoia1017\\/222968873209\",\n",
      "\t\t\t\"description\":\"<b>파이썬<\\/b> 자격증 취득 수업 내용 정리! 많은 분들이 자신의 본 직업이나 N잡으로 코딩 한 번씩은 다... 오늘은 제가 왜 <b>파이썬<\\/b> 자격증을 취득하게 되었는지에 대한 글을 같이 써보려고 해요! <b>파이썬<\\/b> 자격증을... \",\n",
      "\t\t\t\"bloggername\":\"반짝반짝 빛나는\",\n",
      "\t\t\t\"bloggerlink\":\"blog.naver.com\\/eunoia1017\",\n",
      "\t\t\t\"postdate\":\"20221229\"\n",
      "\t\t},\n",
      "\t\t{\n",
      "\t\t\t\"title\":\"<b>파이썬<\\/b> 학원 선택 이유 및 수업과정\",\n",
      "\t\t\t\"link\":\"https:\\/\\/blog.naver.com\\/shek99\\/222983518965\",\n",
      "\t\t\t\"description\":\"그 중에서도 <b>파이썬<\\/b> 학원을 선택을 했어요. <b>파이썬<\\/b> 학원을 선택한 이유는 많은 코딩 프로그램 중 <b>파이썬<\\/b>이 가장 좋아 보였기 때문입니다. 이전에는 JAVA나 자바 스크립트, C언어를 많이 배웠는데 인터넷에서 좀... \",\n",
      "\t\t\t\"bloggername\":\"Humanity & Architecture 건축 인문\",\n",
      "\t\t\t\"bloggerlink\":\"blog.naver.com\\/shek99\",\n",
      "\t\t\t\"postdate\":\"20230113\"\n",
      "\t\t},\n",
      "\t\t{\n",
      "\t\t\t\"title\":\"부산코딩학원 <b>파이썬<\\/b> 개발 기초부터 배우기\",\n",
      "\t\t\t\"link\":\"https:\\/\\/blog.naver.com\\/cd34579\\/222947814795\",\n",
      "\t\t\t\"description\":\"좋지만 <b>파이썬<\\/b>이 업계에서 많이 쓰고 있기도 하고, 처음 배우기에는 가장 쉬운 언어라고 하셔서 <b>파이썬<\\/b> 기초반에 등록을 하게 되었습니다! 지금 생각해보면 <b>파이썬<\\/b>으로 시작하기 잘한 것 같아요. 프로그래밍은... \",\n",
      "\t\t\t\"bloggername\":\"행복바이러스^^\",\n",
      "\t\t\t\"bloggerlink\":\"blog.naver.com\\/cd34579\",\n",
      "\t\t\t\"postdate\":\"20221206\"\n",
      "\t\t},\n",
      "\t\t{\n",
      "\t\t\t\"title\":\"<b>파이썬<\\/b> 강의 취업 성공의 필수 학습전략\",\n",
      "\t\t\t\"link\":\"https:\\/\\/blog.naver.com\\/ansoeon\\/222962696977\",\n",
      "\t\t\t\"description\":\"그렇게 앞으로 뭘 하면서 살까 고민하다가 친구의 권유로 <b>파이썬<\\/b> 강의를 듣게 되었습니다. 처음엔 관심... 왜 하필 <b>파이썬<\\/b>이냐고 한다면 기존에 쓰던 프로그래밍 언어는 0과1로만 이루어진 이진수였는데요.... \",\n",
      "\t\t\t\"bloggername\":\"취미부자 짠테커 집사\",\n",
      "\t\t\t\"bloggerlink\":\"blog.naver.com\\/ansoeon\",\n",
      "\t\t\t\"postdate\":\"20221222\"\n",
      "\t\t},\n",
      "\t\t{\n",
      "\t\t\t\"title\":\"<b>파이썬<\\/b>학원 입문자도 수월한 학습과정\",\n",
      "\t\t\t\"link\":\"https:\\/\\/blog.naver.com\\/kumh\\/222959842265\",\n",
      "\t\t\t\"description\":\"저 또한 이 분야에 중 웹 개발에 관심이 있었고, 관련된 지식이 없어 기초부터 시작해 체계적으로 배워보고 싶어 <b>파이썬<\\/b>학원을 찾아가게 되었어요. <b>파이썬<\\/b>은 프로그래밍을 입문자가 처음 접하는 과정의... \",\n",
      "\t\t\t\"bloggername\":\"까비까비의 지식창고\",\n",
      "\t\t\t\"bloggerlink\":\"blog.naver.com\\/kumh\",\n",
      "\t\t\t\"postdate\":\"20221219\"\n",
      "\t\t},\n",
      "\t\t{\n",
      "\t\t\t\"title\":\"<b>파이썬<\\/b>학원 누구나 기초부터 배울 수 있다! 취업까지 성공~\",\n",
      "\t\t\t\"link\":\"https:\\/\\/blog.naver.com\\/cksdlf227\\/222953636388\",\n",
      "\t\t\t\"description\":\"그래서 고민하다 <b>파이썬<\\/b>학원을 다녀보게 되었죠. 원래부터 웹이나 앱 개발 하는 과정 혹은 요즘... 무턱대고 취준을 하기엔 관심만으로 도전할 수 있는 쉬운 분야는 아니다보니 <b>파이썬<\\/b>학원을 다니면서 제대로... \",\n",
      "\t\t\t\"bloggername\":\"타밀&apos;s 추억창고\",\n",
      "\t\t\t\"bloggerlink\":\"blog.naver.com\\/cksdlf227\",\n",
      "\t\t\t\"postdate\":\"20221212\"\n",
      "\t\t},\n",
      "\t\t{\n",
      "\t\t\t\"title\":\"<b>파이썬<\\/b>자격증 종류와 효율적인 취득법\",\n",
      "\t\t\t\"link\":\"https:\\/\\/blog.naver.com\\/togyu911\\/222989910925\",\n",
      "\t\t\t\"description\":\"실제로 많은 분들이 프로그래밍 언어나 코딩을 배우는 것은 물론, <b>파이썬<\\/b>자격증 취득으로 개발직군... 바로 <b>파이썬<\\/b>입니다. 프론트엔드부터 백엔드까지 모든 과정에 활용할 수 있는 것은 물론이고요. 가장... \",\n",
      "\t\t\t\"bloggername\":\"IIS 지식정보네트워크\",\n",
      "\t\t\t\"bloggerlink\":\"blog.naver.com\\/togyu911\",\n",
      "\t\t\t\"postdate\":\"20230124\"\n",
      "\t\t},\n",
      "\t\t{\n",
      "\t\t\t\"title\":\"<b>파이썬<\\/b>학원 초보자도 배우기 쉬운 교육과정\",\n",
      "\t\t\t\"link\":\"https:\\/\\/blog.naver.com\\/sow723\\/222891380393\",\n",
      "\t\t\t\"description\":\"물론 처음부터 다시 시작한다는 것이 쉽지는 않았지만 이번에는 <b>파이썬<\\/b>학원이라도 다니면서 제대로... 위해 <b>파이썬<\\/b>학원만큼 제대로 배울 수 있는 곳은 없었어요. 그렇다보니 어디서 배워야할지 꼼꼼하게... \",\n",
      "\t\t\t\"bloggername\":\"Onelog\",\n",
      "\t\t\t\"bloggerlink\":\"blog.naver.com\\/sow723\",\n",
      "\t\t\t\"postdate\":\"20221004\"\n",
      "\t\t},\n",
      "\t\t{\n",
      "\t\t\t\"title\":\"<b>파이썬<\\/b>교육 기초부터 실무 수업 과정 정리\",\n",
      "\t\t\t\"link\":\"https:\\/\\/blog.naver.com\\/qant33\\/222962735573\",\n",
      "\t\t\t\"description\":\"결국 <b>파이썬<\\/b>교육에 대해서 살펴 보게 되었습니다. 아무래도 해당 분야의 지식이 아예 없는 상태에서... <b>파이썬<\\/b>교육은 다양한 곳이 있었기 때문에 하나하나 상담을 받으면서 내가 참여 할 수 있는 곳이 어디인지를... \",\n",
      "\t\t\t\"bloggername\":\"기억 그리고 기록 ♡\",\n",
      "\t\t\t\"bloggerlink\":\"blog.naver.com\\/qant33\",\n",
      "\t\t\t\"postdate\":\"20221222\"\n",
      "\t\t}\n",
      "\t]\n",
      "}\n"
     ]
    }
   ],
   "source": [
    "# 네이버 검색 API 예제 - 블로그 검색\n",
    "import os\n",
    "import sys\n",
    "import urllib.request\n",
    "client_id = \"ASDl_ovqs4IQHIPCRcjR\"\n",
    "client_secret = \"jtjCmXfkdJ\"\n",
    "encText = urllib.parse.quote(\"파이썬\")\n",
    "#urllib.parse.quote(): 한글로 된 글자를 utf-8로 변환해줌\n",
    "url = \"https://openapi.naver.com/v1/search/blog?query=\" + encText # JSON 결과\n",
    "# blog라고 되어 있음. 이건 blog 검색\n",
    "# url = \"https://openapi.naver.com/v1/search/blog.xml?query=\" + encText # XML 결과\n",
    "request = urllib.request.Request(url)\n",
    "request.add_header(\"X-Naver-Client-Id\",client_id)\n",
    "request.add_header(\"X-Naver-Client-Secret\",client_secret)\n",
    "response = urllib.request.urlopen(request)\n",
    "rescode = response.getcode() #200이 떴는지 확인하는 코드\n",
    "if(rescode==200):\n",
    "    response_body = response.read()\n",
    "    print(response_body.decode('utf-8'))\n",
    "else:\n",
    "    print(\"Error Code:\" + rescode)"
   ]
  },
  {
   "cell_type": "code",
   "execution_count": 5,
   "metadata": {},
   "outputs": [
    {
     "data": {
      "text/plain": [
       "<http.client.HTTPResponse at 0x25f42f7faf0>"
      ]
     },
     "execution_count": 5,
     "metadata": {},
     "output_type": "execute_result"
    }
   ],
   "source": [
    "response"
   ]
  },
  {
   "cell_type": "code",
   "execution_count": 6,
   "metadata": {},
   "outputs": [
    {
     "data": {
      "text/plain": [
       "(200, 200, 200)"
      ]
     },
     "execution_count": 6,
     "metadata": {},
     "output_type": "execute_result"
    }
   ],
   "source": [
    "response.getcode(), response.code, response.status # 다 똑같은 코드"
   ]
  },
  {
   "cell_type": "code",
   "execution_count": 7,
   "metadata": {},
   "outputs": [
    {
     "data": {
      "text/plain": [
       "b'{\\n\\t\"lastBuildDate\":\"Wed, 01 Feb 2023 16:09:17 +0900\",\\n\\t\"total\":383953,\\n\\t\"start\":1,\\n\\t\"display\":10,\\n\\t\"items\":[\\n\\t\\t{\\n\\t\\t\\t\"title\":\"<b>\\xed\\x8c\\x8c\\xec\\x9d\\xb4\\xec\\x8d\\xac<\\\\/b>\\xed\\x95\\x99\\xec\\x9b\\x90 \\xec\\xb4\\x88\\xeb\\xb3\\xb4\\xec\\x9e\\x90\\xeb\\xa5\\xbc \\xec\\x9c\\x84\\xed\\x95\\x9c \\xea\\xb3\\xb5\\xeb\\xb6\\x80\\xea\\xb3\\xbc\\xec\\xa0\\x95!\",\\n\\t\\t\\t\"link\":\"https:\\\\/\\\\/blog.naver.com\\\\/chzhvkdll\\\\/222931446581\",\\n\\t\\t\\t\"description\":\"\\xea\\xb7\\xb8\\xeb\\x9e\\x98\\xec\\x84\\x9c \\xec\\xa0\\x9c\\xea\\xb0\\x80 <b>\\xed\\x8c\\x8c\\xec\\x9d\\xb4\\xec\\x8d\\xac<\\\\/b>\\xed\\x95\\x99\\xec\\x9b\\x90\\xec\\x9d\\x84 \\xeb\\x8b\\xa4\\xeb\\x8b\\x8c \\xea\\xb3\\x84\\xea\\xb8\\xb0\\xea\\xb3\\xbc \\xec\\x9e\\xa5\\xeb\\x8b\\xa8\\xec\\xa0\\x90, \\xea\\xb3\\xa0\\xeb\\xaf\\xbc\\xec\\x97\\x90 \\xeb\\x8c\\x80\\xed\\x95\\xb4 \\xec\\x8d\\xa8\\xeb\\xb3\\xb4\\xeb\\x8f\\x84\\xeb\\xa1\\x9d \\xed\\x95\\x98\\xea\\xb2\\xa0\\xec\\x8a\\xb5\\xeb\\x8b\\x88\\xeb\\x8b\\xa4 :) \\xeb\\xaa\\xa8\\xeb\\x91\\x90\\xea\\xb0\\x80 \\xea\\xb0\\x99\\xec\\x9d\\x84 \\xec\\x88\\x98\\xeb\\x8a\\x94... <b>\\xed\\x8c\\x8c\\xec\\x9d\\xb4\\xec\\x8d\\xac<\\\\/b>\\xed\\x95\\x99\\xec\\x9b\\x90 \\xec\\x88\\x98\\xea\\xb0\\x95 \\xec\\x8b\\xa0\\xec\\xb2\\xad\\xed\\x95\\x9c \\xea\\xb1\\xb4 \\xeb\\x8c\\x80\\xed\\x95\\x99 \\xed\\x9b\\x84\\xeb\\xb0\\xb0 \\xec\\xa4\\x91\\xec\\x97\\x90 \\xea\\xb0\\x91\\xec\\x9e\\x90\\xea\\xb8\\xb0 \\xec\\xa0\\x84\\xea\\xb3\\xb5 \\xeb\\xac\\xb4\\xea\\xb4\\x80\\xed\\x95\\x98\\xea\\xb2\\x8c \\xea\\xb7\\xb8\\xec\\xaa\\xbd\\xec\\x9c\\xbc\\xeb\\xa1\\x9c \\xed\\x84\\xb4\\xed\\x95\\xb4\\xec\\x84\\x9c \\xea\\xb3\\xb5\\xeb\\xb6\\x80\\xed\\x95\\x98\\xea\\xb3\\xa0 \\xec\\xb7\\xa8\\xec\\xa7\\x81\\xed\\x96\\x88\\xeb\\x8b\\xa8... \",\\n\\t\\t\\t\"bloggername\":\"\\xec\\x97\\x90\\xed\\x94\\xbc\",\\n\\t\\t\\t\"bloggerlink\":\"blog.naver.com\\\\/chzhvkdll\",\\n\\t\\t\\t\"postdate\":\"20221118\"\\n\\t\\t},\\n\\t\\t{\\n\\t\\t\\t\"title\":\"<b>\\xed\\x8c\\x8c\\xec\\x9d\\xb4\\xec\\x8d\\xac<\\\\/b> \\xec\\x9e\\x90\\xea\\xb2\\xa9\\xec\\xa6\\x9d \\xec\\xb7\\xa8\\xeb\\x93\\x9d \\xec\\x88\\x98\\xec\\x97\\x85 \\xeb\\x82\\xb4\\xec\\x9a\\xa9 \\xec\\xa0\\x95\\xeb\\xa6\\xac!\",\\n\\t\\t\\t\"link\":\"https:\\\\/\\\\/blog.naver.com\\\\/eunoia1017\\\\/222968873209\",\\n\\t\\t\\t\"description\":\"<b>\\xed\\x8c\\x8c\\xec\\x9d\\xb4\\xec\\x8d\\xac<\\\\/b> \\xec\\x9e\\x90\\xea\\xb2\\xa9\\xec\\xa6\\x9d \\xec\\xb7\\xa8\\xeb\\x93\\x9d \\xec\\x88\\x98\\xec\\x97\\x85 \\xeb\\x82\\xb4\\xec\\x9a\\xa9 \\xec\\xa0\\x95\\xeb\\xa6\\xac! \\xeb\\xa7\\x8e\\xec\\x9d\\x80 \\xeb\\xb6\\x84\\xeb\\x93\\xa4\\xec\\x9d\\xb4 \\xec\\x9e\\x90\\xec\\x8b\\xa0\\xec\\x9d\\x98 \\xeb\\xb3\\xb8 \\xec\\xa7\\x81\\xec\\x97\\x85\\xec\\x9d\\xb4\\xeb\\x82\\x98 N\\xec\\x9e\\xa1\\xec\\x9c\\xbc\\xeb\\xa1\\x9c \\xec\\xbd\\x94\\xeb\\x94\\xa9 \\xed\\x95\\x9c \\xeb\\xb2\\x88\\xec\\x94\\xa9\\xec\\x9d\\x80 \\xeb\\x8b\\xa4... \\xec\\x98\\xa4\\xeb\\x8a\\x98\\xec\\x9d\\x80 \\xec\\xa0\\x9c\\xea\\xb0\\x80 \\xec\\x99\\x9c <b>\\xed\\x8c\\x8c\\xec\\x9d\\xb4\\xec\\x8d\\xac<\\\\/b> \\xec\\x9e\\x90\\xea\\xb2\\xa9\\xec\\xa6\\x9d\\xec\\x9d\\x84 \\xec\\xb7\\xa8\\xeb\\x93\\x9d\\xed\\x95\\x98\\xea\\xb2\\x8c \\xeb\\x90\\x98\\xec\\x97\\x88\\xeb\\x8a\\x94\\xec\\xa7\\x80\\xec\\x97\\x90 \\xeb\\x8c\\x80\\xed\\x95\\x9c \\xea\\xb8\\x80\\xec\\x9d\\x84 \\xea\\xb0\\x99\\xec\\x9d\\xb4 \\xec\\x8d\\xa8\\xeb\\xb3\\xb4\\xeb\\xa0\\xa4\\xea\\xb3\\xa0 \\xed\\x95\\xb4\\xec\\x9a\\x94! <b>\\xed\\x8c\\x8c\\xec\\x9d\\xb4\\xec\\x8d\\xac<\\\\/b> \\xec\\x9e\\x90\\xea\\xb2\\xa9\\xec\\xa6\\x9d\\xec\\x9d\\x84... \",\\n\\t\\t\\t\"bloggername\":\"\\xeb\\xb0\\x98\\xec\\xa7\\x9d\\xeb\\xb0\\x98\\xec\\xa7\\x9d \\xeb\\xb9\\x9b\\xeb\\x82\\x98\\xeb\\x8a\\x94\",\\n\\t\\t\\t\"bloggerlink\":\"blog.naver.com\\\\/eunoia1017\",\\n\\t\\t\\t\"postdate\":\"20221229\"\\n\\t\\t},\\n\\t\\t{\\n\\t\\t\\t\"title\":\"<b>\\xed\\x8c\\x8c\\xec\\x9d\\xb4\\xec\\x8d\\xac<\\\\/b> \\xed\\x95\\x99\\xec\\x9b\\x90 \\xec\\x84\\xa0\\xed\\x83\\x9d \\xec\\x9d\\xb4\\xec\\x9c\\xa0 \\xeb\\xb0\\x8f \\xec\\x88\\x98\\xec\\x97\\x85\\xea\\xb3\\xbc\\xec\\xa0\\x95\",\\n\\t\\t\\t\"link\":\"https:\\\\/\\\\/blog.naver.com\\\\/shek99\\\\/222983518965\",\\n\\t\\t\\t\"description\":\"\\xea\\xb7\\xb8 \\xec\\xa4\\x91\\xec\\x97\\x90\\xec\\x84\\x9c\\xeb\\x8f\\x84 <b>\\xed\\x8c\\x8c\\xec\\x9d\\xb4\\xec\\x8d\\xac<\\\\/b> \\xed\\x95\\x99\\xec\\x9b\\x90\\xec\\x9d\\x84 \\xec\\x84\\xa0\\xed\\x83\\x9d\\xec\\x9d\\x84 \\xed\\x96\\x88\\xec\\x96\\xb4\\xec\\x9a\\x94. <b>\\xed\\x8c\\x8c\\xec\\x9d\\xb4\\xec\\x8d\\xac<\\\\/b> \\xed\\x95\\x99\\xec\\x9b\\x90\\xec\\x9d\\x84 \\xec\\x84\\xa0\\xed\\x83\\x9d\\xed\\x95\\x9c \\xec\\x9d\\xb4\\xec\\x9c\\xa0\\xeb\\x8a\\x94 \\xeb\\xa7\\x8e\\xec\\x9d\\x80 \\xec\\xbd\\x94\\xeb\\x94\\xa9 \\xed\\x94\\x84\\xeb\\xa1\\x9c\\xea\\xb7\\xb8\\xeb\\x9e\\xa8 \\xec\\xa4\\x91 <b>\\xed\\x8c\\x8c\\xec\\x9d\\xb4\\xec\\x8d\\xac<\\\\/b>\\xec\\x9d\\xb4 \\xea\\xb0\\x80\\xec\\x9e\\xa5 \\xec\\xa2\\x8b\\xec\\x95\\x84 \\xeb\\xb3\\xb4\\xec\\x98\\x80\\xea\\xb8\\xb0 \\xeb\\x95\\x8c\\xeb\\xac\\xb8\\xec\\x9e\\x85\\xeb\\x8b\\x88\\xeb\\x8b\\xa4. \\xec\\x9d\\xb4\\xec\\xa0\\x84\\xec\\x97\\x90\\xeb\\x8a\\x94 JAVA\\xeb\\x82\\x98 \\xec\\x9e\\x90\\xeb\\xb0\\x94 \\xec\\x8a\\xa4\\xed\\x81\\xac\\xeb\\xa6\\xbd\\xed\\x8a\\xb8, C\\xec\\x96\\xb8\\xec\\x96\\xb4\\xeb\\xa5\\xbc \\xeb\\xa7\\x8e\\xec\\x9d\\xb4 \\xeb\\xb0\\xb0\\xec\\x9b\\xa0\\xeb\\x8a\\x94\\xeb\\x8d\\xb0 \\xec\\x9d\\xb8\\xed\\x84\\xb0\\xeb\\x84\\xb7\\xec\\x97\\x90\\xec\\x84\\x9c \\xec\\xa2\\x80... \",\\n\\t\\t\\t\"bloggername\":\"Humanity & Architecture \\xea\\xb1\\xb4\\xec\\xb6\\x95 \\xec\\x9d\\xb8\\xeb\\xac\\xb8\",\\n\\t\\t\\t\"bloggerlink\":\"blog.naver.com\\\\/shek99\",\\n\\t\\t\\t\"postdate\":\"20230113\"\\n\\t\\t},\\n\\t\\t{\\n\\t\\t\\t\"title\":\"\\xeb\\xb6\\x80\\xec\\x82\\xb0\\xec\\xbd\\x94\\xeb\\x94\\xa9\\xed\\x95\\x99\\xec\\x9b\\x90 <b>\\xed\\x8c\\x8c\\xec\\x9d\\xb4\\xec\\x8d\\xac<\\\\/b> \\xea\\xb0\\x9c\\xeb\\xb0\\x9c \\xea\\xb8\\xb0\\xec\\xb4\\x88\\xeb\\xb6\\x80\\xed\\x84\\xb0 \\xeb\\xb0\\xb0\\xec\\x9a\\xb0\\xea\\xb8\\xb0\",\\n\\t\\t\\t\"link\":\"https:\\\\/\\\\/blog.naver.com\\\\/cd34579\\\\/222947814795\",\\n\\t\\t\\t\"description\":\"\\xec\\xa2\\x8b\\xec\\xa7\\x80\\xeb\\xa7\\x8c <b>\\xed\\x8c\\x8c\\xec\\x9d\\xb4\\xec\\x8d\\xac<\\\\/b>\\xec\\x9d\\xb4 \\xec\\x97\\x85\\xea\\xb3\\x84\\xec\\x97\\x90\\xec\\x84\\x9c \\xeb\\xa7\\x8e\\xec\\x9d\\xb4 \\xec\\x93\\xb0\\xea\\xb3\\xa0 \\xec\\x9e\\x88\\xea\\xb8\\xb0\\xeb\\x8f\\x84 \\xed\\x95\\x98\\xea\\xb3\\xa0, \\xec\\xb2\\x98\\xec\\x9d\\x8c \\xeb\\xb0\\xb0\\xec\\x9a\\xb0\\xea\\xb8\\xb0\\xec\\x97\\x90\\xeb\\x8a\\x94 \\xea\\xb0\\x80\\xec\\x9e\\xa5 \\xec\\x89\\xac\\xec\\x9a\\xb4 \\xec\\x96\\xb8\\xec\\x96\\xb4\\xeb\\x9d\\xbc\\xea\\xb3\\xa0 \\xed\\x95\\x98\\xec\\x85\\x94\\xec\\x84\\x9c <b>\\xed\\x8c\\x8c\\xec\\x9d\\xb4\\xec\\x8d\\xac<\\\\/b> \\xea\\xb8\\xb0\\xec\\xb4\\x88\\xeb\\xb0\\x98\\xec\\x97\\x90 \\xeb\\x93\\xb1\\xeb\\xa1\\x9d\\xec\\x9d\\x84 \\xed\\x95\\x98\\xea\\xb2\\x8c \\xeb\\x90\\x98\\xec\\x97\\x88\\xec\\x8a\\xb5\\xeb\\x8b\\x88\\xeb\\x8b\\xa4! \\xec\\xa7\\x80\\xea\\xb8\\x88 \\xec\\x83\\x9d\\xea\\xb0\\x81\\xed\\x95\\xb4\\xeb\\xb3\\xb4\\xeb\\xa9\\xb4 <b>\\xed\\x8c\\x8c\\xec\\x9d\\xb4\\xec\\x8d\\xac<\\\\/b>\\xec\\x9c\\xbc\\xeb\\xa1\\x9c \\xec\\x8b\\x9c\\xec\\x9e\\x91\\xed\\x95\\x98\\xea\\xb8\\xb0 \\xec\\x9e\\x98\\xed\\x95\\x9c \\xea\\xb2\\x83 \\xea\\xb0\\x99\\xec\\x95\\x84\\xec\\x9a\\x94. \\xed\\x94\\x84\\xeb\\xa1\\x9c\\xea\\xb7\\xb8\\xeb\\x9e\\x98\\xeb\\xb0\\x8d\\xec\\x9d\\x80... \",\\n\\t\\t\\t\"bloggername\":\"\\xed\\x96\\x89\\xeb\\xb3\\xb5\\xeb\\xb0\\x94\\xec\\x9d\\xb4\\xeb\\x9f\\xac\\xec\\x8a\\xa4^^\",\\n\\t\\t\\t\"bloggerlink\":\"blog.naver.com\\\\/cd34579\",\\n\\t\\t\\t\"postdate\":\"20221206\"\\n\\t\\t},\\n\\t\\t{\\n\\t\\t\\t\"title\":\"<b>\\xed\\x8c\\x8c\\xec\\x9d\\xb4\\xec\\x8d\\xac<\\\\/b> \\xea\\xb0\\x95\\xec\\x9d\\x98 \\xec\\xb7\\xa8\\xec\\x97\\x85 \\xec\\x84\\xb1\\xea\\xb3\\xb5\\xec\\x9d\\x98 \\xed\\x95\\x84\\xec\\x88\\x98 \\xed\\x95\\x99\\xec\\x8a\\xb5\\xec\\xa0\\x84\\xeb\\x9e\\xb5\",\\n\\t\\t\\t\"link\":\"https:\\\\/\\\\/blog.naver.com\\\\/ansoeon\\\\/222962696977\",\\n\\t\\t\\t\"description\":\"\\xea\\xb7\\xb8\\xeb\\xa0\\x87\\xea\\xb2\\x8c \\xec\\x95\\x9e\\xec\\x9c\\xbc\\xeb\\xa1\\x9c \\xeb\\xad\\x98 \\xed\\x95\\x98\\xeb\\xa9\\xb4\\xec\\x84\\x9c \\xec\\x82\\xb4\\xea\\xb9\\x8c \\xea\\xb3\\xa0\\xeb\\xaf\\xbc\\xed\\x95\\x98\\xeb\\x8b\\xa4\\xea\\xb0\\x80 \\xec\\xb9\\x9c\\xea\\xb5\\xac\\xec\\x9d\\x98 \\xea\\xb6\\x8c\\xec\\x9c\\xa0\\xeb\\xa1\\x9c <b>\\xed\\x8c\\x8c\\xec\\x9d\\xb4\\xec\\x8d\\xac<\\\\/b> \\xea\\xb0\\x95\\xec\\x9d\\x98\\xeb\\xa5\\xbc \\xeb\\x93\\xa3\\xea\\xb2\\x8c \\xeb\\x90\\x98\\xec\\x97\\x88\\xec\\x8a\\xb5\\xeb\\x8b\\x88\\xeb\\x8b\\xa4. \\xec\\xb2\\x98\\xec\\x9d\\x8c\\xec\\x97\\x94 \\xea\\xb4\\x80\\xec\\x8b\\xac... \\xec\\x99\\x9c \\xed\\x95\\x98\\xed\\x95\\x84 <b>\\xed\\x8c\\x8c\\xec\\x9d\\xb4\\xec\\x8d\\xac<\\\\/b>\\xec\\x9d\\xb4\\xeb\\x83\\x90\\xea\\xb3\\xa0 \\xed\\x95\\x9c\\xeb\\x8b\\xa4\\xeb\\xa9\\xb4 \\xea\\xb8\\xb0\\xec\\xa1\\xb4\\xec\\x97\\x90 \\xec\\x93\\xb0\\xeb\\x8d\\x98 \\xed\\x94\\x84\\xeb\\xa1\\x9c\\xea\\xb7\\xb8\\xeb\\x9e\\x98\\xeb\\xb0\\x8d \\xec\\x96\\xb8\\xec\\x96\\xb4\\xeb\\x8a\\x94 0\\xea\\xb3\\xbc1\\xeb\\xa1\\x9c\\xeb\\xa7\\x8c \\xec\\x9d\\xb4\\xeb\\xa3\\xa8\\xec\\x96\\xb4\\xec\\xa7\\x84 \\xec\\x9d\\xb4\\xec\\xa7\\x84\\xec\\x88\\x98\\xec\\x98\\x80\\xeb\\x8a\\x94\\xeb\\x8d\\xb0\\xec\\x9a\\x94.... \",\\n\\t\\t\\t\"bloggername\":\"\\xec\\xb7\\xa8\\xeb\\xaf\\xb8\\xeb\\xb6\\x80\\xec\\x9e\\x90 \\xec\\xa7\\xa0\\xed\\x85\\x8c\\xec\\xbb\\xa4 \\xec\\xa7\\x91\\xec\\x82\\xac\",\\n\\t\\t\\t\"bloggerlink\":\"blog.naver.com\\\\/ansoeon\",\\n\\t\\t\\t\"postdate\":\"20221222\"\\n\\t\\t},\\n\\t\\t{\\n\\t\\t\\t\"title\":\"<b>\\xed\\x8c\\x8c\\xec\\x9d\\xb4\\xec\\x8d\\xac<\\\\/b>\\xed\\x95\\x99\\xec\\x9b\\x90 \\xec\\x9e\\x85\\xeb\\xac\\xb8\\xec\\x9e\\x90\\xeb\\x8f\\x84 \\xec\\x88\\x98\\xec\\x9b\\x94\\xed\\x95\\x9c \\xed\\x95\\x99\\xec\\x8a\\xb5\\xea\\xb3\\xbc\\xec\\xa0\\x95\",\\n\\t\\t\\t\"link\":\"https:\\\\/\\\\/blog.naver.com\\\\/kumh\\\\/222959842265\",\\n\\t\\t\\t\"description\":\"\\xec\\xa0\\x80 \\xeb\\x98\\x90\\xed\\x95\\x9c \\xec\\x9d\\xb4 \\xeb\\xb6\\x84\\xec\\x95\\xbc\\xec\\x97\\x90 \\xec\\xa4\\x91 \\xec\\x9b\\xb9 \\xea\\xb0\\x9c\\xeb\\xb0\\x9c\\xec\\x97\\x90 \\xea\\xb4\\x80\\xec\\x8b\\xac\\xec\\x9d\\xb4 \\xec\\x9e\\x88\\xec\\x97\\x88\\xea\\xb3\\xa0, \\xea\\xb4\\x80\\xeb\\xa0\\xa8\\xeb\\x90\\x9c \\xec\\xa7\\x80\\xec\\x8b\\x9d\\xec\\x9d\\xb4 \\xec\\x97\\x86\\xec\\x96\\xb4 \\xea\\xb8\\xb0\\xec\\xb4\\x88\\xeb\\xb6\\x80\\xed\\x84\\xb0 \\xec\\x8b\\x9c\\xec\\x9e\\x91\\xed\\x95\\xb4 \\xec\\xb2\\xb4\\xea\\xb3\\x84\\xec\\xa0\\x81\\xec\\x9c\\xbc\\xeb\\xa1\\x9c \\xeb\\xb0\\xb0\\xec\\x9b\\x8c\\xeb\\xb3\\xb4\\xea\\xb3\\xa0 \\xec\\x8b\\xb6\\xec\\x96\\xb4 <b>\\xed\\x8c\\x8c\\xec\\x9d\\xb4\\xec\\x8d\\xac<\\\\/b>\\xed\\x95\\x99\\xec\\x9b\\x90\\xec\\x9d\\x84 \\xec\\xb0\\xbe\\xec\\x95\\x84\\xea\\xb0\\x80\\xea\\xb2\\x8c \\xeb\\x90\\x98\\xec\\x97\\x88\\xec\\x96\\xb4\\xec\\x9a\\x94. <b>\\xed\\x8c\\x8c\\xec\\x9d\\xb4\\xec\\x8d\\xac<\\\\/b>\\xec\\x9d\\x80 \\xed\\x94\\x84\\xeb\\xa1\\x9c\\xea\\xb7\\xb8\\xeb\\x9e\\x98\\xeb\\xb0\\x8d\\xec\\x9d\\x84 \\xec\\x9e\\x85\\xeb\\xac\\xb8\\xec\\x9e\\x90\\xea\\xb0\\x80 \\xec\\xb2\\x98\\xec\\x9d\\x8c \\xec\\xa0\\x91\\xed\\x95\\x98\\xeb\\x8a\\x94 \\xea\\xb3\\xbc\\xec\\xa0\\x95\\xec\\x9d\\x98... \",\\n\\t\\t\\t\"bloggername\":\"\\xea\\xb9\\x8c\\xeb\\xb9\\x84\\xea\\xb9\\x8c\\xeb\\xb9\\x84\\xec\\x9d\\x98 \\xec\\xa7\\x80\\xec\\x8b\\x9d\\xec\\xb0\\xbd\\xea\\xb3\\xa0\",\\n\\t\\t\\t\"bloggerlink\":\"blog.naver.com\\\\/kumh\",\\n\\t\\t\\t\"postdate\":\"20221219\"\\n\\t\\t},\\n\\t\\t{\\n\\t\\t\\t\"title\":\"<b>\\xed\\x8c\\x8c\\xec\\x9d\\xb4\\xec\\x8d\\xac<\\\\/b>\\xed\\x95\\x99\\xec\\x9b\\x90 \\xeb\\x88\\x84\\xea\\xb5\\xac\\xeb\\x82\\x98 \\xea\\xb8\\xb0\\xec\\xb4\\x88\\xeb\\xb6\\x80\\xed\\x84\\xb0 \\xeb\\xb0\\xb0\\xec\\x9a\\xb8 \\xec\\x88\\x98 \\xec\\x9e\\x88\\xeb\\x8b\\xa4! \\xec\\xb7\\xa8\\xec\\x97\\x85\\xea\\xb9\\x8c\\xec\\xa7\\x80 \\xec\\x84\\xb1\\xea\\xb3\\xb5~\",\\n\\t\\t\\t\"link\":\"https:\\\\/\\\\/blog.naver.com\\\\/cksdlf227\\\\/222953636388\",\\n\\t\\t\\t\"description\":\"\\xea\\xb7\\xb8\\xeb\\x9e\\x98\\xec\\x84\\x9c \\xea\\xb3\\xa0\\xeb\\xaf\\xbc\\xed\\x95\\x98\\xeb\\x8b\\xa4 <b>\\xed\\x8c\\x8c\\xec\\x9d\\xb4\\xec\\x8d\\xac<\\\\/b>\\xed\\x95\\x99\\xec\\x9b\\x90\\xec\\x9d\\x84 \\xeb\\x8b\\xa4\\xeb\\x85\\x80\\xeb\\xb3\\xb4\\xea\\xb2\\x8c \\xeb\\x90\\x98\\xec\\x97\\x88\\xec\\xa3\\xa0. \\xec\\x9b\\x90\\xeb\\x9e\\x98\\xeb\\xb6\\x80\\xed\\x84\\xb0 \\xec\\x9b\\xb9\\xec\\x9d\\xb4\\xeb\\x82\\x98 \\xec\\x95\\xb1 \\xea\\xb0\\x9c\\xeb\\xb0\\x9c \\xed\\x95\\x98\\xeb\\x8a\\x94 \\xea\\xb3\\xbc\\xec\\xa0\\x95 \\xed\\x98\\xb9\\xec\\x9d\\x80 \\xec\\x9a\\x94\\xec\\xa6\\x98... \\xeb\\xac\\xb4\\xed\\x84\\xb1\\xeb\\x8c\\x80\\xea\\xb3\\xa0 \\xec\\xb7\\xa8\\xec\\xa4\\x80\\xec\\x9d\\x84 \\xed\\x95\\x98\\xea\\xb8\\xb0\\xec\\x97\\x94 \\xea\\xb4\\x80\\xec\\x8b\\xac\\xeb\\xa7\\x8c\\xec\\x9c\\xbc\\xeb\\xa1\\x9c \\xeb\\x8f\\x84\\xec\\xa0\\x84\\xed\\x95\\xa0 \\xec\\x88\\x98 \\xec\\x9e\\x88\\xeb\\x8a\\x94 \\xec\\x89\\xac\\xec\\x9a\\xb4 \\xeb\\xb6\\x84\\xec\\x95\\xbc\\xeb\\x8a\\x94 \\xec\\x95\\x84\\xeb\\x8b\\x88\\xeb\\x8b\\xa4\\xeb\\xb3\\xb4\\xeb\\x8b\\x88 <b>\\xed\\x8c\\x8c\\xec\\x9d\\xb4\\xec\\x8d\\xac<\\\\/b>\\xed\\x95\\x99\\xec\\x9b\\x90\\xec\\x9d\\x84 \\xeb\\x8b\\xa4\\xeb\\x8b\\x88\\xeb\\xa9\\xb4\\xec\\x84\\x9c \\xec\\xa0\\x9c\\xeb\\x8c\\x80\\xeb\\xa1\\x9c... \",\\n\\t\\t\\t\"bloggername\":\"\\xed\\x83\\x80\\xeb\\xb0\\x80&apos;s \\xec\\xb6\\x94\\xec\\x96\\xb5\\xec\\xb0\\xbd\\xea\\xb3\\xa0\",\\n\\t\\t\\t\"bloggerlink\":\"blog.naver.com\\\\/cksdlf227\",\\n\\t\\t\\t\"postdate\":\"20221212\"\\n\\t\\t},\\n\\t\\t{\\n\\t\\t\\t\"title\":\"<b>\\xed\\x8c\\x8c\\xec\\x9d\\xb4\\xec\\x8d\\xac<\\\\/b>\\xec\\x9e\\x90\\xea\\xb2\\xa9\\xec\\xa6\\x9d \\xec\\xa2\\x85\\xeb\\xa5\\x98\\xec\\x99\\x80 \\xed\\x9a\\xa8\\xec\\x9c\\xa8\\xec\\xa0\\x81\\xec\\x9d\\xb8 \\xec\\xb7\\xa8\\xeb\\x93\\x9d\\xeb\\xb2\\x95\",\\n\\t\\t\\t\"link\":\"https:\\\\/\\\\/blog.naver.com\\\\/togyu911\\\\/222989910925\",\\n\\t\\t\\t\"description\":\"\\xec\\x8b\\xa4\\xec\\xa0\\x9c\\xeb\\xa1\\x9c \\xeb\\xa7\\x8e\\xec\\x9d\\x80 \\xeb\\xb6\\x84\\xeb\\x93\\xa4\\xec\\x9d\\xb4 \\xed\\x94\\x84\\xeb\\xa1\\x9c\\xea\\xb7\\xb8\\xeb\\x9e\\x98\\xeb\\xb0\\x8d \\xec\\x96\\xb8\\xec\\x96\\xb4\\xeb\\x82\\x98 \\xec\\xbd\\x94\\xeb\\x94\\xa9\\xec\\x9d\\x84 \\xeb\\xb0\\xb0\\xec\\x9a\\xb0\\xeb\\x8a\\x94 \\xea\\xb2\\x83\\xec\\x9d\\x80 \\xeb\\xac\\xbc\\xeb\\xa1\\xa0, <b>\\xed\\x8c\\x8c\\xec\\x9d\\xb4\\xec\\x8d\\xac<\\\\/b>\\xec\\x9e\\x90\\xea\\xb2\\xa9\\xec\\xa6\\x9d \\xec\\xb7\\xa8\\xeb\\x93\\x9d\\xec\\x9c\\xbc\\xeb\\xa1\\x9c \\xea\\xb0\\x9c\\xeb\\xb0\\x9c\\xec\\xa7\\x81\\xea\\xb5\\xb0... \\xeb\\xb0\\x94\\xeb\\xa1\\x9c <b>\\xed\\x8c\\x8c\\xec\\x9d\\xb4\\xec\\x8d\\xac<\\\\/b>\\xec\\x9e\\x85\\xeb\\x8b\\x88\\xeb\\x8b\\xa4. \\xed\\x94\\x84\\xeb\\xa1\\xa0\\xed\\x8a\\xb8\\xec\\x97\\x94\\xeb\\x93\\x9c\\xeb\\xb6\\x80\\xed\\x84\\xb0 \\xeb\\xb0\\xb1\\xec\\x97\\x94\\xeb\\x93\\x9c\\xea\\xb9\\x8c\\xec\\xa7\\x80 \\xeb\\xaa\\xa8\\xeb\\x93\\xa0 \\xea\\xb3\\xbc\\xec\\xa0\\x95\\xec\\x97\\x90 \\xed\\x99\\x9c\\xec\\x9a\\xa9\\xed\\x95\\xa0 \\xec\\x88\\x98 \\xec\\x9e\\x88\\xeb\\x8a\\x94 \\xea\\xb2\\x83\\xec\\x9d\\x80 \\xeb\\xac\\xbc\\xeb\\xa1\\xa0\\xec\\x9d\\xb4\\xea\\xb3\\xa0\\xec\\x9a\\x94. \\xea\\xb0\\x80\\xec\\x9e\\xa5... \",\\n\\t\\t\\t\"bloggername\":\"IIS \\xec\\xa7\\x80\\xec\\x8b\\x9d\\xec\\xa0\\x95\\xeb\\xb3\\xb4\\xeb\\x84\\xa4\\xed\\x8a\\xb8\\xec\\x9b\\x8c\\xed\\x81\\xac\",\\n\\t\\t\\t\"bloggerlink\":\"blog.naver.com\\\\/togyu911\",\\n\\t\\t\\t\"postdate\":\"20230124\"\\n\\t\\t},\\n\\t\\t{\\n\\t\\t\\t\"title\":\"<b>\\xed\\x8c\\x8c\\xec\\x9d\\xb4\\xec\\x8d\\xac<\\\\/b>\\xed\\x95\\x99\\xec\\x9b\\x90 \\xec\\xb4\\x88\\xeb\\xb3\\xb4\\xec\\x9e\\x90\\xeb\\x8f\\x84 \\xeb\\xb0\\xb0\\xec\\x9a\\xb0\\xea\\xb8\\xb0 \\xec\\x89\\xac\\xec\\x9a\\xb4 \\xea\\xb5\\x90\\xec\\x9c\\xa1\\xea\\xb3\\xbc\\xec\\xa0\\x95\",\\n\\t\\t\\t\"link\":\"https:\\\\/\\\\/blog.naver.com\\\\/sow723\\\\/222891380393\",\\n\\t\\t\\t\"description\":\"\\xeb\\xac\\xbc\\xeb\\xa1\\xa0 \\xec\\xb2\\x98\\xec\\x9d\\x8c\\xeb\\xb6\\x80\\xed\\x84\\xb0 \\xeb\\x8b\\xa4\\xec\\x8b\\x9c \\xec\\x8b\\x9c\\xec\\x9e\\x91\\xed\\x95\\x9c\\xeb\\x8b\\xa4\\xeb\\x8a\\x94 \\xea\\xb2\\x83\\xec\\x9d\\xb4 \\xec\\x89\\xbd\\xec\\xa7\\x80\\xeb\\x8a\\x94 \\xec\\x95\\x8a\\xec\\x95\\x98\\xec\\xa7\\x80\\xeb\\xa7\\x8c \\xec\\x9d\\xb4\\xeb\\xb2\\x88\\xec\\x97\\x90\\xeb\\x8a\\x94 <b>\\xed\\x8c\\x8c\\xec\\x9d\\xb4\\xec\\x8d\\xac<\\\\/b>\\xed\\x95\\x99\\xec\\x9b\\x90\\xec\\x9d\\xb4\\xeb\\x9d\\xbc\\xeb\\x8f\\x84 \\xeb\\x8b\\xa4\\xeb\\x8b\\x88\\xeb\\xa9\\xb4\\xec\\x84\\x9c \\xec\\xa0\\x9c\\xeb\\x8c\\x80\\xeb\\xa1\\x9c... \\xec\\x9c\\x84\\xed\\x95\\xb4 <b>\\xed\\x8c\\x8c\\xec\\x9d\\xb4\\xec\\x8d\\xac<\\\\/b>\\xed\\x95\\x99\\xec\\x9b\\x90\\xeb\\xa7\\x8c\\xed\\x81\\xbc \\xec\\xa0\\x9c\\xeb\\x8c\\x80\\xeb\\xa1\\x9c \\xeb\\xb0\\xb0\\xec\\x9a\\xb8 \\xec\\x88\\x98 \\xec\\x9e\\x88\\xeb\\x8a\\x94 \\xea\\xb3\\xb3\\xec\\x9d\\x80 \\xec\\x97\\x86\\xec\\x97\\x88\\xec\\x96\\xb4\\xec\\x9a\\x94. \\xea\\xb7\\xb8\\xeb\\xa0\\x87\\xeb\\x8b\\xa4\\xeb\\xb3\\xb4\\xeb\\x8b\\x88 \\xec\\x96\\xb4\\xeb\\x94\\x94\\xec\\x84\\x9c \\xeb\\xb0\\xb0\\xec\\x9b\\x8c\\xec\\x95\\xbc\\xed\\x95\\xa0\\xec\\xa7\\x80 \\xea\\xbc\\xbc\\xea\\xbc\\xbc\\xed\\x95\\x98\\xea\\xb2\\x8c... \",\\n\\t\\t\\t\"bloggername\":\"Onelog\",\\n\\t\\t\\t\"bloggerlink\":\"blog.naver.com\\\\/sow723\",\\n\\t\\t\\t\"postdate\":\"20221004\"\\n\\t\\t},\\n\\t\\t{\\n\\t\\t\\t\"title\":\"<b>\\xed\\x8c\\x8c\\xec\\x9d\\xb4\\xec\\x8d\\xac<\\\\/b>\\xea\\xb5\\x90\\xec\\x9c\\xa1 \\xea\\xb8\\xb0\\xec\\xb4\\x88\\xeb\\xb6\\x80\\xed\\x84\\xb0 \\xec\\x8b\\xa4\\xeb\\xac\\xb4 \\xec\\x88\\x98\\xec\\x97\\x85 \\xea\\xb3\\xbc\\xec\\xa0\\x95 \\xec\\xa0\\x95\\xeb\\xa6\\xac\",\\n\\t\\t\\t\"link\":\"https:\\\\/\\\\/blog.naver.com\\\\/qant33\\\\/222962735573\",\\n\\t\\t\\t\"description\":\"\\xea\\xb2\\xb0\\xea\\xb5\\xad <b>\\xed\\x8c\\x8c\\xec\\x9d\\xb4\\xec\\x8d\\xac<\\\\/b>\\xea\\xb5\\x90\\xec\\x9c\\xa1\\xec\\x97\\x90 \\xeb\\x8c\\x80\\xed\\x95\\xb4\\xec\\x84\\x9c \\xec\\x82\\xb4\\xed\\x8e\\xb4 \\xeb\\xb3\\xb4\\xea\\xb2\\x8c \\xeb\\x90\\x98\\xec\\x97\\x88\\xec\\x8a\\xb5\\xeb\\x8b\\x88\\xeb\\x8b\\xa4. \\xec\\x95\\x84\\xeb\\xac\\xb4\\xeb\\x9e\\x98\\xeb\\x8f\\x84 \\xed\\x95\\xb4\\xeb\\x8b\\xb9 \\xeb\\xb6\\x84\\xec\\x95\\xbc\\xec\\x9d\\x98 \\xec\\xa7\\x80\\xec\\x8b\\x9d\\xec\\x9d\\xb4 \\xec\\x95\\x84\\xec\\x98\\x88 \\xec\\x97\\x86\\xeb\\x8a\\x94 \\xec\\x83\\x81\\xed\\x83\\x9c\\xec\\x97\\x90\\xec\\x84\\x9c... <b>\\xed\\x8c\\x8c\\xec\\x9d\\xb4\\xec\\x8d\\xac<\\\\/b>\\xea\\xb5\\x90\\xec\\x9c\\xa1\\xec\\x9d\\x80 \\xeb\\x8b\\xa4\\xec\\x96\\x91\\xed\\x95\\x9c \\xea\\xb3\\xb3\\xec\\x9d\\xb4 \\xec\\x9e\\x88\\xec\\x97\\x88\\xea\\xb8\\xb0 \\xeb\\x95\\x8c\\xeb\\xac\\xb8\\xec\\x97\\x90 \\xed\\x95\\x98\\xeb\\x82\\x98\\xed\\x95\\x98\\xeb\\x82\\x98 \\xec\\x83\\x81\\xeb\\x8b\\xb4\\xec\\x9d\\x84 \\xeb\\xb0\\x9b\\xec\\x9c\\xbc\\xeb\\xa9\\xb4\\xec\\x84\\x9c \\xeb\\x82\\xb4\\xea\\xb0\\x80 \\xec\\xb0\\xb8\\xec\\x97\\xac \\xed\\x95\\xa0 \\xec\\x88\\x98 \\xec\\x9e\\x88\\xeb\\x8a\\x94 \\xea\\xb3\\xb3\\xec\\x9d\\xb4 \\xec\\x96\\xb4\\xeb\\x94\\x94\\xec\\x9d\\xb8\\xec\\xa7\\x80\\xeb\\xa5\\xbc... \",\\n\\t\\t\\t\"bloggername\":\"\\xea\\xb8\\xb0\\xec\\x96\\xb5 \\xea\\xb7\\xb8\\xeb\\xa6\\xac\\xea\\xb3\\xa0 \\xea\\xb8\\xb0\\xeb\\xa1\\x9d \\xe2\\x99\\xa1\",\\n\\t\\t\\t\"bloggerlink\":\"blog.naver.com\\\\/qant33\",\\n\\t\\t\\t\"postdate\":\"20221222\"\\n\\t\\t}\\n\\t]\\n}'"
      ]
     },
     "execution_count": 7,
     "metadata": {},
     "output_type": "execute_result"
    }
   ],
   "source": [
    "# 글자로 읽을 경우, decode utf-8 설정\n",
    "response_body # 읽기가 어려움"
   ]
  },
  {
   "cell_type": "code",
   "execution_count": 8,
   "metadata": {},
   "outputs": [
    {
     "data": {
      "text/plain": [
       "'{\\n\\t\"lastBuildDate\":\"Wed, 01 Feb 2023 16:09:17 +0900\",\\n\\t\"total\":383953,\\n\\t\"start\":1,\\n\\t\"display\":10,\\n\\t\"items\":[\\n\\t\\t{\\n\\t\\t\\t\"title\":\"<b>파이썬<\\\\/b>학원 초보자를 위한 공부과정!\",\\n\\t\\t\\t\"link\":\"https:\\\\/\\\\/blog.naver.com\\\\/chzhvkdll\\\\/222931446581\",\\n\\t\\t\\t\"description\":\"그래서 제가 <b>파이썬<\\\\/b>학원을 다닌 계기과 장단점, 고민에 대해 써보도록 하겠습니다 :) 모두가 같을 수는... <b>파이썬<\\\\/b>학원 수강 신청한 건 대학 후배 중에 갑자기 전공 무관하게 그쪽으로 턴해서 공부하고 취직했단... \",\\n\\t\\t\\t\"bloggername\":\"에피\",\\n\\t\\t\\t\"bloggerlink\":\"blog.naver.com\\\\/chzhvkdll\",\\n\\t\\t\\t\"postdate\":\"20221118\"\\n\\t\\t},\\n\\t\\t{\\n\\t\\t\\t\"title\":\"<b>파이썬<\\\\/b> 자격증 취득 수업 내용 정리!\",\\n\\t\\t\\t\"link\":\"https:\\\\/\\\\/blog.naver.com\\\\/eunoia1017\\\\/222968873209\",\\n\\t\\t\\t\"description\":\"<b>파이썬<\\\\/b> 자격증 취득 수업 내용 정리! 많은 분들이 자신의 본 직업이나 N잡으로 코딩 한 번씩은 다... 오늘은 제가 왜 <b>파이썬<\\\\/b> 자격증을 취득하게 되었는지에 대한 글을 같이 써보려고 해요! <b>파이썬<\\\\/b> 자격증을... \",\\n\\t\\t\\t\"bloggername\":\"반짝반짝 빛나는\",\\n\\t\\t\\t\"bloggerlink\":\"blog.naver.com\\\\/eunoia1017\",\\n\\t\\t\\t\"postdate\":\"20221229\"\\n\\t\\t},\\n\\t\\t{\\n\\t\\t\\t\"title\":\"<b>파이썬<\\\\/b> 학원 선택 이유 및 수업과정\",\\n\\t\\t\\t\"link\":\"https:\\\\/\\\\/blog.naver.com\\\\/shek99\\\\/222983518965\",\\n\\t\\t\\t\"description\":\"그 중에서도 <b>파이썬<\\\\/b> 학원을 선택을 했어요. <b>파이썬<\\\\/b> 학원을 선택한 이유는 많은 코딩 프로그램 중 <b>파이썬<\\\\/b>이 가장 좋아 보였기 때문입니다. 이전에는 JAVA나 자바 스크립트, C언어를 많이 배웠는데 인터넷에서 좀... \",\\n\\t\\t\\t\"bloggername\":\"Humanity & Architecture 건축 인문\",\\n\\t\\t\\t\"bloggerlink\":\"blog.naver.com\\\\/shek99\",\\n\\t\\t\\t\"postdate\":\"20230113\"\\n\\t\\t},\\n\\t\\t{\\n\\t\\t\\t\"title\":\"부산코딩학원 <b>파이썬<\\\\/b> 개발 기초부터 배우기\",\\n\\t\\t\\t\"link\":\"https:\\\\/\\\\/blog.naver.com\\\\/cd34579\\\\/222947814795\",\\n\\t\\t\\t\"description\":\"좋지만 <b>파이썬<\\\\/b>이 업계에서 많이 쓰고 있기도 하고, 처음 배우기에는 가장 쉬운 언어라고 하셔서 <b>파이썬<\\\\/b> 기초반에 등록을 하게 되었습니다! 지금 생각해보면 <b>파이썬<\\\\/b>으로 시작하기 잘한 것 같아요. 프로그래밍은... \",\\n\\t\\t\\t\"bloggername\":\"행복바이러스^^\",\\n\\t\\t\\t\"bloggerlink\":\"blog.naver.com\\\\/cd34579\",\\n\\t\\t\\t\"postdate\":\"20221206\"\\n\\t\\t},\\n\\t\\t{\\n\\t\\t\\t\"title\":\"<b>파이썬<\\\\/b> 강의 취업 성공의 필수 학습전략\",\\n\\t\\t\\t\"link\":\"https:\\\\/\\\\/blog.naver.com\\\\/ansoeon\\\\/222962696977\",\\n\\t\\t\\t\"description\":\"그렇게 앞으로 뭘 하면서 살까 고민하다가 친구의 권유로 <b>파이썬<\\\\/b> 강의를 듣게 되었습니다. 처음엔 관심... 왜 하필 <b>파이썬<\\\\/b>이냐고 한다면 기존에 쓰던 프로그래밍 언어는 0과1로만 이루어진 이진수였는데요.... \",\\n\\t\\t\\t\"bloggername\":\"취미부자 짠테커 집사\",\\n\\t\\t\\t\"bloggerlink\":\"blog.naver.com\\\\/ansoeon\",\\n\\t\\t\\t\"postdate\":\"20221222\"\\n\\t\\t},\\n\\t\\t{\\n\\t\\t\\t\"title\":\"<b>파이썬<\\\\/b>학원 입문자도 수월한 학습과정\",\\n\\t\\t\\t\"link\":\"https:\\\\/\\\\/blog.naver.com\\\\/kumh\\\\/222959842265\",\\n\\t\\t\\t\"description\":\"저 또한 이 분야에 중 웹 개발에 관심이 있었고, 관련된 지식이 없어 기초부터 시작해 체계적으로 배워보고 싶어 <b>파이썬<\\\\/b>학원을 찾아가게 되었어요. <b>파이썬<\\\\/b>은 프로그래밍을 입문자가 처음 접하는 과정의... \",\\n\\t\\t\\t\"bloggername\":\"까비까비의 지식창고\",\\n\\t\\t\\t\"bloggerlink\":\"blog.naver.com\\\\/kumh\",\\n\\t\\t\\t\"postdate\":\"20221219\"\\n\\t\\t},\\n\\t\\t{\\n\\t\\t\\t\"title\":\"<b>파이썬<\\\\/b>학원 누구나 기초부터 배울 수 있다! 취업까지 성공~\",\\n\\t\\t\\t\"link\":\"https:\\\\/\\\\/blog.naver.com\\\\/cksdlf227\\\\/222953636388\",\\n\\t\\t\\t\"description\":\"그래서 고민하다 <b>파이썬<\\\\/b>학원을 다녀보게 되었죠. 원래부터 웹이나 앱 개발 하는 과정 혹은 요즘... 무턱대고 취준을 하기엔 관심만으로 도전할 수 있는 쉬운 분야는 아니다보니 <b>파이썬<\\\\/b>학원을 다니면서 제대로... \",\\n\\t\\t\\t\"bloggername\":\"타밀&apos;s 추억창고\",\\n\\t\\t\\t\"bloggerlink\":\"blog.naver.com\\\\/cksdlf227\",\\n\\t\\t\\t\"postdate\":\"20221212\"\\n\\t\\t},\\n\\t\\t{\\n\\t\\t\\t\"title\":\"<b>파이썬<\\\\/b>자격증 종류와 효율적인 취득법\",\\n\\t\\t\\t\"link\":\"https:\\\\/\\\\/blog.naver.com\\\\/togyu911\\\\/222989910925\",\\n\\t\\t\\t\"description\":\"실제로 많은 분들이 프로그래밍 언어나 코딩을 배우는 것은 물론, <b>파이썬<\\\\/b>자격증 취득으로 개발직군... 바로 <b>파이썬<\\\\/b>입니다. 프론트엔드부터 백엔드까지 모든 과정에 활용할 수 있는 것은 물론이고요. 가장... \",\\n\\t\\t\\t\"bloggername\":\"IIS 지식정보네트워크\",\\n\\t\\t\\t\"bloggerlink\":\"blog.naver.com\\\\/togyu911\",\\n\\t\\t\\t\"postdate\":\"20230124\"\\n\\t\\t},\\n\\t\\t{\\n\\t\\t\\t\"title\":\"<b>파이썬<\\\\/b>학원 초보자도 배우기 쉬운 교육과정\",\\n\\t\\t\\t\"link\":\"https:\\\\/\\\\/blog.naver.com\\\\/sow723\\\\/222891380393\",\\n\\t\\t\\t\"description\":\"물론 처음부터 다시 시작한다는 것이 쉽지는 않았지만 이번에는 <b>파이썬<\\\\/b>학원이라도 다니면서 제대로... 위해 <b>파이썬<\\\\/b>학원만큼 제대로 배울 수 있는 곳은 없었어요. 그렇다보니 어디서 배워야할지 꼼꼼하게... \",\\n\\t\\t\\t\"bloggername\":\"Onelog\",\\n\\t\\t\\t\"bloggerlink\":\"blog.naver.com\\\\/sow723\",\\n\\t\\t\\t\"postdate\":\"20221004\"\\n\\t\\t},\\n\\t\\t{\\n\\t\\t\\t\"title\":\"<b>파이썬<\\\\/b>교육 기초부터 실무 수업 과정 정리\",\\n\\t\\t\\t\"link\":\"https:\\\\/\\\\/blog.naver.com\\\\/qant33\\\\/222962735573\",\\n\\t\\t\\t\"description\":\"결국 <b>파이썬<\\\\/b>교육에 대해서 살펴 보게 되었습니다. 아무래도 해당 분야의 지식이 아예 없는 상태에서... <b>파이썬<\\\\/b>교육은 다양한 곳이 있었기 때문에 하나하나 상담을 받으면서 내가 참여 할 수 있는 곳이 어디인지를... \",\\n\\t\\t\\t\"bloggername\":\"기억 그리고 기록 ♡\",\\n\\t\\t\\t\"bloggerlink\":\"blog.naver.com\\\\/qant33\",\\n\\t\\t\\t\"postdate\":\"20221222\"\\n\\t\\t}\\n\\t]\\n}'"
      ]
     },
     "execution_count": 8,
     "metadata": {},
     "output_type": "execute_result"
    }
   ],
   "source": [
    "response_body.decode('utf-8') #디코드하니 읽을 수 있게 됨 그러나."
   ]
  },
  {
   "cell_type": "code",
   "execution_count": 9,
   "metadata": {},
   "outputs": [
    {
     "name": "stdout",
     "output_type": "stream",
     "text": [
      "{\n",
      "\t\"lastBuildDate\":\"Wed, 01 Feb 2023 16:09:17 +0900\",\n",
      "\t\"total\":383953,\n",
      "\t\"start\":1,\n",
      "\t\"display\":10,\n",
      "\t\"items\":[\n",
      "\t\t{\n",
      "\t\t\t\"title\":\"<b>파이썬<\\/b>학원 초보자를 위한 공부과정!\",\n",
      "\t\t\t\"link\":\"https:\\/\\/blog.naver.com\\/chzhvkdll\\/222931446581\",\n",
      "\t\t\t\"description\":\"그래서 제가 <b>파이썬<\\/b>학원을 다닌 계기과 장단점, 고민에 대해 써보도록 하겠습니다 :) 모두가 같을 수는... <b>파이썬<\\/b>학원 수강 신청한 건 대학 후배 중에 갑자기 전공 무관하게 그쪽으로 턴해서 공부하고 취직했단... \",\n",
      "\t\t\t\"bloggername\":\"에피\",\n",
      "\t\t\t\"bloggerlink\":\"blog.naver.com\\/chzhvkdll\",\n",
      "\t\t\t\"postdate\":\"20221118\"\n",
      "\t\t},\n",
      "\t\t{\n",
      "\t\t\t\"title\":\"<b>파이썬<\\/b> 자격증 취득 수업 내용 정리!\",\n",
      "\t\t\t\"link\":\"https:\\/\\/blog.naver.com\\/eunoia1017\\/222968873209\",\n",
      "\t\t\t\"description\":\"<b>파이썬<\\/b> 자격증 취득 수업 내용 정리! 많은 분들이 자신의 본 직업이나 N잡으로 코딩 한 번씩은 다... 오늘은 제가 왜 <b>파이썬<\\/b> 자격증을 취득하게 되었는지에 대한 글을 같이 써보려고 해요! <b>파이썬<\\/b> 자격증을... \",\n",
      "\t\t\t\"bloggername\":\"반짝반짝 빛나는\",\n",
      "\t\t\t\"bloggerlink\":\"blog.naver.com\\/eunoia1017\",\n",
      "\t\t\t\"postdate\":\"20221229\"\n",
      "\t\t},\n",
      "\t\t{\n",
      "\t\t\t\"title\":\"<b>파이썬<\\/b> 학원 선택 이유 및 수업과정\",\n",
      "\t\t\t\"link\":\"https:\\/\\/blog.naver.com\\/shek99\\/222983518965\",\n",
      "\t\t\t\"description\":\"그 중에서도 <b>파이썬<\\/b> 학원을 선택을 했어요. <b>파이썬<\\/b> 학원을 선택한 이유는 많은 코딩 프로그램 중 <b>파이썬<\\/b>이 가장 좋아 보였기 때문입니다. 이전에는 JAVA나 자바 스크립트, C언어를 많이 배웠는데 인터넷에서 좀... \",\n",
      "\t\t\t\"bloggername\":\"Humanity & Architecture 건축 인문\",\n",
      "\t\t\t\"bloggerlink\":\"blog.naver.com\\/shek99\",\n",
      "\t\t\t\"postdate\":\"20230113\"\n",
      "\t\t},\n",
      "\t\t{\n",
      "\t\t\t\"title\":\"부산코딩학원 <b>파이썬<\\/b> 개발 기초부터 배우기\",\n",
      "\t\t\t\"link\":\"https:\\/\\/blog.naver.com\\/cd34579\\/222947814795\",\n",
      "\t\t\t\"description\":\"좋지만 <b>파이썬<\\/b>이 업계에서 많이 쓰고 있기도 하고, 처음 배우기에는 가장 쉬운 언어라고 하셔서 <b>파이썬<\\/b> 기초반에 등록을 하게 되었습니다! 지금 생각해보면 <b>파이썬<\\/b>으로 시작하기 잘한 것 같아요. 프로그래밍은... \",\n",
      "\t\t\t\"bloggername\":\"행복바이러스^^\",\n",
      "\t\t\t\"bloggerlink\":\"blog.naver.com\\/cd34579\",\n",
      "\t\t\t\"postdate\":\"20221206\"\n",
      "\t\t},\n",
      "\t\t{\n",
      "\t\t\t\"title\":\"<b>파이썬<\\/b> 강의 취업 성공의 필수 학습전략\",\n",
      "\t\t\t\"link\":\"https:\\/\\/blog.naver.com\\/ansoeon\\/222962696977\",\n",
      "\t\t\t\"description\":\"그렇게 앞으로 뭘 하면서 살까 고민하다가 친구의 권유로 <b>파이썬<\\/b> 강의를 듣게 되었습니다. 처음엔 관심... 왜 하필 <b>파이썬<\\/b>이냐고 한다면 기존에 쓰던 프로그래밍 언어는 0과1로만 이루어진 이진수였는데요.... \",\n",
      "\t\t\t\"bloggername\":\"취미부자 짠테커 집사\",\n",
      "\t\t\t\"bloggerlink\":\"blog.naver.com\\/ansoeon\",\n",
      "\t\t\t\"postdate\":\"20221222\"\n",
      "\t\t},\n",
      "\t\t{\n",
      "\t\t\t\"title\":\"<b>파이썬<\\/b>학원 입문자도 수월한 학습과정\",\n",
      "\t\t\t\"link\":\"https:\\/\\/blog.naver.com\\/kumh\\/222959842265\",\n",
      "\t\t\t\"description\":\"저 또한 이 분야에 중 웹 개발에 관심이 있었고, 관련된 지식이 없어 기초부터 시작해 체계적으로 배워보고 싶어 <b>파이썬<\\/b>학원을 찾아가게 되었어요. <b>파이썬<\\/b>은 프로그래밍을 입문자가 처음 접하는 과정의... \",\n",
      "\t\t\t\"bloggername\":\"까비까비의 지식창고\",\n",
      "\t\t\t\"bloggerlink\":\"blog.naver.com\\/kumh\",\n",
      "\t\t\t\"postdate\":\"20221219\"\n",
      "\t\t},\n",
      "\t\t{\n",
      "\t\t\t\"title\":\"<b>파이썬<\\/b>학원 누구나 기초부터 배울 수 있다! 취업까지 성공~\",\n",
      "\t\t\t\"link\":\"https:\\/\\/blog.naver.com\\/cksdlf227\\/222953636388\",\n",
      "\t\t\t\"description\":\"그래서 고민하다 <b>파이썬<\\/b>학원을 다녀보게 되었죠. 원래부터 웹이나 앱 개발 하는 과정 혹은 요즘... 무턱대고 취준을 하기엔 관심만으로 도전할 수 있는 쉬운 분야는 아니다보니 <b>파이썬<\\/b>학원을 다니면서 제대로... \",\n",
      "\t\t\t\"bloggername\":\"타밀&apos;s 추억창고\",\n",
      "\t\t\t\"bloggerlink\":\"blog.naver.com\\/cksdlf227\",\n",
      "\t\t\t\"postdate\":\"20221212\"\n",
      "\t\t},\n",
      "\t\t{\n",
      "\t\t\t\"title\":\"<b>파이썬<\\/b>자격증 종류와 효율적인 취득법\",\n",
      "\t\t\t\"link\":\"https:\\/\\/blog.naver.com\\/togyu911\\/222989910925\",\n",
      "\t\t\t\"description\":\"실제로 많은 분들이 프로그래밍 언어나 코딩을 배우는 것은 물론, <b>파이썬<\\/b>자격증 취득으로 개발직군... 바로 <b>파이썬<\\/b>입니다. 프론트엔드부터 백엔드까지 모든 과정에 활용할 수 있는 것은 물론이고요. 가장... \",\n",
      "\t\t\t\"bloggername\":\"IIS 지식정보네트워크\",\n",
      "\t\t\t\"bloggerlink\":\"blog.naver.com\\/togyu911\",\n",
      "\t\t\t\"postdate\":\"20230124\"\n",
      "\t\t},\n",
      "\t\t{\n",
      "\t\t\t\"title\":\"<b>파이썬<\\/b>학원 초보자도 배우기 쉬운 교육과정\",\n",
      "\t\t\t\"link\":\"https:\\/\\/blog.naver.com\\/sow723\\/222891380393\",\n",
      "\t\t\t\"description\":\"물론 처음부터 다시 시작한다는 것이 쉽지는 않았지만 이번에는 <b>파이썬<\\/b>학원이라도 다니면서 제대로... 위해 <b>파이썬<\\/b>학원만큼 제대로 배울 수 있는 곳은 없었어요. 그렇다보니 어디서 배워야할지 꼼꼼하게... \",\n",
      "\t\t\t\"bloggername\":\"Onelog\",\n",
      "\t\t\t\"bloggerlink\":\"blog.naver.com\\/sow723\",\n",
      "\t\t\t\"postdate\":\"20221004\"\n",
      "\t\t},\n",
      "\t\t{\n",
      "\t\t\t\"title\":\"<b>파이썬<\\/b>교육 기초부터 실무 수업 과정 정리\",\n",
      "\t\t\t\"link\":\"https:\\/\\/blog.naver.com\\/qant33\\/222962735573\",\n",
      "\t\t\t\"description\":\"결국 <b>파이썬<\\/b>교육에 대해서 살펴 보게 되었습니다. 아무래도 해당 분야의 지식이 아예 없는 상태에서... <b>파이썬<\\/b>교육은 다양한 곳이 있었기 때문에 하나하나 상담을 받으면서 내가 참여 할 수 있는 곳이 어디인지를... \",\n",
      "\t\t\t\"bloggername\":\"기억 그리고 기록 ♡\",\n",
      "\t\t\t\"bloggerlink\":\"blog.naver.com\\/qant33\",\n",
      "\t\t\t\"postdate\":\"20221222\"\n",
      "\t\t}\n",
      "\t]\n",
      "}\n"
     ]
    }
   ],
   "source": [
    "print(response_body.decode('utf-8')) #print문으로 감싸면 딕셔너리 형태로 정렬이 되어 나타냄"
   ]
  },
  {
   "cell_type": "markdown",
   "metadata": {},
   "source": [
    "## 검색: 책(book)"
   ]
  },
  {
   "cell_type": "code",
   "execution_count": 10,
   "metadata": {},
   "outputs": [
    {
     "name": "stdout",
     "output_type": "stream",
     "text": [
      "{\n",
      "\t\"lastBuildDate\":\"Wed, 01 Feb 2023 16:09:18 +0900\",\n",
      "\t\"total\":824,\n",
      "\t\"start\":1,\n",
      "\t\"display\":10,\n",
      "\t\"items\":[\n",
      "\t\t{\n",
      "\t\t\t\"title\":\"혼자 공부하는 파이썬 (1:1 과외하듯 배우는 프로그래밍 자습서)\",\n",
      "\t\t\t\"link\":\"https:\\/\\/search.shopping.naver.com\\/book\\/catalog\\/32507605957\",\n",
      "\t\t\t\"image\":\"https:\\/\\/shopping-phinf.pstatic.net\\/main_3250760\\/32507605957.20221019133018.jpg\",\n",
      "\t\t\t\"author\":\"윤인성\",\n",
      "\t\t\t\"discount\":\"19800\",\n",
      "\t\t\t\"publisher\":\"한빛미디어\",\n",
      "\t\t\t\"pubdate\":\"20220601\",\n",
      "\t\t\t\"isbn\":\"9791162245651\",\n",
      "\t\t\t\"description\":\"『혼자 공부하는 파이썬』이 더욱 흥미있고 알찬 내용으로 개정되었습니다. 프로그래밍이 정말 처음인 입문자도 따라갈 수 있는 친절한 설명과 단계별 학습은 그대로! 혼자 공부하더라도 체계적으로 계획을 세워 학습할 수 있도록 ‘혼공 계획표’를 새롭게 추가했습니다. 또한 입문자가 자주 물어보는 질문과 오류 해결 방법을 적재적소에 배치하여 예상치 못한 문제에 부딪혀도 좌절하지 않고 끝까지 완독할 수 있도록 도와줍니다. 단순한 문법 암기와 코딩 따라하기에 지쳤다면, 새로운 혼공파와 함께 ‘누적 예제’와 ‘도전 문제’로 프로그래밍의 신세계를 경험해 보세요! 배운 내용을 씹고 뜯고 맛보고 즐기다 보면 응용력은 물론 알고리즘 사고력까지 키워 코딩 실력이 쑥쑥 성장할 것입니다.\\n\\n혼자 해도 충분하다! 1:1 과외하듯 배우는 파이썬 프로그래밍 자습서\\n이 책은 독학으로 파이썬을 배우는 입문자가 ‘꼭 필요한 내용을 제대로 학습’할 수 있도록 구성했습니다. 뭘 모르는지조차 모르는 입문자의 막연한 마음에 십분 공감하여 과외 선생님이 알려주듯 친절하게, 핵심적인 내용만 콕콕 집어줍니다. 책의 첫 페이지를 펼쳐서 마지막 페이지를 덮을 때까지, 혼자서도 충분히 파이썬을 배울 수 있다는 자신감과 확신이 계속될 것입니다!\\n\\n베타리더 검증으로, ‘함께 만든’ 입문자 맞춤형 도서\\n베타리더와 함께 입문자에게 맞는 난이도, 분량, 학습 요소 등을 적극 반영했습니다. 어려운 용어와 개념은 한 번 더 풀어쓰고, 복잡한 설명은 눈에 잘 들어오는 그림으로 풀어냈습니다. ‘혼자 공부해 본’ 여러 입문자의 초심과 눈높이가 책 곳곳에 반영된 것이 이 책의 가장 큰 장점입니다.\"\n",
      "\t\t},\n",
      "\t\t{\n",
      "\t\t\t\"title\":\"파이썬과 40개의 작품들 (자동화, 크롤링, 이미지처리, 데이터분석, 웹페이지, GUI 프로그램, 게임)\",\n",
      "\t\t\t\"link\":\"https:\\/\\/search.shopping.naver.com\\/book\\/catalog\\/32472041705\",\n",
      "\t\t\t\"image\":\"https:\\/\\/shopping-phinf.pstatic.net\\/main_3247204\\/32472041705.20221019105332.jpg\",\n",
      "\t\t\t\"author\":\"장문철\",\n",
      "\t\t\t\"discount\":\"16920\",\n",
      "\t\t\t\"publisher\":\"앤써북\",\n",
      "\t\t\t\"pubdate\":\"20220228\",\n",
      "\t\t\t\"isbn\":\"9791185553931\",\n",
      "\t\t\t\"description\":\"이 책은 내 업무와 생활에 바로 적용할 수 있는 40개의 프로그램을 직접 코딩해서 만들어보고, 동시에 파이썬을 자연스럽게 이해할 수 있게 구성하였다!\\n\\n파이썬 기초 문법 떼고 자동화, 크롤링, 이미지처리, 데이터분석, 웹페이지, GUI 프로그램, 게임, 인공지능 관련 40개 프로그램 직접 파이썬 코딩하며 만들어 본다.  \\n\\n이 책은 파이썬 기초 문법을 익힌 후 총 40개의 주제별 프로그램을 직접 코딩하며 만들어볼 수 있도록 구성하였다.\"\n",
      "\t\t},\n",
      "\t\t{\n",
      "\t\t\t\"title\":\"파이썬으로 배우는 음성인식 (음성인식의 기술 발전 동향부터 파이토치를 활용한 딥러닝 실습까지)\",\n",
      "\t\t\t\"link\":\"https:\\/\\/search.shopping.naver.com\\/book\\/catalog\\/36955616623\",\n",
      "\t\t\t\"image\":\"https:\\/\\/shopping-phinf.pstatic.net\\/main_3695561\\/36955616623.20230131163056.jpg\",\n",
      "\t\t\t\"author\":\"다카시마 료이치\",\n",
      "\t\t\t\"discount\":\"24300\",\n",
      "\t\t\t\"publisher\":\"비제이퍼블릭\",\n",
      "\t\t\t\"pubdate\":\"20230109\",\n",
      "\t\t\t\"isbn\":\"9791165921828\",\n",
      "\t\t\t\"description\":\"음성인식의 기초부터 파이토치를 활용한 딥러닝 실습까지,\\n파이썬으로 배우는 음성인식 도서 출간!\\n\\n음성인식이란 음성 신호로부터 발화 내용을 인식하는 기술, 즉 컴퓨터가 사람의 음성을 신호로 인식하여 처리하는 기술이다. AI 스피커와 스마트폰 음성 어시스턴트 등 음성인식 기술들은 이미 우리의 일상생활 속으로 깊이 스며들어 있다. 음성 번역 시스템의 전처리 단계, 회의록 자동 작성 시스템 등 다양한 곳에서 음성인식 기술이 사용된다. 특히나 음성인식 기술은 손을 사용하지 않고(Hands-free) 기계를 작동시킬 수 있어, 차량 내비게이션과의 연동 혹은 신체장애인의 입력 장치 등 다양한 방면에서 성장이 기대되는 기술이다.\\n\\n이 책은 지금까지의 음성인식 기술의 역사와 기술 발전 동향을 이해하고, 파이썬과 파이토치를 통해 최신 음성인식 시스템을 실습한다. 음성인식의 목적이나 알고리즘의 개요를 설명하고, 소스 코드를 상세하게 분석하고, 마지막으로 소스 코드를 첨부하여 독자들이 직접 구현할 수 있도록 한다. 특히 인공지능기술이 만들어진 목적이나, 해당 기술로 목적을 달성할 수 있을지에 대해 명확히 제시한다. 이 책은 음성인식을 제대로 구현하고자 하는 개발자 및 학부생에게 꼭 필요한 필독서가 될 것이다.\"\n",
      "\t\t},\n",
      "\t\t{\n",
      "\t\t\t\"title\":\"Do it! 게임 10개 만들며 배우는 파이썬 (누구나 이 책으로 파이썬 레벨 업!)\",\n",
      "\t\t\t\"link\":\"https:\\/\\/search.shopping.naver.com\\/book\\/catalog\\/36361929626\",\n",
      "\t\t\t\"image\":\"https:\\/\\/shopping-phinf.pstatic.net\\/main_3636192\\/36361929626.20221213162907.jpg\",\n",
      "\t\t\t\"author\":\"벤 포터^쉬무엘 포터\",\n",
      "\t\t\t\"discount\":\"19800\",\n",
      "\t\t\t\"publisher\":\"이지스퍼블리싱\",\n",
      "\t\t\t\"pubdate\":\"20221215\",\n",
      "\t\t\t\"isbn\":\"9791163034230\",\n",
      "\t\t\t\"description\":\"간단한 게임부터 텍스트 RPG 게임, 그래픽 레이싱 게임까지 완성하며 \\n나의 파이썬 코딩 실력을 레벨 업 해보자\\n\\n동전 던지기나 가위바위보와 같은 간단한 게임부터 그래픽을 이용한 레이싱 게임까지 게임 10가지와 다른 여러 게임을 완성해 보면서 파이썬 문법과 프로그래밍을 배울 수 있습니다. 이 책은 실습 예제 113개를 제공하는 등 이론보다 실습 위주로 구성했습니다. 1~24장까지 프로그램을 완성하는 코드를 작성한 뒤, 하나하나 설명하여 독자들이 파이썬 문법뿐만 아니라 프로그래밍 원리를 자연스럽게 체득할 수 있도록 돕습니다.\\n또한 파이썬 기본 함수와 클래스, 딕셔너리, 라이브러리 등을 소개하고 활용해 볼 수 있도록 했습니다. 단위 테스트, 디버깅, 코드 최적화와 외부화, 리팩터링 등 코드를 관리하는 기술까지 익혀 ‘진짜’ 프로그래머가 되는 길로 안내합니다. \\n\\n이런 게임과 프로그램을 만들 수 있어요!\\nㆍ 채운 단어에 따라 이야기가 만들어지는 단어 채우기 게임을 만들 수 있어요.\\nㆍ 동전 던지기 게임과 주사위 던지기 게임으로 선택이나 무작위 숫자를 얻을 수 있어요. \\nㆍ 생일을 계산해 태어난 요일을 알아맞히는 계산 게임을 만들 수 있어요.\\nㆍ 컴퓨터와 가위! 바위! 보! 대결을 할 수 있어요.\\nㆍ 나만의 게임에서 메시지를 암호화할 수 있어요.  \\nㆍ 스무고개를 하듯 숫자를 맞히는 게임을 만들 수 있어요. \\nㆍ ‘행맨’ 게임으로 알려진 단어 맞히기 게임을 기획부터 개발까지 모두 할 수 있어요. \\nㆍ 우주를 배경으로 한 텍스트 RPG 게임을 만들 수 있어요. \\nㆍ 복잡한 도로에서 마주 오는 다른 차를 피하는 레이싱 게임을 만들 수 있어요. \\nㆍ 그 밖에 내 생일이 얼마나 남았는지 알 수 있는 카운트다운 프로그램, 팁을 계산하기 위한 서비스 팁 계산기, 웹 사이트 비밀번호를 만들기 위한 비밀번호 생성기까지 다양한 프로그램을 만들 수 있어요.\"\n",
      "\t\t},\n",
      "\t\t{\n",
      "\t\t\t\"title\":\"혼자 공부하는 데이터 분석 with 파이썬 (1:1 과외하듯 배우는 데이터 분석 자습서)\",\n",
      "\t\t\t\"link\":\"https:\\/\\/search.shopping.naver.com\\/book\\/catalog\\/36555425618\",\n",
      "\t\t\t\"image\":\"https:\\/\\/shopping-phinf.pstatic.net\\/main_3655542\\/36555425618.20230103163017.jpg\",\n",
      "\t\t\t\"author\":\"박해선\",\n",
      "\t\t\t\"discount\":\"23400\",\n",
      "\t\t\t\"publisher\":\"한빛미디어\",\n",
      "\t\t\t\"pubdate\":\"20230102\",\n",
      "\t\t\t\"isbn\":\"9791169210287\",\n",
      "\t\t\t\"description\":\"혼자 해도 충분하다! 1:1 과외하듯 배우는 데이터 분석 자습서\\n\\n이 책은 독학으로 데이터 분석을 배우는 입문자가 ‘꼭 필요한 내용을 제대로 학습’할 수 있도록 구성했습니다. 뭘 모르는지조차 모르는 입문자의 막연한 마음에 십분 공감하여 과외 선생님이 알려주듯 친절하게, 핵심적인 내용만 콕콕 집어 줍니다. 책의 첫 페이지를 펼쳐서 마지막 페이지를 덮을 때까지, 혼자서도 충분히 데이터 분석을 배울 수 있다는 자신감과 확신이 계속될 것입니다!\\n\\n베타리더 검증으로, ‘함께 만든’ 입문자 맞춤형 도서\\n베타리더와 함께 입문자에게 맞는 난이도, 분량, 학습 요소 등을 고민하고 이를 적극 반영했습니다. 어려운 용어와 개념은 한 번 더 풀어쓰고, 복잡한 설명은 눈에 잘 들어오는 그림으로 풀어냈습니다. ‘혼자 공부해 본’ 여러 입문자의 초심과 눈높이가 책 곳곳에 반영된 것이 이 책의 가장 큰 장점입니다.\\n\\n누구를 위한 책인가요?\\n\\n●\\t데이터 분석을 어떻게 시작할지 막막한 비전공자\\n●\\t파이썬을 배운 다음 의미 있는 실습을 해 보고 싶은 파이썬 입문자\\n●\\t프로그래밍은 알지만, 분석(통계)에 대한 이해가 필요한 개발자\\n●\\t데이터에서 유의미한 결과를 도출해 이를 기획이나 마케팅에 적용해 보고 싶은 직장인\\n●\\t데이터 분석가, 데이터 사이언티스트라는 직업에 관심 있는 모든 사람\"\n",
      "\t\t},\n",
      "\t\t{\n",
      "\t\t\t\"title\":\"Do it! 점프 투 파이썬 (이미 200만명이 이 책으로 프로그래밍을 시작했다!)\",\n",
      "\t\t\t\"link\":\"https:\\/\\/search.shopping.naver.com\\/book\\/catalog\\/32456895000\",\n",
      "\t\t\t\"image\":\"https:\\/\\/shopping-phinf.pstatic.net\\/main_3245689\\/32456895000.20230117163337.jpg\",\n",
      "\t\t\t\"author\":\"박응용\",\n",
      "\t\t\t\"discount\":\"16250\",\n",
      "\t\t\t\"publisher\":\"이지스퍼블리싱\",\n",
      "\t\t\t\"pubdate\":\"20190620\",\n",
      "\t\t\t\"isbn\":\"9791163030911\",\n",
      "\t\t\t\"description\":\"파이썬 4년 연속 베스트셀러 1위!\\n《Do it! 점프 투 파이썬》 전면 개정판 출시!\\n\\n문과생도 중고등학생도 직장인도 프로그래밍에 눈뜨게 만든 바로 그 책이 전면 개정판으로 새로 태어났다! 2016년 《Do it! 점프 투 파이썬》으로 출간되었던 이 책은 약 4년 동안의 피드백을 반영하여 초보자가 더 빠르게 입문하고, 더 깊이 있게 공부할 수 있도록 개정되었다. 특히 ‘나 혼자 코딩’과 ‘코딩 면허 시험 20제’ 등 독자의 학습 흐름에 맞게 문제를 보강한 점이 눈에 띈다. 실습량도 두 배로 늘었다.\\n\\n4년 동안 압도적 1위! 위키독스 누적 방문 200만! 수많은 대학 및 학원의 교재 채택 등! 검증은 이미 끝났다. 코딩을 처음 배우는 중고등학생부터 나만의 경쟁력이 필요한 문과생, 데이터 분석과 인공지능\\/머신러닝으로 커리어를 뻗어 나가고 싶은 직장인까지! 프로그래밍의 세계에 풍덩 빠져 보자.\"\n",
      "\t\t},\n",
      "\t\t{\n",
      "\t\t\t\"title\":\"Do it! 알고리즘 코딩 테스트: 파이썬 편 (코딩 테스트를 처음 준비하는 취준생의 필독서!)\",\n",
      "\t\t\t\"link\":\"https:\\/\\/search.shopping.naver.com\\/book\\/catalog\\/33938438618\",\n",
      "\t\t\t\"image\":\"https:\\/\\/shopping-phinf.pstatic.net\\/main_3393843\\/33938438618.20230117163208.jpg\",\n",
      "\t\t\t\"author\":\"김종관\",\n",
      "\t\t\t\"discount\":\"28800\",\n",
      "\t\t\t\"publisher\":\"이지스퍼블리싱\",\n",
      "\t\t\t\"pubdate\":\"20220816\",\n",
      "\t\t\t\"isbn\":\"9791163033936\",\n",
      "\t\t\t\"description\":\"기출 유형 분석부터 문제 풀이 비법까지\\n코딩 테스트를 처음 준비하는 IT 기업 취준생의 필독서!\\n\\n“코딩 테스트를 제대로 준비하려면 어떤 문제를 얼마나 풀어야 할까?” 곧 코딩 테스트를 앞둔 취업 또는 이직 준비생이라면 누구나 이런 고민을 할 것이다. 《Do it! 알고리즘 코딩 테스트 - 파이썬 편》에 그 답이 있다. 네이버, 카카오, 삼성, 라인 등 주요 IT 기업의 시험에 나오는 알고리즘 내용이 모두 담겨 있어 책 한 권만으로 코딩 테스트 합격에 필요한 지식을 충분히 공부할 수 있다. 책에 수록된 알고리즘 문제 100개는 모두 최신 기출 유형을 반영하고 있어서 이 책의 문제만 다 풀면 당장 코딩 테스트를 볼 수 있는 수준까지 실력을 갖출 수 있다. 모든 문제는 ‘분석, 전략, 슈도코드, 코드 구현’까지 총 4단계를 거쳐 푸는데, 이렇게 문제를 푸는 습관까지 자기 것으로 만든다면 진짜 시험에서 어떤 문제를 만나든 실수 없이 해결할 수 있을 것이다.\"\n",
      "\t\t},\n",
      "\t\t{\n",
      "\t\t\t\"title\":\"데이터 분석가가 반드시 알아야 할 모든 것 (파이썬 코드와 캐글 데이터셋으로 실습하는)\",\n",
      "\t\t\t\"link\":\"https:\\/\\/search.shopping.naver.com\\/book\\/catalog\\/37078886621\",\n",
      "\t\t\t\"image\":\"https:\\/\\/shopping-phinf.pstatic.net\\/main_3707888\\/37078886621.20230131165323.jpg\",\n",
      "\t\t\t\"author\":\"황세웅\",\n",
      "\t\t\t\"discount\":\"34200\",\n",
      "\t\t\t\"publisher\":\"위키북스\",\n",
      "\t\t\t\"pubdate\":\"20230119\",\n",
      "\t\t\t\"isbn\":\"9791158393816\",\n",
      "\t\t\t\"description\":\"데이터 분석과 머신러닝의 각 업무 단계를 깊이 있게 이해하자!\\n\\n이 책은 데이터 분석의 기초 체력이라 할 수 있는 통계학부터 필수적인 머신러닝 기법까지를 다룹니다. 처음 비즈니스 문제를 정의하는 단계부터 데이터 준비, 모델링 및 평가, 그리고 스토리텔링까지, 데이터 분석가라면 반드시 알아야 하는 모든 내용이 이 책에 있습니다. 불필요한 수식과 이론을 최소화하고 비전공자라도 개념을 쉽게 이해할 수 있게 구성했습니다. 과거와 현재 데이터로 현상을 올바르게 이해하고 미래를 예측하여 의미 있는 비즈니스 인사이트를 얻는 방법을 이 책에서 배울 수 있습니다.\\n\\n★ 이 책에서 다루는 내용 ★\\n\\n◎ 데이터 분석에 필수적인 통계학의 기본 개념\\n◎ 데이터 편향과 인지적 편향\\n◎ 비즈니스 문제를 정의하고 데이터 분석의 목적을 도출하는 방법\\n◎ 데이터 분석 환경 구성\\n◎ 데이터 탐색과 시각화\\n◎ 주요 머신러닝 알고리즘과 모델 성능 평가 기법\\n◎ A\\/B 테스트와 MAB\"\n",
      "\t\t},\n",
      "\t\t{\n",
      "\t\t\t\"title\":\"파이썬 알고리즘 인터뷰 (95가지 알고리즘 문제 풀이로 완성하는 코딩 테스트)\",\n",
      "\t\t\t\"link\":\"https:\\/\\/search.shopping.naver.com\\/book\\/catalog\\/32456486633\",\n",
      "\t\t\t\"image\":\"https:\\/\\/shopping-phinf.pstatic.net\\/main_3245648\\/32456486633.20230131165222.jpg\",\n",
      "\t\t\t\"author\":\"박상길\",\n",
      "\t\t\t\"discount\":\"34200\",\n",
      "\t\t\t\"publisher\":\"책만\",\n",
      "\t\t\t\"pubdate\":\"20200715\",\n",
      "\t\t\t\"isbn\":\"9791189909178\",\n",
      "\t\t\t\"description\":\"코딩 테스트와 인터뷰를 준비하는 취준생과 이직자를 위한 \\n알고리즘 문제 풀이 완벽 마스터!\\n\\n세계 최고 온라인 문제 풀이 사이트인 리트코드(LeetCode)의 기출문제 풀이와 분석! 200여 개가 넘는 일러스트를 통해 알고리즘과 자료구조 이론을 한눈에 쉽게 익힐 수 있음은 물론, 파이썬으로 구현하는 코드 풀이를 통해 성능 최적화 기법, 파이썬의 핵심 문법과 다양한 실용 테크닉까지 배울 수 있는, 초보 개발자와 숙련 개발자 모두를 위한 책이다.\\n\\n마이크로소프트와 구글을 필두로 전 세계 개발자 채용의 첫 관문이 된 코딩 인터뷰! 주요 기업에서 실시하는 코딩 테스트의 기출 문제를 분석하고 상세한 문제 풀이와 해설을 통해 취업과 이직에 한발짝 다가서자. 이 책은 현업과 실무에 유용한 주요 알고리즘 이론을 깊숙이 이해하고, 파이썬의 핵심 기능과 문법까지 상세하게 이해할 수 있는 취업용 코딩 테스트를 위한 완벽 가이드다. 이 책을 다 읽고 나면, “왜 알고리즘을 공부하는가?”라는 질문에 대한 해답을 얻을 것이다.\"\n",
      "\t\t},\n",
      "\t\t{\n",
      "\t\t\t\"title\":\"CODING BASICS PYTHON (파이썬)\",\n",
      "\t\t\t\"link\":\"https:\\/\\/search.shopping.naver.com\\/book\\/catalog\\/32440944646\",\n",
      "\t\t\t\"image\":\"https:\\/\\/shopping-phinf.pstatic.net\\/main_3244094\\/32440944646.20221019135252.jpg\",\n",
      "\t\t\t\"author\":\"김상민^장성식^김일태\",\n",
      "\t\t\t\"discount\":\"18000\",\n",
      "\t\t\t\"publisher\":\"렉스미디어닷넷\",\n",
      "\t\t\t\"pubdate\":\"20220210\",\n",
      "\t\t\t\"isbn\":\"9788959604210\",\n",
      "\t\t\t\"description\":\"파이썬으로 다지는 프로그래밍의 기초\\n\\nㆍ 다양한 예제를 활용하여 초보자도 쉽게 프로그래밍의 기본을 익힐 수 있는 파이썬 입문서입니다.\\nㆍ 문법을 사전식으로 나열하지 않고 기능적인 프로그램을 하나씩 완성하면서 익힐 수 있게 구성했습니다.\\nㆍ 단계별로 완성하는 장별 예제 및 연습문제를 바탕으로 자신만의 프로그램을 완성할 수 있습니다.\"\n",
      "\t\t}\n",
      "\t]\n",
      "}\n"
     ]
    }
   ],
   "source": [
    "# 네이버 검색 API 예제 - 책(book) 검색\n",
    "import os\n",
    "import sys\n",
    "import urllib.request\n",
    "client_id = \"ASDl_ovqs4IQHIPCRcjR\"\n",
    "client_secret = \"jtjCmXfkdJ\"\n",
    "encText = urllib.parse.quote(\"파이썬\")\n",
    "#urllib.parse.quote(): 한글로 된 글자를 utf-8로 변환해줌\n",
    "url = \"https://openapi.naver.com/v1/search/book?query=\" + encText # JSON 결과 #book으로 바꿔줌\n",
    "# url = \"https://openapi.naver.com/v1/search/blog.xml?query=\" + encText # XML 결과\n",
    "request = urllib.request.Request(url)\n",
    "request.add_header(\"X-Naver-Client-Id\",client_id)\n",
    "request.add_header(\"X-Naver-Client-Secret\",client_secret)\n",
    "response = urllib.request.urlopen(request)\n",
    "rescode = response.getcode() #200이 떴는지 확인하는 코드\n",
    "if(rescode==200):\n",
    "    response_body = response.read()\n",
    "    print(response_body.decode('utf-8'))\n",
    "else:\n",
    "    print(\"Error Code:\" + rescode)"
   ]
  },
  {
   "cell_type": "markdown",
   "metadata": {},
   "source": [
    "## 검색: 영화(movie)"
   ]
  },
  {
   "cell_type": "code",
   "execution_count": 11,
   "metadata": {},
   "outputs": [
    {
     "name": "stdout",
     "output_type": "stream",
     "text": [
      "{\n",
      "\t\"lastBuildDate\":\"Wed, 01 Feb 2023 16:09:18 +0900\",\n",
      "\t\"total\":1,\n",
      "\t\"start\":1,\n",
      "\t\"display\":1,\n",
      "\t\"items\":[\n",
      "\t\t{\n",
      "\t\t\t\"title\":\"<b>파이썬<\\/b> 앤 가드\",\n",
      "\t\t\t\"link\":\"https:\\/\\/movie.naver.com\\/movie\\/bi\\/mi\\/basic.nhn?code=152070\",\n",
      "\t\t\t\"image\":\"https:\\/\\/ssl.pstatic.net\\/imgmovie\\/mdi\\/mit110\\/1520\\/152070_P01_145336.jpg\",\n",
      "\t\t\t\"subtitle\":\"PYTHON AND GUARD\",\n",
      "\t\t\t\"pubDate\":\"2015\",\n",
      "\t\t\t\"director\":\"안톤 디아코프|\",\n",
      "\t\t\t\"actor\":\"\",\n",
      "\t\t\t\"userRating\":\"0.00\"\n",
      "\t\t}\n",
      "\t]\n",
      "}\n"
     ]
    }
   ],
   "source": [
    "# 네이버 검색 API 예제 - 영화(movie) 검색\n",
    "import os\n",
    "import sys\n",
    "import urllib.request\n",
    "client_id = \"ASDl_ovqs4IQHIPCRcjR\"\n",
    "client_secret = \"jtjCmXfkdJ\"\n",
    "encText = urllib.parse.quote(\"파이썬\")\n",
    "#urllib.parse.quote(): 한글로 된 글자를 utf-8로 변환해줌\n",
    "url = \"https://openapi.naver.com/v1/search/movie?query=\" + encText # JSON 결과 #movie로 바꿔줌\n",
    "# url = \"https://openapi.naver.com/v1/search/blog.xml?query=\" + encText # XML 결과\n",
    "request = urllib.request.Request(url)\n",
    "request.add_header(\"X-Naver-Client-Id\",client_id)\n",
    "request.add_header(\"X-Naver-Client-Secret\",client_secret)\n",
    "response = urllib.request.urlopen(request)\n",
    "rescode = response.getcode() #200이 떴는지 확인하는 코드\n",
    "if(rescode==200):\n",
    "    response_body = response.read()\n",
    "    print(response_body.decode('utf-8'))\n",
    "else:\n",
    "    print(\"Error Code:\" + rescode)"
   ]
  },
  {
   "attachments": {},
   "cell_type": "markdown",
   "metadata": {},
   "source": [
    "## 검색: 카페(cafearticle)"
   ]
  },
  {
   "cell_type": "code",
   "execution_count": 12,
   "metadata": {},
   "outputs": [
    {
     "name": "stdout",
     "output_type": "stream",
     "text": [
      "{\n",
      "\t\"lastBuildDate\":\"Wed, 01 Feb 2023 16:09:18 +0900\",\n",
      "\t\"total\":155916,\n",
      "\t\"start\":1,\n",
      "\t\"display\":10,\n",
      "\t\"items\":[\n",
      "\t\t{\n",
      "\t\t\t\"title\":\"<b>파이썬<\\/b> vs C언어\",\n",
      "\t\t\t\"link\":\"http:\\/\\/cafe.naver.com\\/mathall\\/2564974\",\n",
      "\t\t\t\"description\":\"고수님들의 현명한 답변 기다립니다 <b>파이썬<\\/b>을 가르친다는 학원은 저희 집에서 차로 15분 거리라서 제가... 제가 라이딩이 힘든 건 아니니 그건 감안하고 <b>파이썬<\\/b> vs C언어 중 어느 학원을 선택해야 아이한테 도움이 될까요?\",\n",
      "\t\t\t\"cafename\":\"[상위1%카페] 대한민국 상위1% 교육정...\",\n",
      "\t\t\t\"cafeurl\":\"https:\\/\\/cafe.naver.com\\/mathall\"\n",
      "\t\t},\n",
      "\t\t{\n",
      "\t\t\t\"title\":\"<b>파이썬<\\/b> FFT 연산 시간과 맥 성능에 관한 질문\",\n",
      "\t\t\t\"link\":\"http:\\/\\/cafe.naver.com\\/inmacbook\\/2596939\",\n",
      "\t\t\t\"description\":\"제가 사용중인 모델은 맥북 에어 m1 \\/ 8gb 램 \\/ ssd 256 인 기본 모델인데요, vscode랑 콘다 이용해서 <b>파이썬<\\/b>... 여기서 제가 궁금한거는 위와 같은 <b>파이썬<\\/b> 연산에 가장 크게 영향을 미치는게 무엇인지 궁금합니다.... \",\n",
      "\t\t\t\"cafename\":\"맥 쓰는 사람들 [구 맥북을 쓰는 사람...\",\n",
      "\t\t\t\"cafeurl\":\"https:\\/\\/cafe.naver.com\\/inmacbook\"\n",
      "\t\t},\n",
      "\t\t{\n",
      "\t\t\t\"title\":\"<b>파이썬<\\/b> 인강으로 2주만에 <b>파이썬<\\/b> 기초 정복하기!\",\n",
      "\t\t\t\"link\":\"http:\\/\\/cafe.naver.com\\/winspec\\/424954\",\n",
      "\t\t\t\"description\":\"<b>파이썬<\\/b> 인강 <b>파이썬<\\/b> 인강으로 독학 <b>파이썬<\\/b> 인강으로 <b>파이썬<\\/b> 기초 독학 안녕하세요 오늘 전해드릴 정보는 <b>파이썬<\\/b> 인강으로 <b>파이썬<\\/b> 기초 독학하는 방법과 관련된 내용입니다. <b>파이썬<\\/b> 독학에 관심 있으신 분들께 오늘... \",\n",
      "\t\t\t\"cafename\":\"윈스펙｜자기계발, 내일배움카드, 토익...\",\n",
      "\t\t\t\"cafeurl\":\"https:\\/\\/cafe.naver.com\\/winspec\"\n",
      "\t\t},\n",
      "\t\t{\n",
      "\t\t\t\"title\":\"<b>파이썬<\\/b>책 추천 부탁드려요~\",\n",
      "\t\t\t\"link\":\"http:\\/\\/cafe.naver.com\\/mathall\\/2559132\",\n",
      "\t\t\t\"description\":\"급 <b>파이썬<\\/b>을 공부하고 싶다고... 알*딘에서 상위에 있는 점프 투 <b>파이썬<\\/b>이라는 책을 샀더니 아이가 원하는 책이 아니라고 해서 급반품신청 해놨어요. 예전에 c언어, c++ 책 살때도 요상한 책을 샀던 기억이 있어요ㅜ\",\n",
      "\t\t\t\"cafename\":\"[상위1%카페] 대한민국 상위1% 교육정...\",\n",
      "\t\t\t\"cafeurl\":\"https:\\/\\/cafe.naver.com\\/mathall\"\n",
      "\t\t},\n",
      "\t\t{\n",
      "\t\t\t\"title\":\"죽전고2 정보(선택과목) <b>파이썬<\\/b> 공부하면 될까요?\",\n",
      "\t\t\t\"link\":\"http:\\/\\/cafe.naver.com\\/jookjeonmom\\/1353945\",\n",
      "\t\t\t\"description\":\"예비고2 선택을 정보로 했는데, 코딩 전혀 못하는 아들이라 내신 걱정을 많이 합니다. 프로그램 언어도 <b>파이썬<\\/b>, c언어, 자바 여러가지가 있던데 죽전고 2는 <b>파이썬<\\/b> 공부하면 될까요?\",\n",
      "\t\t\t\"cafename\":\"죽전 마북 보정 엄마들의 카페\",\n",
      "\t\t\t\"cafeurl\":\"https:\\/\\/cafe.naver.com\\/jookjeonmom\"\n",
      "\t\t},\n",
      "\t\t{\n",
      "\t\t\t\"title\":\"<b>파이썬<\\/b> 온라인 교육 추천 부탁드려요! ( 왕초보 )\",\n",
      "\t\t\t\"link\":\"http:\\/\\/cafe.naver.com\\/dieselmania\\/40530935\",\n",
      "\t\t\t\"description\":\"안녕하세요~ 직장 생활하면서 <b>파이썬<\\/b>과 같은 언어를 다룰 줄 알면 확실히 도움되는 상황이 많은거 같아 혼자 조금씩 공부를 해 나가고 싶은데요 여태 접해본적이 없어서, , 온라인 교육을 통해서 알아가고 싶습니다.... \",\n",
      "\t\t\t\"cafename\":\"●디젤매니아● 대한민국 일등 패션 커...\",\n",
      "\t\t\t\"cafeurl\":\"https:\\/\\/cafe.naver.com\\/dieselmania\"\n",
      "\t\t},\n",
      "\t\t{\n",
      "\t\t\t\"title\":\"m2 <b>파이썬<\\/b>으로 인공지능 코딩을 배우려는데요ㅠㅠ\",\n",
      "\t\t\t\"link\":\"http:\\/\\/cafe.naver.com\\/inmacbook\\/2597364\",\n",
      "\t\t\t\"description\":\"<b>파이썬<\\/b> 3.8.x 버전 다운받고 비주얼스튜디오에서 개발한다고 하는데 윈도우 버전 밖에 안나와있어서요.. 그냥 <b>파이썬<\\/b> 맥os 버전으로 다운 받기만 하고 쭉쭉 다운받으면 되나요??\",\n",
      "\t\t\t\"cafename\":\"맥 쓰는 사람들 [구 맥북을 쓰는 사람...\",\n",
      "\t\t\t\"cafeurl\":\"https:\\/\\/cafe.naver.com\\/inmacbook\"\n",
      "\t\t},\n",
      "\t\t{\n",
      "\t\t\t\"title\":\"<b>파이썬<\\/b> 강의로 비전공자도 기초 마스터 가능!\",\n",
      "\t\t\t\"link\":\"http:\\/\\/cafe.naver.com\\/winspec\\/422490\",\n",
      "\t\t\t\"description\":\"<b>파이썬<\\/b> 강의 <b>파이썬<\\/b> 비전공자 강의 추천 <b>파이썬<\\/b> 강의 추천 IT의 중요성이 커지고, 프로그래밍 관련된 직무가 다양화됨에따라 <b>파이썬<\\/b>, 자바, c언어 와 같은 프로그래밍 언어를 자주 들어보셨을텐데요, 이러한 IT 역량은... \",\n",
      "\t\t\t\"cafename\":\"윈스펙｜자기계발, 내일배움카드, 토익...\",\n",
      "\t\t\t\"cafeurl\":\"https:\\/\\/cafe.naver.com\\/winspec\"\n",
      "\t\t},\n",
      "\t\t{\n",
      "\t\t\t\"title\":\"<b>파이썬<\\/b> 코딩스쿨 후기입니당~~~\",\n",
      "\t\t\t\"link\":\"http:\\/\\/cafe.naver.com\\/yangmom\\/548067\",\n",
      "\t\t\t\"description\":\"양평 맘 카페를 통해 모집한 <b>파이썬<\\/b> 코딩스쿨(진로탐색 프로그램)이 1월 5일부터 4회(1회 1시간 20분) 진행한 수업을 잘 끝마쳤습니다. 생각보다는 아이들이 <b>파이썬<\\/b> 코딩을 재미있어하고 잘 따라와서 나름 즐겁게 수업을... \",\n",
      "\t\t\t\"cafename\":\"양평 맘`s 전원 Story\",\n",
      "\t\t\t\"cafeurl\":\"https:\\/\\/cafe.naver.com\\/yangmom\"\n",
      "\t\t},\n",
      "\t\t{\n",
      "\t\t\t\"title\":\"20년차 개발자의 투자법 with <b>파이썬<\\/b>\",\n",
      "\t\t\t\"link\":\"http:\\/\\/cafe.naver.com\\/rechts\\/57565\",\n",
      "\t\t\t\"description\":\"종목 선정이나 매매 시점은 <b>파이썬<\\/b>을 이용해서 투자하고 있습니다. 제가 <b>파이썬<\\/b>으로 투자한다고 했더니 몇 몇 분께서 이런 댓글을 주셨습니다. &quot;인공지능으로는 주가를 예측할 수 없다~&quot; &quot;그게 될 거면 옛날에도 되었을... \",\n",
      "\t\t\t\"cafename\":\"보수적인 투자자는 마음이 편하다\",\n",
      "\t\t\t\"cafeurl\":\"https:\\/\\/cafe.naver.com\\/rechts\"\n",
      "\t\t}\n",
      "\t]\n",
      "}\n"
     ]
    }
   ],
   "source": [
    "# 네이버 검색 API 예제 - 카페(cafearticle) 검색\n",
    "import os\n",
    "import sys\n",
    "import urllib.request\n",
    "client_id = \"ASDl_ovqs4IQHIPCRcjR\"\n",
    "client_secret = \"jtjCmXfkdJ\"\n",
    "encText = urllib.parse.quote(\"파이썬\")\n",
    "#urllib.parse.quote(): 한글로 된 글자를 utf-8로 변환해줌\n",
    "url = \"https://openapi.naver.com/v1/search/cafearticle?query=\" + encText # JSON 결과 #cafearticle로 바꿔줌\n",
    "# url = \"https://openapi.naver.com/v1/search/blog.xml?query=\" + encText # XML 결과\n",
    "request = urllib.request.Request(url)\n",
    "request.add_header(\"X-Naver-Client-Id\",client_id)\n",
    "request.add_header(\"X-Naver-Client-Secret\",client_secret)\n",
    "response = urllib.request.urlopen(request)\n",
    "rescode = response.getcode() #200이 떴는지 확인하는 코드\n",
    "if(rescode==200):\n",
    "    response_body = response.read()\n",
    "    print(response_body.decode('utf-8'))\n",
    "else:\n",
    "    print(\"Error Code:\" + rescode)"
   ]
  },
  {
   "cell_type": "markdown",
   "metadata": {},
   "source": [
    "## 검색: 쇼핑(shop)"
   ]
  },
  {
   "cell_type": "code",
   "execution_count": 13,
   "metadata": {},
   "outputs": [
    {
     "name": "stdout",
     "output_type": "stream",
     "text": [
      "{\n",
      "\t\"lastBuildDate\":\"Wed, 01 Feb 2023 16:09:18 +0900\",\n",
      "\t\"total\":153090,\n",
      "\t\"start\":1,\n",
      "\t\"display\":10,\n",
      "\t\"items\":[\n",
      "\t\t{\n",
      "\t\t\t\"title\":\"잘모이 셀리나 리얼 <b>파이톤<\\/b> 뉴 빅 토트백 ZA-4022\",\n",
      "\t\t\t\"link\":\"https:\\/\\/search.shopping.naver.com\\/gate.nhn?id=35683981989\",\n",
      "\t\t\t\"image\":\"https:\\/\\/shopping-phinf.pstatic.net\\/main_3568398\\/35683981989.20221107081401.jpg\",\n",
      "\t\t\t\"lprice\":\"165540\",\n",
      "\t\t\t\"hprice\":\"\",\n",
      "\t\t\t\"mallName\":\"네이버\",\n",
      "\t\t\t\"productId\":\"35683981989\",\n",
      "\t\t\t\"productType\":\"1\",\n",
      "\t\t\t\"brand\":\"잘모이\",\n",
      "\t\t\t\"maker\":\"\",\n",
      "\t\t\t\"category1\":\"패션잡화\",\n",
      "\t\t\t\"category2\":\"여성가방\",\n",
      "\t\t\t\"category3\":\"토트백\",\n",
      "\t\t\t\"category4\":\"\"\n",
      "\t\t},\n",
      "\t\t{\n",
      "\t\t\t\"title\":\"잘모이 잘모이 셀리나 리얼 <b>파이톤<\\/b> 미니 토트백 ZA-4023\",\n",
      "\t\t\t\"link\":\"https:\\/\\/search.shopping.naver.com\\/gate.nhn?id=36054367842\",\n",
      "\t\t\t\"image\":\"https:\\/\\/shopping-phinf.pstatic.net\\/main_3605436\\/36054367842.20221124042000.jpg\",\n",
      "\t\t\t\"lprice\":\"109790\",\n",
      "\t\t\t\"hprice\":\"\",\n",
      "\t\t\t\"mallName\":\"네이버\",\n",
      "\t\t\t\"productId\":\"36054367842\",\n",
      "\t\t\t\"productType\":\"1\",\n",
      "\t\t\t\"brand\":\"잘모이\",\n",
      "\t\t\t\"maker\":\"\",\n",
      "\t\t\t\"category1\":\"패션잡화\",\n",
      "\t\t\t\"category2\":\"여성가방\",\n",
      "\t\t\t\"category3\":\"토트백\",\n",
      "\t\t\t\"category4\":\"\"\n",
      "\t\t},\n",
      "\t\t{\n",
      "\t\t\t\"title\":\"잘모이 셀리나 리얼 <b>파이톤<\\/b> 빅 토트백 LTZ-5216\",\n",
      "\t\t\t\"link\":\"https:\\/\\/search.shopping.naver.com\\/gate.nhn?id=29022581772\",\n",
      "\t\t\t\"image\":\"https:\\/\\/shopping-phinf.pstatic.net\\/main_2902258\\/29022581772.20210929033957.jpg\",\n",
      "\t\t\t\"lprice\":\"169090\",\n",
      "\t\t\t\"hprice\":\"\",\n",
      "\t\t\t\"mallName\":\"네이버\",\n",
      "\t\t\t\"productId\":\"29022581772\",\n",
      "\t\t\t\"productType\":\"1\",\n",
      "\t\t\t\"brand\":\"잘모이\",\n",
      "\t\t\t\"maker\":\"\",\n",
      "\t\t\t\"category1\":\"패션잡화\",\n",
      "\t\t\t\"category2\":\"여성가방\",\n",
      "\t\t\t\"category3\":\"토트백\",\n",
      "\t\t\t\"category4\":\"\"\n",
      "\t\t},\n",
      "\t\t{\n",
      "\t\t\t\"title\":\"잘모이 버티칼 <b>파이톤<\\/b> 나일론백 POW T-1029\",\n",
      "\t\t\t\"link\":\"https:\\/\\/search.shopping.naver.com\\/gate.nhn?id=37511638758\",\n",
      "\t\t\t\"image\":\"https:\\/\\/shopping-phinf.pstatic.net\\/main_3751163\\/37511638758.20230129165916.jpg\",\n",
      "\t\t\t\"lprice\":\"55970\",\n",
      "\t\t\t\"hprice\":\"\",\n",
      "\t\t\t\"mallName\":\"네이버\",\n",
      "\t\t\t\"productId\":\"37511638758\",\n",
      "\t\t\t\"productType\":\"1\",\n",
      "\t\t\t\"brand\":\"잘모이\",\n",
      "\t\t\t\"maker\":\"\",\n",
      "\t\t\t\"category1\":\"패션잡화\",\n",
      "\t\t\t\"category2\":\"여성가방\",\n",
      "\t\t\t\"category3\":\"토트백\",\n",
      "\t\t\t\"category4\":\"\"\n",
      "\t\t},\n",
      "\t\t{\n",
      "\t\t\t\"title\":\"고세핸드백 크로스 <b>파이톤<\\/b>핸들백 KC1401K\",\n",
      "\t\t\t\"link\":\"https:\\/\\/search.shopping.naver.com\\/gate.nhn?id=36054374343\",\n",
      "\t\t\t\"image\":\"https:\\/\\/shopping-phinf.pstatic.net\\/main_3605437\\/36054374343.20230107023759.jpg\",\n",
      "\t\t\t\"lprice\":\"54810\",\n",
      "\t\t\t\"hprice\":\"\",\n",
      "\t\t\t\"mallName\":\"네이버\",\n",
      "\t\t\t\"productId\":\"36054374343\",\n",
      "\t\t\t\"productType\":\"1\",\n",
      "\t\t\t\"brand\":\"고세\",\n",
      "\t\t\t\"maker\":\"고세\",\n",
      "\t\t\t\"category1\":\"패션잡화\",\n",
      "\t\t\t\"category2\":\"여성가방\",\n",
      "\t\t\t\"category3\":\"토트백\",\n",
      "\t\t\t\"category4\":\"\"\n",
      "\t\t},\n",
      "\t\t{\n",
      "\t\t\t\"title\":\"최초가 538 000원 잘모이 라피네 <b>파이톤<\\/b> 핸드백 CHK-5093\",\n",
      "\t\t\t\"link\":\"https:\\/\\/search.shopping.naver.com\\/gate.nhn?id=37317524131\",\n",
      "\t\t\t\"image\":\"https:\\/\\/shopping-phinf.pstatic.net\\/main_3731752\\/37317524131.20230119194337.jpg\",\n",
      "\t\t\t\"lprice\":\"233110\",\n",
      "\t\t\t\"hprice\":\"\",\n",
      "\t\t\t\"mallName\":\"네이버\",\n",
      "\t\t\t\"productId\":\"37317524131\",\n",
      "\t\t\t\"productType\":\"1\",\n",
      "\t\t\t\"brand\":\"잘모이\",\n",
      "\t\t\t\"maker\":\"\",\n",
      "\t\t\t\"category1\":\"패션잡화\",\n",
      "\t\t\t\"category2\":\"여성가방\",\n",
      "\t\t\t\"category3\":\"토트백\",\n",
      "\t\t\t\"category4\":\"\"\n",
      "\t\t},\n",
      "\t\t{\n",
      "\t\t\t\"title\":\"피오레또 <b>파이톤<\\/b> 르망 Le Mans 미니 토트크로스백 1종\",\n",
      "\t\t\t\"link\":\"https:\\/\\/search.shopping.naver.com\\/gate.nhn?id=34403765825\",\n",
      "\t\t\t\"image\":\"https:\\/\\/shopping-phinf.pstatic.net\\/main_3440376\\/34403765825.20220901070751.jpg\",\n",
      "\t\t\t\"lprice\":\"204570\",\n",
      "\t\t\t\"hprice\":\"\",\n",
      "\t\t\t\"mallName\":\"네이버\",\n",
      "\t\t\t\"productId\":\"34403765825\",\n",
      "\t\t\t\"productType\":\"1\",\n",
      "\t\t\t\"brand\":\"\",\n",
      "\t\t\t\"maker\":\"\",\n",
      "\t\t\t\"category1\":\"패션잡화\",\n",
      "\t\t\t\"category2\":\"여성가방\",\n",
      "\t\t\t\"category3\":\"토트백\",\n",
      "\t\t\t\"category4\":\"\"\n",
      "\t\t},\n",
      "\t\t{\n",
      "\t\t\t\"title\":\"잘모이 리얼 <b>파이톤<\\/b> 셀리나 빅 토트\",\n",
      "\t\t\t\"link\":\"https:\\/\\/search.shopping.naver.com\\/gate.nhn?id=26501844713\",\n",
      "\t\t\t\"image\":\"https:\\/\\/shopping-phinf.pstatic.net\\/main_2650184\\/26501844713.20220331033013.jpg\",\n",
      "\t\t\t\"lprice\":\"276210\",\n",
      "\t\t\t\"hprice\":\"\",\n",
      "\t\t\t\"mallName\":\"네이버\",\n",
      "\t\t\t\"productId\":\"26501844713\",\n",
      "\t\t\t\"productType\":\"1\",\n",
      "\t\t\t\"brand\":\"잘모이\",\n",
      "\t\t\t\"maker\":\"\",\n",
      "\t\t\t\"category1\":\"패션잡화\",\n",
      "\t\t\t\"category2\":\"여성가방\",\n",
      "\t\t\t\"category3\":\"토트백\",\n",
      "\t\t\t\"category4\":\"\"\n",
      "\t\t},\n",
      "\t\t{\n",
      "\t\t\t\"title\":\"올리비아로렌 NC15 <b>파이톤<\\/b> 소가죽 토트백 VYCUBXF7211\",\n",
      "\t\t\t\"link\":\"https:\\/\\/search.shopping.naver.com\\/gate.nhn?id=33730405477\",\n",
      "\t\t\t\"image\":\"https:\\/\\/shopping-phinf.pstatic.net\\/main_3373040\\/33730405477.20220728053513.jpg\",\n",
      "\t\t\t\"lprice\":\"92910\",\n",
      "\t\t\t\"hprice\":\"\",\n",
      "\t\t\t\"mallName\":\"네이버\",\n",
      "\t\t\t\"productId\":\"33730405477\",\n",
      "\t\t\t\"productType\":\"1\",\n",
      "\t\t\t\"brand\":\"올리비아로렌\",\n",
      "\t\t\t\"maker\":\"세정\",\n",
      "\t\t\t\"category1\":\"패션잡화\",\n",
      "\t\t\t\"category2\":\"여성가방\",\n",
      "\t\t\t\"category3\":\"토트백\",\n",
      "\t\t\t\"category4\":\"\"\n",
      "\t\t},\n",
      "\t\t{\n",
      "\t\t\t\"title\":\"소가죽 초미니 토트 <b>파이톤<\\/b> 악어 손 가방 h3093\",\n",
      "\t\t\t\"link\":\"https:\\/\\/search.shopping.naver.com\\/gate.nhn?id=35711783636\",\n",
      "\t\t\t\"image\":\"https:\\/\\/shopping-phinf.pstatic.net\\/main_3571178\\/35711783636.20221108152844.jpg\",\n",
      "\t\t\t\"lprice\":\"54800\",\n",
      "\t\t\t\"hprice\":\"\",\n",
      "\t\t\t\"mallName\":\"네이버\",\n",
      "\t\t\t\"productId\":\"35711783636\",\n",
      "\t\t\t\"productType\":\"1\",\n",
      "\t\t\t\"brand\":\"\",\n",
      "\t\t\t\"maker\":\"\",\n",
      "\t\t\t\"category1\":\"패션잡화\",\n",
      "\t\t\t\"category2\":\"여성가방\",\n",
      "\t\t\t\"category3\":\"토트백\",\n",
      "\t\t\t\"category4\":\"\"\n",
      "\t\t}\n",
      "\t]\n",
      "}\n"
     ]
    }
   ],
   "source": [
    "# 네이버 검색 API 예제 - 쇼핑(shop) 검색\n",
    "import os\n",
    "import sys\n",
    "import urllib.request\n",
    "client_id = \"ASDl_ovqs4IQHIPCRcjR\"\n",
    "client_secret = \"jtjCmXfkdJ\"\n",
    "encText = urllib.parse.quote(\"파이썬\")\n",
    "#urllib.parse.quote(): 한글로 된 글자를 utf-8로 변환해줌\n",
    "url = \"https://openapi.naver.com/v1/search/shop?query=\" + encText # JSON 결과 #shop으로 바꿔줌\n",
    "# url = \"https://openapi.naver.com/v1/search/blog.xml?query=\" + encText # XML 결과\n",
    "request = urllib.request.Request(url)\n",
    "request.add_header(\"X-Naver-Client-Id\",client_id)\n",
    "request.add_header(\"X-Naver-Client-Secret\",client_secret)\n",
    "response = urllib.request.urlopen(request)\n",
    "rescode = response.getcode() #200이 떴는지 확인하는 코드\n",
    "if(rescode==200):\n",
    "    response_body = response.read()\n",
    "    print(response_body.decode('utf-8'))\n",
    "else:\n",
    "    print(\"Error Code:\" + rescode)"
   ]
  },
  {
   "cell_type": "markdown",
   "metadata": {},
   "source": [
    "## 검색: 백과사전(encyc)"
   ]
  },
  {
   "cell_type": "code",
   "execution_count": 14,
   "metadata": {},
   "outputs": [
    {
     "name": "stdout",
     "output_type": "stream",
     "text": [
      "{\n",
      "\t\"lastBuildDate\":\"Wed, 01 Feb 2023 16:09:18 +0900\",\n",
      "\t\"total\":521,\n",
      "\t\"start\":1,\n",
      "\t\"display\":10,\n",
      "\t\"items\":[\n",
      "\t\t{\n",
      "\t\t\t\"title\":\"<b>파이썬<\\/b>\",\n",
      "\t\t\t\"link\":\"https:\\/\\/terms.naver.com\\/entry.naver?docId=3580815&cid=59088&categoryId=59096\",\n",
      "\t\t\t\"description\":\"‘<b>파이썬<\\/b>’이다. 간결한 문법으로 입문자가 이해하기 쉽고, 다양한 분야에 활용할 수 있기 때문이다. 이 외에도 <b>파이썬<\\/b>은 머신러닝, 그래픽, 웹 개발 등 여러 업계에서 선호하는 언어로 꾸준히... \",\n",
      "\t\t\t\"thumbnail\":\"http:\\/\\/openapi-dbscthumb.phinf.naver.net\\/4749_000_1\\/20170118193349632_0CHSSS5Y6.png\\/01_16.png?type=m160_160\"\n",
      "\t\t},\n",
      "\t\t{\n",
      "\t\t\t\"title\":\"<b>파이썬<\\/b>\",\n",
      "\t\t\t\"link\":\"https:\\/\\/terms.naver.com\\/entry.naver?docId=3607513&cid=58598&categoryId=59316\",\n",
      "\t\t\t\"description\":\" 컴퓨터 언어의 일종으로 간결하고 생산성 높은 프로그래밍 언어.  <b>파이썬<\\/b>(python)은 프로그램을 설계하는 프로그래밍 언어 중 하나입니다. 컴퓨터는 0과 1을(이진수) 인식하여 작동하기 때문에 과거에는... \",\n",
      "\t\t\t\"thumbnail\":\"http:\\/\\/openapi-dbscthumb.phinf.naver.net\\/4751_000_3\\/20170710213206672_OPHLG2VOW.jpg\\/992_170575_10034.jpg?type=m160_160\"\n",
      "\t\t},\n",
      "\t\t{\n",
      "\t\t\t\"title\":\"<b>파이썬<\\/b>\",\n",
      "\t\t\t\"link\":\"https:\\/\\/terms.naver.com\\/entry.naver?docId=3533295&cid=40942&categoryId=32838\",\n",
      "\t\t\t\"description\":\" 오픈소스 고급 프로그래밍 언어 중 하나이다.  C언어를 기반으로 한 오픈소스 고급 프로그래밍 언어로, 1991년 귀도 반 로섬(Guido van Rossum)에 의해 설계 및 개발되었다. <b>파이썬<\\/b>이라는 이름은 <b>파이썬<\\/b>을... \",\n",
      "\t\t\t\"thumbnail\":\"\"\n",
      "\t\t},\n",
      "\t\t{\n",
      "\t\t\t\"title\":\"<b>파이썬<\\/b>\",\n",
      "\t\t\t\"link\":\"https:\\/\\/ko.wikipedia.org\\/wiki\\/%ED%8C%8C%EC%9D%B4%EC%8D%AC\",\n",
      "\t\t\t\"description\":\"<b>파이썬<\\/b> ( 영어: Python )은 1991년 네덜란드계 소프트웨어 엔지니어인 귀도 반 로섬이 발표한 고급 프로그래밍 언어로, 플랫폼에 독립적이며 인터프리터식, 객체지향적, 동적 타이핑(dynamically typed)... \",\n",
      "\t\t\t\"thumbnail\":\"\"\n",
      "\t\t},\n",
      "\t\t{\n",
      "\t\t\t\"title\":\"C<b>파이썬<\\/b>\",\n",
      "\t\t\t\"link\":\"https:\\/\\/ko.wikipedia.org\\/wiki\\/C%ED%8C%8C%EC%9D%B4%EC%8D%AC\",\n",
      "\t\t\t\"description\":\"C<b>파이썬<\\/b> (CPython)은 <b>파이썬<\\/b> 프로그래밍 언어의 참조 구현체이다. C와 <b>파이썬<\\/b>으로 작성된 C<b>파이썬<\\/b>은 이 언어에 가장 널리 사용되는 기본 구현체이다. C<b>파이썬<\\/b>은 인터프리트 과정 이전에 <b>파이썬<\\/b> 코드를... \",\n",
      "\t\t\t\"thumbnail\":\"\"\n",
      "\t\t},\n",
      "\t\t{\n",
      "\t\t\t\"title\":\"바이오<b>파이썬<\\/b>\",\n",
      "\t\t\t\"link\":\"https:\\/\\/ko.wikipedia.org\\/wiki\\/%EB%B0%94%EC%9D%B4%EC%98%A4%ED%8C%8C%EC%9D%B4%EC%8D%AC\",\n",
      "\t\t\t\"description\":\"바이오<b>파이썬<\\/b> (Biopython) 프로젝트는 분자생물학 계산에 자유롭게 사용하기 위한 <b>파이썬<\\/b> 라이브러리 구축 프로젝트이다. 같이 보기 바이오자바 바이오펄 외부 링크 biopython.org\",\n",
      "\t\t\t\"thumbnail\":\"\"\n",
      "\t\t},\n",
      "\t\t{\n",
      "\t\t\t\"title\":\"<b>파이썬<\\/b>애니웨어\",\n",
      "\t\t\t\"link\":\"https:\\/\\/ko.wikipedia.org\\/wiki\\/%ED%8C%8C%EC%9D%B4%EC%8D%AC%EC%95%A0%EB%8B%88%EC%9B%A8%EC%96%B4\",\n",
      "\t\t\t\"description\":\"<b>파이썬<\\/b>애니웨어 (PythonAnywhere)는 <b>파이썬<\\/b> 프로그래밍 언어 기반의 웹 호스팅 서비스(서비스형 플랫폼)이자 온라인 통합 개발 환경이다. 2012년에 Giles Thomas와 Robert Smithson이 설립했으며 서버... \",\n",
      "\t\t\t\"thumbnail\":\"\"\n",
      "\t\t},\n",
      "\t\t{\n",
      "\t\t\t\"title\":\"<b>파이썬<\\/b>의 역사\",\n",
      "\t\t\t\"link\":\"https:\\/\\/ko.wikipedia.org\\/wiki\\/%ED%8C%8C%EC%9D%B4%EC%8D%AC%EC%9D%98_%EC%97%AD%EC%82%AC\",\n",
      "\t\t\t\"description\":\"프로그래밍 언어 <b>파이썬<\\/b>은 1980년대 말에 구상되었으며 그 구현체는 1989년 12월 예외 처리가 가능하고 아메바 운영 체제와 통신이 가능한 ABC의 후속 프로그래밍 언어로서 CWI(Centrum Wiskunde... \",\n",
      "\t\t\t\"thumbnail\":\"\"\n",
      "\t\t},\n",
      "\t\t{\n",
      "\t\t\t\"title\":\"아나콘다 (<b>파이썬<\\/b> 배포판)\",\n",
      "\t\t\t\"link\":\"https:\\/\\/ko.wikipedia.org\\/wiki\\/%EC%95%84%EB%82%98%EC%BD%98%EB%8B%A4_(%ED%8C%8C%EC%9D%B4%EC%8D%AC_%EB%B0%B0%ED%8F%AC%ED%8C%90)\",\n",
      "\t\t\t\"description\":\"아나콘다 (Anaconda)는 패키지 관리와 디플로이를 단순케 할 목적으로 과학 계산(데이터 과학, 기계 학습 애플리케이션, 대규모 데이터 처리, 예측 분석 등)을 위한 <b>파이썬<\\/b>과 R 프로그래밍 언어의 자유... \",\n",
      "\t\t\t\"thumbnail\":\"\"\n",
      "\t\t},\n",
      "\t\t{\n",
      "\t\t\t\"title\":\"<b>파이썬<\\/b> 소프트웨어 재단\",\n",
      "\t\t\t\"link\":\"https:\\/\\/ko.wikipedia.org\\/wiki\\/%ED%8C%8C%EC%9D%B4%EC%8D%AC_%EC%86%8C%ED%94%84%ED%8A%B8%EC%9B%A8%EC%96%B4_%EC%9E%AC%EB%8B%A8\",\n",
      "\t\t\t\"description\":\"<b>파이썬<\\/b> 소프트웨어 재단 (Python Software Foundation, PSF)은 <b>파이썬<\\/b> 프로그래밍 언어에 헌신하는 비영리 단체로서, 2001년 3월 6일 런칭했다. 이 단체의 임무는 <b>파이썬<\\/b> 공동체의 개발을 발전시키고... \",\n",
      "\t\t\t\"thumbnail\":\"\"\n",
      "\t\t}\n",
      "\t]\n",
      "}\n"
     ]
    }
   ],
   "source": [
    "# 네이버 검색 API 예제 - 백과사전(encyc) 검색\n",
    "import os\n",
    "import sys\n",
    "import urllib.request\n",
    "client_id = \"ASDl_ovqs4IQHIPCRcjR\"\n",
    "client_secret = \"jtjCmXfkdJ\"\n",
    "encText = urllib.parse.quote(\"파이썬\")\n",
    "#urllib.parse.quote(): 한글로 된 글자를 utf-8로 변환해줌\n",
    "url = \"https://openapi.naver.com/v1/search/encyc?query=\" + encText # JSON 결과 #encyc로 바꿔줌\n",
    "# url = \"https://openapi.naver.com/v1/search/blog.xml?query=\" + encText # XML 결과\n",
    "request = urllib.request.Request(url)\n",
    "request.add_header(\"X-Naver-Client-Id\",client_id)\n",
    "request.add_header(\"X-Naver-Client-Secret\",client_secret)\n",
    "response = urllib.request.urlopen(request)\n",
    "rescode = response.getcode() #200이 떴는지 확인하는 코드\n",
    "if(rescode==200):\n",
    "    response_body = response.read()\n",
    "    print(response_body.decode('utf-8'))\n",
    "else:\n",
    "    print(\"Error Code:\" + rescode)"
   ]
  },
  {
   "cell_type": "markdown",
   "metadata": {},
   "source": [
    "## 3. 상품 검색\n",
    "- 몰스킨"
   ]
  },
  {
   "cell_type": "code",
   "execution_count": 15,
   "metadata": {},
   "outputs": [
    {
     "name": "stdout",
     "output_type": "stream",
     "text": [
      "{\n",
      "\t\"lastBuildDate\":\"Wed, 01 Feb 2023 16:09:18 +0900\",\n",
      "\t\"total\":43124,\n",
      "\t\"start\":1,\n",
      "\t\"display\":10,\n",
      "\t\"items\":[\n",
      "\t\t{\n",
      "\t\t\t\"title\":\"<b>몰스킨<\\/b> 2023 다이어리 위클리 소프트커버\",\n",
      "\t\t\t\"link\":\"https:\\/\\/search.shopping.naver.com\\/gate.nhn?id=84662525433\",\n",
      "\t\t\t\"image\":\"https:\\/\\/shopping-phinf.pstatic.net\\/main_8466252\\/84662525433.2.jpg\",\n",
      "\t\t\t\"lprice\":\"22950\",\n",
      "\t\t\t\"hprice\":\"\",\n",
      "\t\t\t\"mallName\":\"베스트펜\",\n",
      "\t\t\t\"productId\":\"84662525433\",\n",
      "\t\t\t\"productType\":\"2\",\n",
      "\t\t\t\"brand\":\"몰스킨\",\n",
      "\t\t\t\"maker\":\"\",\n",
      "\t\t\t\"category1\":\"생활\\/건강\",\n",
      "\t\t\t\"category2\":\"문구\\/사무용품\",\n",
      "\t\t\t\"category3\":\"다이어리\\/플래너\",\n",
      "\t\t\t\"category4\":\"다이어리\"\n",
      "\t\t},\n",
      "\t\t{\n",
      "\t\t\t\"title\":\"<b>몰스킨<\\/b> 노트 가죽 하드커버 감성 고급 업무용 이쁜 심플\",\n",
      "\t\t\t\"link\":\"https:\\/\\/search.shopping.naver.com\\/gate.nhn?id=82526953942\",\n",
      "\t\t\t\"image\":\"https:\\/\\/shopping-phinf.pstatic.net\\/main_8252695\\/82526953942.7.jpg\",\n",
      "\t\t\t\"lprice\":\"24000\",\n",
      "\t\t\t\"hprice\":\"\",\n",
      "\t\t\t\"mallName\":\"베스트펜\",\n",
      "\t\t\t\"productId\":\"82526953942\",\n",
      "\t\t\t\"productType\":\"2\",\n",
      "\t\t\t\"brand\":\"몰스킨\",\n",
      "\t\t\t\"maker\":\"\",\n",
      "\t\t\t\"category1\":\"생활\\/건강\",\n",
      "\t\t\t\"category2\":\"문구\\/사무용품\",\n",
      "\t\t\t\"category3\":\"노트\\/수첩\",\n",
      "\t\t\t\"category4\":\"노트\"\n",
      "\t\t},\n",
      "\t\t{\n",
      "\t\t\t\"title\":\"다니엘크레뮤 22FW 헤비 코튼 <b>몰스킨<\\/b> 팬츠 3종\",\n",
      "\t\t\t\"link\":\"https:\\/\\/search.shopping.naver.com\\/gate.nhn?id=35297774696\",\n",
      "\t\t\t\"image\":\"https:\\/\\/shopping-phinf.pstatic.net\\/main_3529777\\/35297774696.20221018121155.jpg\",\n",
      "\t\t\t\"lprice\":\"91730\",\n",
      "\t\t\t\"hprice\":\"\",\n",
      "\t\t\t\"mallName\":\"네이버\",\n",
      "\t\t\t\"productId\":\"35297774696\",\n",
      "\t\t\t\"productType\":\"1\",\n",
      "\t\t\t\"brand\":\"다니엘크레뮤\",\n",
      "\t\t\t\"maker\":\"\",\n",
      "\t\t\t\"category1\":\"패션의류\",\n",
      "\t\t\t\"category2\":\"남성의류\",\n",
      "\t\t\t\"category3\":\"바지\",\n",
      "\t\t\t\"category4\":\"\"\n",
      "\t\t},\n",
      "\t\t{\n",
      "\t\t\t\"title\":\"<b>몰스킨<\\/b> 2023 데일리 12개월 다이어리 L\",\n",
      "\t\t\t\"link\":\"https:\\/\\/search.shopping.naver.com\\/gate.nhn?id=34543729266\",\n",
      "\t\t\t\"image\":\"https:\\/\\/shopping-phinf.pstatic.net\\/main_3454372\\/34543729266.20230118023559.jpg\",\n",
      "\t\t\t\"lprice\":\"38050\",\n",
      "\t\t\t\"hprice\":\"\",\n",
      "\t\t\t\"mallName\":\"네이버\",\n",
      "\t\t\t\"productId\":\"34543729266\",\n",
      "\t\t\t\"productType\":\"1\",\n",
      "\t\t\t\"brand\":\"몰스킨\",\n",
      "\t\t\t\"maker\":\"몰스킨\",\n",
      "\t\t\t\"category1\":\"생활\\/건강\",\n",
      "\t\t\t\"category2\":\"문구\\/사무용품\",\n",
      "\t\t\t\"category3\":\"다이어리\\/플래너\",\n",
      "\t\t\t\"category4\":\"다이어리\"\n",
      "\t\t},\n",
      "\t\t{\n",
      "\t\t\t\"title\":\"<b>몰스킨<\\/b> 2023다이어리 데일리 하드커버 라지블루 다이어리노트\",\n",
      "\t\t\t\"link\":\"https:\\/\\/search.shopping.naver.com\\/gate.nhn?id=36737614086\",\n",
      "\t\t\t\"image\":\"https:\\/\\/shopping-phinf.pstatic.net\\/main_3673761\\/36737614086.20221225031251.jpg\",\n",
      "\t\t\t\"lprice\":\"31000\",\n",
      "\t\t\t\"hprice\":\"\",\n",
      "\t\t\t\"mallName\":\"네이버\",\n",
      "\t\t\t\"productId\":\"36737614086\",\n",
      "\t\t\t\"productType\":\"1\",\n",
      "\t\t\t\"brand\":\"몰스킨\",\n",
      "\t\t\t\"maker\":\"\",\n",
      "\t\t\t\"category1\":\"생활\\/건강\",\n",
      "\t\t\t\"category2\":\"문구\\/사무용품\",\n",
      "\t\t\t\"category3\":\"다이어리\\/플래너\",\n",
      "\t\t\t\"category4\":\"다이어리\"\n",
      "\t\t},\n",
      "\t\t{\n",
      "\t\t\t\"title\":\"[<b>몰스킨<\\/b>] 2023년 클래식 다이어리(12개월) (데일리, 위클리, 먼슬리)\",\n",
      "\t\t\t\"link\":\"https:\\/\\/search.shopping.naver.com\\/gate.nhn?id=34373302556\",\n",
      "\t\t\t\"image\":\"https:\\/\\/shopping-phinf.pstatic.net\\/main_3437330\\/34373302556.jpg\",\n",
      "\t\t\t\"lprice\":\"27000\",\n",
      "\t\t\t\"hprice\":\"\",\n",
      "\t\t\t\"mallName\":\"몰스킨공식온라인스토어\",\n",
      "\t\t\t\"productId\":\"34373302556\",\n",
      "\t\t\t\"productType\":\"2\",\n",
      "\t\t\t\"brand\":\"몰스킨\",\n",
      "\t\t\t\"maker\":\"\",\n",
      "\t\t\t\"category1\":\"생활\\/건강\",\n",
      "\t\t\t\"category2\":\"문구\\/사무용품\",\n",
      "\t\t\t\"category3\":\"다이어리\\/플래너\",\n",
      "\t\t\t\"category4\":\"다이어리\"\n",
      "\t\t},\n",
      "\t\t{\n",
      "\t\t\t\"title\":\"다니엘크레뮤 21FW DC 21FW 라이크라 해비 코튼 <b>몰스킨<\\/b> 팬츠 DYSOXX00193\",\n",
      "\t\t\t\"link\":\"https:\\/\\/search.shopping.naver.com\\/gate.nhn?id=37197232943\",\n",
      "\t\t\t\"image\":\"https:\\/\\/shopping-phinf.pstatic.net\\/main_3719723\\/37197232943.20230114111444.jpg\",\n",
      "\t\t\t\"lprice\":\"26170\",\n",
      "\t\t\t\"hprice\":\"\",\n",
      "\t\t\t\"mallName\":\"네이버\",\n",
      "\t\t\t\"productId\":\"37197232943\",\n",
      "\t\t\t\"productType\":\"1\",\n",
      "\t\t\t\"brand\":\"다니엘크레뮤\",\n",
      "\t\t\t\"maker\":\"예성D&F\",\n",
      "\t\t\t\"category1\":\"패션의류\",\n",
      "\t\t\t\"category2\":\"남성의류\",\n",
      "\t\t\t\"category3\":\"바지\",\n",
      "\t\t\t\"category4\":\"\"\n",
      "\t\t},\n",
      "\t\t{\n",
      "\t\t\t\"title\":\"2023 스타벅스 다이어리 프리퀀시 그린 플래너\",\n",
      "\t\t\t\"link\":\"https:\\/\\/search.shopping.naver.com\\/gate.nhn?id=85132105601\",\n",
      "\t\t\t\"image\":\"https:\\/\\/shopping-phinf.pstatic.net\\/main_8513210\\/85132105601.jpg\",\n",
      "\t\t\t\"lprice\":\"32900\",\n",
      "\t\t\t\"hprice\":\"\",\n",
      "\t\t\t\"mallName\":\"한정판매니아\",\n",
      "\t\t\t\"productId\":\"85132105601\",\n",
      "\t\t\t\"productType\":\"2\",\n",
      "\t\t\t\"brand\":\"스타벅스\",\n",
      "\t\t\t\"maker\":\"몰스킨\",\n",
      "\t\t\t\"category1\":\"생활\\/건강\",\n",
      "\t\t\t\"category2\":\"문구\\/사무용품\",\n",
      "\t\t\t\"category3\":\"다이어리\\/플래너\",\n",
      "\t\t\t\"category4\":\"다이어리\"\n",
      "\t\t},\n",
      "\t\t{\n",
      "\t\t\t\"title\":\"<b>몰스킨<\\/b> <b>Moleskine<\\/b> 2023년 데일리 플래너 12M 포켓 사파이어 소프트 커버 3 5 x 5 5\",\n",
      "\t\t\t\"link\":\"https:\\/\\/search.shopping.naver.com\\/gate.nhn?id=36041650934\",\n",
      "\t\t\t\"image\":\"https:\\/\\/shopping-phinf.pstatic.net\\/main_3604165\\/36041650934.20221123103954.jpg\",\n",
      "\t\t\t\"lprice\":\"25590\",\n",
      "\t\t\t\"hprice\":\"\",\n",
      "\t\t\t\"mallName\":\"네이버\",\n",
      "\t\t\t\"productId\":\"36041650934\",\n",
      "\t\t\t\"productType\":\"1\",\n",
      "\t\t\t\"brand\":\"몰스킨\",\n",
      "\t\t\t\"maker\":\"몰스킨\",\n",
      "\t\t\t\"category1\":\"생활\\/건강\",\n",
      "\t\t\t\"category2\":\"문구\\/사무용품\",\n",
      "\t\t\t\"category3\":\"다이어리\\/플래너\",\n",
      "\t\t\t\"category4\":\"다이어리\"\n",
      "\t\t},\n",
      "\t\t{\n",
      "\t\t\t\"title\":\"<b>몰스킨<\\/b> 클래식 노트 소프트커버 포켓 모음\",\n",
      "\t\t\t\"link\":\"https:\\/\\/search.shopping.naver.com\\/gate.nhn?id=25867775013\",\n",
      "\t\t\t\"image\":\"https:\\/\\/shopping-phinf.pstatic.net\\/main_2586777\\/25867775013.20210204192445.jpg\",\n",
      "\t\t\t\"lprice\":\"23000\",\n",
      "\t\t\t\"hprice\":\"\",\n",
      "\t\t\t\"mallName\":\"네이버\",\n",
      "\t\t\t\"productId\":\"25867775013\",\n",
      "\t\t\t\"productType\":\"1\",\n",
      "\t\t\t\"brand\":\"몰스킨\",\n",
      "\t\t\t\"maker\":\"몰스킨\",\n",
      "\t\t\t\"category1\":\"생활\\/건강\",\n",
      "\t\t\t\"category2\":\"문구\\/사무용품\",\n",
      "\t\t\t\"category3\":\"노트\\/수첩\",\n",
      "\t\t\t\"category4\":\"노트\"\n",
      "\t\t}\n",
      "\t]\n",
      "}\n"
     ]
    }
   ],
   "source": [
    "import os\n",
    "import sys\n",
    "import urllib.request\n",
    "client_id = \"ASDl_ovqs4IQHIPCRcjR\"\n",
    "client_secret = \"jtjCmXfkdJ\"\n",
    "encText = urllib.parse.quote(\"몰스킨\")\n",
    "#urllib.parse.quote(): 한글로 된 글자를 utf-8로 변환해줌\n",
    "url = \"https://openapi.naver.com/v1/search/shop?query=\" + encText # JSON 결과 \n",
    "# url = \"https://openapi.naver.com/v1/search/blog.xml?query=\" + encText # XML 결과\n",
    "request = urllib.request.Request(url)\n",
    "request.add_header(\"X-Naver-Client-Id\",client_id)\n",
    "request.add_header(\"X-Naver-Client-Secret\",client_secret)\n",
    "response = urllib.request.urlopen(request)\n",
    "rescode = response.getcode() #200이 떴는지 확인하는 코드\n",
    "if(rescode==200):\n",
    "    response_body = response.read()\n",
    "    print(response_body.decode('utf-8'))\n",
    "else:\n",
    "    print(\"Error Code:\" + rescode)"
   ]
  },
  {
   "cell_type": "code",
   "execution_count": 16,
   "metadata": {},
   "outputs": [
    {
     "data": {
      "image/png": "[encoded data removed]",
      "text/plain": [
       "<PIL.PngImagePlugin.PngImageFile image mode=RGBA size=645x358>"
      ]
     },
     "execution_count": 16,
     "metadata": {},
     "output_type": "execute_result"
    }
   ],
   "source": [
    "from PIL import Image\n",
    "Image.open(\"../data/molskin plan.png\")"
   ]
  },
  {
   "cell_type": "markdown",
   "metadata": {},
   "source": [
    "## (1) gen_search_url()"
   ]
  },
  {
   "attachments": {},
   "cell_type": "markdown",
   "metadata": {},
   "source": [
    "- 레퍼런스 참고: https://developers.naver.com/docs/serviceapi/search/shopping/shopping.md#%EC%87%BC%ED%95%91-%EA%B2%80%EC%83%89-%EA%B2%B0%EA%B3%BC-%EC%A1%B0%ED%9A%8C\n",
    "\n",
    "- 이 부분을 우리가 만들어 줄 것임\n",
    "    - encText = urllib.parse.quote(\"몰스킨\")\n",
    "    - url = \"https://openapi.naver.com/v1/search/shop?query=\" + encText # JSON 결과 "
   ]
  },
  {
   "cell_type": "code",
   "execution_count": 17,
   "metadata": {},
   "outputs": [],
   "source": [
    "def gen_search_url(api_node, search_text, start_num, disp_num):\n",
    "    #api_node: 어디에다 요청할건지 shop? blog?\n",
    "    # start: 검색 시작 위치(기본값: 1, 최댓값: 1000)\n",
    "    # display: 한번에 표시할 검색 결과 개수(기본값: 10, 최댓값: 100)\n",
    "    # 한번에 최대 100개 표시할 수 있는데 1000개 표시하게 하고싶을때\n",
    "    # display 값을 100으로 하고 start를 1 시작, 101 시작, 201 시작 ... 901시작하도록 10번하면 됨\n",
    "    base = \"https://openapi.naver.com/v1/search/\"\n",
    "    node = \"/\" + api_node + \".json\" # xml형식으로 받고싶으면 그렇게 요청해도 됨\n",
    "    param_query = \"?query=\" + urllib.parse.quote(\"몰스킨\")\n",
    "    param_start = \"&start=\" + str(start_num)\n",
    "    # 레퍼런스에 start가 integer라고 명시되어있지만 \"&start=\"와 연산해야하기 때문에 str로 바꿔줌\n",
    "    param_disp = \"&display=\" + str(disp_num)\n",
    "\n",
    "    return base + node + param_query + param_start + param_disp"
   ]
  },
  {
   "cell_type": "code",
   "execution_count": 18,
   "metadata": {},
   "outputs": [
    {
     "data": {
      "text/plain": [
       "'https://openapi.naver.com/v1/search//shop.json?query=%EB%AA%B0%EC%8A%A4%ED%82%A8&start=10&display=3'"
      ]
     },
     "execution_count": 18,
     "metadata": {},
     "output_type": "execute_result"
    }
   ],
   "source": [
    "gen_search_url(\"shop\", \"TEST\", 10, 3)"
   ]
  },
  {
   "attachments": {},
   "cell_type": "markdown",
   "metadata": {},
   "source": [
    "## (2) get_result_onepage()"
   ]
  },
  {
   "attachments": {},
   "cell_type": "markdown",
   "metadata": {},
   "source": [
    "- dump :  python 객체를 json 파일로 변환\n",
    "- dumps : python 객체를 json 문자열로 변환\n",
    "- load : json 파일을 python 객체로 변환\n",
    "- loads : json 문자열을 python 객체로 변환\n",
    "\n",
    "-> 정리 : s가 안 붙어있으면 파일 관련, 붙어있으면 문자열 <-> 객체 사이 변환\n",
    "\n",
    "    - python 객체 : dict, list, .... \n",
    "    - json은 하나하나가 문자열\n"
   ]
  },
  {
   "cell_type": "code",
   "execution_count": 19,
   "metadata": {},
   "outputs": [],
   "source": [
    "import json\n",
    "import datetime\n",
    "\n",
    "def get_result_onpage(url):\n",
    "    request = urllib.request.Request(url)\n",
    "    request.add_header(\"X-Naver-Client-Id\",client_id)\n",
    "    request.add_header(\"X-Naver-Client-Secret\",client_secret)\n",
    "    response = urllib.request.urlopen(request)\n",
    "    print(\"[%s] Url Request Success\" % datetime.datetime.now())\n",
    "    # datetime.datetime.now(): 현재 시간\n",
    "    # [%s]: %에 들어갈 내용이 datetime.datetime.now()임 format과 같은 것임\n",
    "    return json.loads(response.read().decode(\"utf-8\"))"
   ]
  },
  {
   "cell_type": "code",
   "execution_count": 20,
   "metadata": {},
   "outputs": [
    {
     "data": {
      "text/plain": [
       "datetime.datetime(2023, 2, 1, 16, 9, 18, 332542)"
      ]
     },
     "execution_count": 20,
     "metadata": {},
     "output_type": "execute_result"
    }
   ],
   "source": [
    "datetime.datetime.now()"
   ]
  },
  {
   "cell_type": "code",
   "execution_count": 21,
   "metadata": {},
   "outputs": [
    {
     "name": "stdout",
     "output_type": "stream",
     "text": [
      "[2023-02-01 16:09:18.511483] Url Request Success\n"
     ]
    }
   ],
   "source": [
    "url = gen_search_url(\"shop\", \"몰스킨\", 1, 5)\n",
    "one_result = get_result_onpage(url)"
   ]
  },
  {
   "cell_type": "code",
   "execution_count": 22,
   "metadata": {},
   "outputs": [
    {
     "data": {
      "text/plain": [
       "{'lastBuildDate': 'Wed, 01 Feb 2023 16:09:19 +0900',\n",
       " 'total': 43124,\n",
       " 'start': 1,\n",
       " 'display': 5,\n",
       " 'items': [{'title': '<b>몰스킨</b> 2023 다이어리 위클리 소프트커버',\n",
       "   'link': 'https://search.shopping.naver.com/gate.nhn?id=84662525433',\n",
       "   'image': 'https://shopping-phinf.pstatic.net/main_8466252/84662525433.2.jpg',\n",
       "   'lprice': '22950',\n",
       "   'hprice': '',\n",
       "   'mallName': '베스트펜',\n",
       "   'productId': '84662525433',\n",
       "   'productType': '2',\n",
       "   'brand': '몰스킨',\n",
       "   'maker': '',\n",
       "   'category1': '생활/건강',\n",
       "   'category2': '문구/사무용품',\n",
       "   'category3': '다이어리/플래너',\n",
       "   'category4': '다이어리'},\n",
       "  {'title': '<b>몰스킨</b> 노트 가죽 하드커버 감성 고급 업무용 이쁜 심플',\n",
       "   'link': 'https://search.shopping.naver.com/gate.nhn?id=82526953942',\n",
       "   'image': 'https://shopping-phinf.pstatic.net/main_8252695/82526953942.7.jpg',\n",
       "   'lprice': '24000',\n",
       "   'hprice': '',\n",
       "   'mallName': '베스트펜',\n",
       "   'productId': '82526953942',\n",
       "   'productType': '2',\n",
       "   'brand': '몰스킨',\n",
       "   'maker': '',\n",
       "   'category1': '생활/건강',\n",
       "   'category2': '문구/사무용품',\n",
       "   'category3': '노트/수첩',\n",
       "   'category4': '노트'},\n",
       "  {'title': '다니엘크레뮤 22FW 헤비 코튼 <b>몰스킨</b> 팬츠 3종',\n",
       "   'link': 'https://search.shopping.naver.com/gate.nhn?id=35297774696',\n",
       "   'image': 'https://shopping-phinf.pstatic.net/main_3529777/35297774696.20221018121155.jpg',\n",
       "   'lprice': '91730',\n",
       "   'hprice': '',\n",
       "   'mallName': '네이버',\n",
       "   'productId': '35297774696',\n",
       "   'productType': '1',\n",
       "   'brand': '다니엘크레뮤',\n",
       "   'maker': '',\n",
       "   'category1': '패션의류',\n",
       "   'category2': '남성의류',\n",
       "   'category3': '바지',\n",
       "   'category4': ''},\n",
       "  {'title': '<b>몰스킨</b> 2023 데일리 12개월 다이어리 L',\n",
       "   'link': 'https://search.shopping.naver.com/gate.nhn?id=34543729266',\n",
       "   'image': 'https://shopping-phinf.pstatic.net/main_3454372/34543729266.20230118023559.jpg',\n",
       "   'lprice': '38050',\n",
       "   'hprice': '',\n",
       "   'mallName': '네이버',\n",
       "   'productId': '34543729266',\n",
       "   'productType': '1',\n",
       "   'brand': '몰스킨',\n",
       "   'maker': '몰스킨',\n",
       "   'category1': '생활/건강',\n",
       "   'category2': '문구/사무용품',\n",
       "   'category3': '다이어리/플래너',\n",
       "   'category4': '다이어리'},\n",
       "  {'title': '<b>몰스킨</b> 2023다이어리 데일리 하드커버 라지블루 다이어리노트',\n",
       "   'link': 'https://search.shopping.naver.com/gate.nhn?id=36737614086',\n",
       "   'image': 'https://shopping-phinf.pstatic.net/main_3673761/36737614086.20221225031251.jpg',\n",
       "   'lprice': '31000',\n",
       "   'hprice': '',\n",
       "   'mallName': '네이버',\n",
       "   'productId': '36737614086',\n",
       "   'productType': '1',\n",
       "   'brand': '몰스킨',\n",
       "   'maker': '',\n",
       "   'category1': '생활/건강',\n",
       "   'category2': '문구/사무용품',\n",
       "   'category3': '다이어리/플래너',\n",
       "   'category4': '다이어리'}]}"
      ]
     },
     "execution_count": 22,
     "metadata": {},
     "output_type": "execute_result"
    }
   ],
   "source": [
    "one_result\n",
    "# 딕셔너리 형태. iems라는 키값에 접근해볼 것임"
   ]
  },
  {
   "cell_type": "code",
   "execution_count": 23,
   "metadata": {},
   "outputs": [
    {
     "data": {
      "text/plain": [
       "[{'title': '<b>몰스킨</b> 2023 다이어리 위클리 소프트커버',\n",
       "  'link': 'https://search.shopping.naver.com/gate.nhn?id=84662525433',\n",
       "  'image': 'https://shopping-phinf.pstatic.net/main_8466252/84662525433.2.jpg',\n",
       "  'lprice': '22950',\n",
       "  'hprice': '',\n",
       "  'mallName': '베스트펜',\n",
       "  'productId': '84662525433',\n",
       "  'productType': '2',\n",
       "  'brand': '몰스킨',\n",
       "  'maker': '',\n",
       "  'category1': '생활/건강',\n",
       "  'category2': '문구/사무용품',\n",
       "  'category3': '다이어리/플래너',\n",
       "  'category4': '다이어리'},\n",
       " {'title': '<b>몰스킨</b> 노트 가죽 하드커버 감성 고급 업무용 이쁜 심플',\n",
       "  'link': 'https://search.shopping.naver.com/gate.nhn?id=82526953942',\n",
       "  'image': 'https://shopping-phinf.pstatic.net/main_8252695/82526953942.7.jpg',\n",
       "  'lprice': '24000',\n",
       "  'hprice': '',\n",
       "  'mallName': '베스트펜',\n",
       "  'productId': '82526953942',\n",
       "  'productType': '2',\n",
       "  'brand': '몰스킨',\n",
       "  'maker': '',\n",
       "  'category1': '생활/건강',\n",
       "  'category2': '문구/사무용품',\n",
       "  'category3': '노트/수첩',\n",
       "  'category4': '노트'},\n",
       " {'title': '다니엘크레뮤 22FW 헤비 코튼 <b>몰스킨</b> 팬츠 3종',\n",
       "  'link': 'https://search.shopping.naver.com/gate.nhn?id=35297774696',\n",
       "  'image': 'https://shopping-phinf.pstatic.net/main_3529777/35297774696.20221018121155.jpg',\n",
       "  'lprice': '91730',\n",
       "  'hprice': '',\n",
       "  'mallName': '네이버',\n",
       "  'productId': '35297774696',\n",
       "  'productType': '1',\n",
       "  'brand': '다니엘크레뮤',\n",
       "  'maker': '',\n",
       "  'category1': '패션의류',\n",
       "  'category2': '남성의류',\n",
       "  'category3': '바지',\n",
       "  'category4': ''},\n",
       " {'title': '<b>몰스킨</b> 2023 데일리 12개월 다이어리 L',\n",
       "  'link': 'https://search.shopping.naver.com/gate.nhn?id=34543729266',\n",
       "  'image': 'https://shopping-phinf.pstatic.net/main_3454372/34543729266.20230118023559.jpg',\n",
       "  'lprice': '38050',\n",
       "  'hprice': '',\n",
       "  'mallName': '네이버',\n",
       "  'productId': '34543729266',\n",
       "  'productType': '1',\n",
       "  'brand': '몰스킨',\n",
       "  'maker': '몰스킨',\n",
       "  'category1': '생활/건강',\n",
       "  'category2': '문구/사무용품',\n",
       "  'category3': '다이어리/플래너',\n",
       "  'category4': '다이어리'},\n",
       " {'title': '<b>몰스킨</b> 2023다이어리 데일리 하드커버 라지블루 다이어리노트',\n",
       "  'link': 'https://search.shopping.naver.com/gate.nhn?id=36737614086',\n",
       "  'image': 'https://shopping-phinf.pstatic.net/main_3673761/36737614086.20221225031251.jpg',\n",
       "  'lprice': '31000',\n",
       "  'hprice': '',\n",
       "  'mallName': '네이버',\n",
       "  'productId': '36737614086',\n",
       "  'productType': '1',\n",
       "  'brand': '몰스킨',\n",
       "  'maker': '',\n",
       "  'category1': '생활/건강',\n",
       "  'category2': '문구/사무용품',\n",
       "  'category3': '다이어리/플래너',\n",
       "  'category4': '다이어리'}]"
      ]
     },
     "execution_count": 23,
     "metadata": {},
     "output_type": "execute_result"
    }
   ],
   "source": [
    "one_result[\"items\"]\n",
    "# 리스트 형태임"
   ]
  },
  {
   "cell_type": "code",
   "execution_count": 24,
   "metadata": {},
   "outputs": [
    {
     "data": {
      "text/plain": [
       "{'title': '<b>몰스킨</b> 2023 다이어리 위클리 소프트커버',\n",
       " 'link': 'https://search.shopping.naver.com/gate.nhn?id=84662525433',\n",
       " 'image': 'https://shopping-phinf.pstatic.net/main_8466252/84662525433.2.jpg',\n",
       " 'lprice': '22950',\n",
       " 'hprice': '',\n",
       " 'mallName': '베스트펜',\n",
       " 'productId': '84662525433',\n",
       " 'productType': '2',\n",
       " 'brand': '몰스킨',\n",
       " 'maker': '',\n",
       " 'category1': '생활/건강',\n",
       " 'category2': '문구/사무용품',\n",
       " 'category3': '다이어리/플래너',\n",
       " 'category4': '다이어리'}"
      ]
     },
     "execution_count": 24,
     "metadata": {},
     "output_type": "execute_result"
    }
   ],
   "source": [
    "one_result[\"items\"][0]"
   ]
  },
  {
   "cell_type": "code",
   "execution_count": 25,
   "metadata": {},
   "outputs": [
    {
     "data": {
      "text/plain": [
       "'<b>몰스킨</b> 2023 다이어리 위클리 소프트커버'"
      ]
     },
     "execution_count": 25,
     "metadata": {},
     "output_type": "execute_result"
    }
   ],
   "source": [
    "one_result[\"items\"][0][\"title\"]"
   ]
  },
  {
   "cell_type": "code",
   "execution_count": 26,
   "metadata": {},
   "outputs": [
    {
     "data": {
      "text/plain": [
       "'https://search.shopping.naver.com/gate.nhn?id=84662525433'"
      ]
     },
     "execution_count": 26,
     "metadata": {},
     "output_type": "execute_result"
    }
   ],
   "source": [
    "one_result[\"items\"][0][\"link\"]"
   ]
  },
  {
   "cell_type": "code",
   "execution_count": 27,
   "metadata": {},
   "outputs": [
    {
     "data": {
      "text/plain": [
       "'22950'"
      ]
     },
     "execution_count": 27,
     "metadata": {},
     "output_type": "execute_result"
    }
   ],
   "source": [
    "one_result[\"items\"][0][\"lprice\"]"
   ]
  },
  {
   "cell_type": "code",
   "execution_count": 28,
   "metadata": {},
   "outputs": [
    {
     "data": {
      "text/plain": [
       "'베스트펜'"
      ]
     },
     "execution_count": 28,
     "metadata": {},
     "output_type": "execute_result"
    }
   ],
   "source": [
    "one_result[\"items\"][0][\"mallName\"]"
   ]
  },
  {
   "cell_type": "markdown",
   "metadata": {},
   "source": [
    "## (3) get_fields()"
   ]
  },
  {
   "cell_type": "code",
   "execution_count": 29,
   "metadata": {},
   "outputs": [],
   "source": [
    "import pandas as pd\n",
    "\n",
    "def get_fields(json_data):\n",
    "    title = [each['title'] for each in json_data['items']]\n",
    "    link= [each['link'] for each in json_data['items']]\n",
    "    lprice = [each['lprice'] for each in json_data['items']]\n",
    "    mallName = [each['mallName'] for each in json_data['items']]\n",
    "\n",
    "    result_pd = pd.DataFrame({\n",
    "        'title' : title,\n",
    "        'link' : link,\n",
    "        'lprice' : lprice,\n",
    "        'mall' : mallName\n",
    "        },  columns=['title', 'lprice', 'link', 'mall'])\n",
    "    return result_pd"
   ]
  },
  {
   "cell_type": "code",
   "execution_count": 30,
   "metadata": {},
   "outputs": [
    {
     "data": {
      "text/html": [
       "<div>\n",
       "<style scoped>\n",
       "    .dataframe tbody tr th:only-of-type {\n",
       "        vertical-align: middle;\n",
       "    }\n",
       "\n",
       "    .dataframe tbody tr th {\n",
       "        vertical-align: top;\n",
       "    }\n",
       "\n",
       "    .dataframe thead th {\n",
       "        text-align: right;\n",
       "    }\n",
       "</style>\n",
       "<table border=\"1\" class=\"dataframe\">\n",
       "  <thead>\n",
       "    <tr style=\"text-align: right;\">\n",
       "      <th></th>\n",
       "      <th>title</th>\n",
       "      <th>lprice</th>\n",
       "      <th>link</th>\n",
       "      <th>mall</th>\n",
       "    </tr>\n",
       "  </thead>\n",
       "  <tbody>\n",
       "    <tr>\n",
       "      <th>0</th>\n",
       "      <td>&lt;b&gt;몰스킨&lt;/b&gt; 2023 다이어리 위클리 소프트커버</td>\n",
       "      <td>22950</td>\n",
       "      <td>https://search.shopping.naver.com/gate.nhn?id=...</td>\n",
       "      <td>베스트펜</td>\n",
       "    </tr>\n",
       "    <tr>\n",
       "      <th>1</th>\n",
       "      <td>&lt;b&gt;몰스킨&lt;/b&gt; 노트 가죽 하드커버 감성 고급 업무용 이쁜 심플</td>\n",
       "      <td>24000</td>\n",
       "      <td>https://search.shopping.naver.com/gate.nhn?id=...</td>\n",
       "      <td>베스트펜</td>\n",
       "    </tr>\n",
       "    <tr>\n",
       "      <th>2</th>\n",
       "      <td>다니엘크레뮤 22FW 헤비 코튼 &lt;b&gt;몰스킨&lt;/b&gt; 팬츠 3종</td>\n",
       "      <td>91730</td>\n",
       "      <td>https://search.shopping.naver.com/gate.nhn?id=...</td>\n",
       "      <td>네이버</td>\n",
       "    </tr>\n",
       "    <tr>\n",
       "      <th>3</th>\n",
       "      <td>&lt;b&gt;몰스킨&lt;/b&gt; 2023 데일리 12개월 다이어리 L</td>\n",
       "      <td>38050</td>\n",
       "      <td>https://search.shopping.naver.com/gate.nhn?id=...</td>\n",
       "      <td>네이버</td>\n",
       "    </tr>\n",
       "    <tr>\n",
       "      <th>4</th>\n",
       "      <td>&lt;b&gt;몰스킨&lt;/b&gt; 2023다이어리 데일리 하드커버 라지블루 다이어리노트</td>\n",
       "      <td>31000</td>\n",
       "      <td>https://search.shopping.naver.com/gate.nhn?id=...</td>\n",
       "      <td>네이버</td>\n",
       "    </tr>\n",
       "  </tbody>\n",
       "</table>\n",
       "</div>"
      ],
      "text/plain": [
       "                                      title lprice  \\\n",
       "0            <b>몰스킨</b> 2023 다이어리 위클리 소프트커버  22950   \n",
       "1     <b>몰스킨</b> 노트 가죽 하드커버 감성 고급 업무용 이쁜 심플  24000   \n",
       "2        다니엘크레뮤 22FW 헤비 코튼 <b>몰스킨</b> 팬츠 3종  91730   \n",
       "3           <b>몰스킨</b> 2023 데일리 12개월 다이어리 L  38050   \n",
       "4  <b>몰스킨</b> 2023다이어리 데일리 하드커버 라지블루 다이어리노트  31000   \n",
       "\n",
       "                                                link  mall  \n",
       "0  https://search.shopping.naver.com/gate.nhn?id=...  베스트펜  \n",
       "1  https://search.shopping.naver.com/gate.nhn?id=...  베스트펜  \n",
       "2  https://search.shopping.naver.com/gate.nhn?id=...   네이버  \n",
       "3  https://search.shopping.naver.com/gate.nhn?id=...   네이버  \n",
       "4  https://search.shopping.naver.com/gate.nhn?id=...   네이버  "
      ]
     },
     "execution_count": 30,
     "metadata": {},
     "output_type": "execute_result"
    }
   ],
   "source": [
    "get_fields(one_result)"
   ]
  },
  {
   "cell_type": "markdown",
   "metadata": {},
   "source": [
    "## (4) delete_tag()"
   ]
  },
  {
   "cell_type": "code",
   "execution_count": 31,
   "metadata": {},
   "outputs": [],
   "source": [
    "def delete_tag(input_str):\n",
    "    input_str = input_str.replace(\"<b>\", \"\")\n",
    "    input_str = input_str.replace(\"</b>\", \"\")\n",
    "    return input_str"
   ]
  },
  {
   "cell_type": "code",
   "execution_count": 32,
   "metadata": {},
   "outputs": [],
   "source": [
    "import pandas as pd\n",
    "\n",
    "def get_fields(json_data):\n",
    "    title = [delete_tag(each['title']) for each in json_data['items']]\n",
    "    link= [each['link'] for each in json_data['items']]\n",
    "    lprice = [each['lprice'] for each in json_data['items']]\n",
    "    mallName = [each['mallName'] for each in json_data['items']]\n",
    "\n",
    "    result_pd = pd.DataFrame({\n",
    "        'title' : title,\n",
    "        'link' : link,\n",
    "        'lprice' : lprice,\n",
    "        'mall' : mallName\n",
    "        },  columns=['title', 'lprice', 'link', 'mall'])\n",
    "    return result_pd"
   ]
  },
  {
   "cell_type": "code",
   "execution_count": 33,
   "metadata": {},
   "outputs": [
    {
     "data": {
      "text/html": [
       "<div>\n",
       "<style scoped>\n",
       "    .dataframe tbody tr th:only-of-type {\n",
       "        vertical-align: middle;\n",
       "    }\n",
       "\n",
       "    .dataframe tbody tr th {\n",
       "        vertical-align: top;\n",
       "    }\n",
       "\n",
       "    .dataframe thead th {\n",
       "        text-align: right;\n",
       "    }\n",
       "</style>\n",
       "<table border=\"1\" class=\"dataframe\">\n",
       "  <thead>\n",
       "    <tr style=\"text-align: right;\">\n",
       "      <th></th>\n",
       "      <th>title</th>\n",
       "      <th>lprice</th>\n",
       "      <th>link</th>\n",
       "      <th>mall</th>\n",
       "    </tr>\n",
       "  </thead>\n",
       "  <tbody>\n",
       "    <tr>\n",
       "      <th>0</th>\n",
       "      <td>몰스킨 2023 다이어리 위클리 소프트커버</td>\n",
       "      <td>22950</td>\n",
       "      <td>https://search.shopping.naver.com/gate.nhn?id=...</td>\n",
       "      <td>베스트펜</td>\n",
       "    </tr>\n",
       "    <tr>\n",
       "      <th>1</th>\n",
       "      <td>몰스킨 노트 가죽 하드커버 감성 고급 업무용 이쁜 심플</td>\n",
       "      <td>24000</td>\n",
       "      <td>https://search.shopping.naver.com/gate.nhn?id=...</td>\n",
       "      <td>베스트펜</td>\n",
       "    </tr>\n",
       "    <tr>\n",
       "      <th>2</th>\n",
       "      <td>다니엘크레뮤 22FW 헤비 코튼 몰스킨 팬츠 3종</td>\n",
       "      <td>91730</td>\n",
       "      <td>https://search.shopping.naver.com/gate.nhn?id=...</td>\n",
       "      <td>네이버</td>\n",
       "    </tr>\n",
       "    <tr>\n",
       "      <th>3</th>\n",
       "      <td>몰스킨 2023 데일리 12개월 다이어리 L</td>\n",
       "      <td>38050</td>\n",
       "      <td>https://search.shopping.naver.com/gate.nhn?id=...</td>\n",
       "      <td>네이버</td>\n",
       "    </tr>\n",
       "    <tr>\n",
       "      <th>4</th>\n",
       "      <td>몰스킨 2023다이어리 데일리 하드커버 라지블루 다이어리노트</td>\n",
       "      <td>31000</td>\n",
       "      <td>https://search.shopping.naver.com/gate.nhn?id=...</td>\n",
       "      <td>네이버</td>\n",
       "    </tr>\n",
       "  </tbody>\n",
       "</table>\n",
       "</div>"
      ],
      "text/plain": [
       "                               title lprice  \\\n",
       "0            몰스킨 2023 다이어리 위클리 소프트커버  22950   \n",
       "1     몰스킨 노트 가죽 하드커버 감성 고급 업무용 이쁜 심플  24000   \n",
       "2        다니엘크레뮤 22FW 헤비 코튼 몰스킨 팬츠 3종  91730   \n",
       "3           몰스킨 2023 데일리 12개월 다이어리 L  38050   \n",
       "4  몰스킨 2023다이어리 데일리 하드커버 라지블루 다이어리노트  31000   \n",
       "\n",
       "                                                link  mall  \n",
       "0  https://search.shopping.naver.com/gate.nhn?id=...  베스트펜  \n",
       "1  https://search.shopping.naver.com/gate.nhn?id=...  베스트펜  \n",
       "2  https://search.shopping.naver.com/gate.nhn?id=...   네이버  \n",
       "3  https://search.shopping.naver.com/gate.nhn?id=...   네이버  \n",
       "4  https://search.shopping.naver.com/gate.nhn?id=...   네이버  "
      ]
     },
     "execution_count": 33,
     "metadata": {},
     "output_type": "execute_result"
    }
   ],
   "source": [
    "get_fields(one_result)"
   ]
  },
  {
   "cell_type": "code",
   "execution_count": 34,
   "metadata": {},
   "outputs": [
    {
     "name": "stdout",
     "output_type": "stream",
     "text": [
      "[2023-02-01 16:09:19.199237] Url Request Success\n"
     ]
    }
   ],
   "source": [
    "url = gen_search_url(\"shop\", \"몰스킨\", 1, 5)\n",
    "json_result = get_result_onpage(url)\n",
    "pd_result = get_fields(json_result)"
   ]
  },
  {
   "cell_type": "code",
   "execution_count": 35,
   "metadata": {},
   "outputs": [
    {
     "data": {
      "text/html": [
       "<div>\n",
       "<style scoped>\n",
       "    .dataframe tbody tr th:only-of-type {\n",
       "        vertical-align: middle;\n",
       "    }\n",
       "\n",
       "    .dataframe tbody tr th {\n",
       "        vertical-align: top;\n",
       "    }\n",
       "\n",
       "    .dataframe thead th {\n",
       "        text-align: right;\n",
       "    }\n",
       "</style>\n",
       "<table border=\"1\" class=\"dataframe\">\n",
       "  <thead>\n",
       "    <tr style=\"text-align: right;\">\n",
       "      <th></th>\n",
       "      <th>title</th>\n",
       "      <th>lprice</th>\n",
       "      <th>link</th>\n",
       "      <th>mall</th>\n",
       "    </tr>\n",
       "  </thead>\n",
       "  <tbody>\n",
       "    <tr>\n",
       "      <th>0</th>\n",
       "      <td>몰스킨 2023 다이어리 위클리 소프트커버</td>\n",
       "      <td>22950</td>\n",
       "      <td>https://search.shopping.naver.com/gate.nhn?id=...</td>\n",
       "      <td>베스트펜</td>\n",
       "    </tr>\n",
       "    <tr>\n",
       "      <th>1</th>\n",
       "      <td>몰스킨 노트 가죽 하드커버 감성 고급 업무용 이쁜 심플</td>\n",
       "      <td>24000</td>\n",
       "      <td>https://search.shopping.naver.com/gate.nhn?id=...</td>\n",
       "      <td>베스트펜</td>\n",
       "    </tr>\n",
       "    <tr>\n",
       "      <th>2</th>\n",
       "      <td>다니엘크레뮤 22FW 헤비 코튼 몰스킨 팬츠 3종</td>\n",
       "      <td>91730</td>\n",
       "      <td>https://search.shopping.naver.com/gate.nhn?id=...</td>\n",
       "      <td>네이버</td>\n",
       "    </tr>\n",
       "    <tr>\n",
       "      <th>3</th>\n",
       "      <td>몰스킨 2023 데일리 12개월 다이어리 L</td>\n",
       "      <td>38050</td>\n",
       "      <td>https://search.shopping.naver.com/gate.nhn?id=...</td>\n",
       "      <td>네이버</td>\n",
       "    </tr>\n",
       "    <tr>\n",
       "      <th>4</th>\n",
       "      <td>몰스킨 2023다이어리 데일리 하드커버 라지블루 다이어리노트</td>\n",
       "      <td>31000</td>\n",
       "      <td>https://search.shopping.naver.com/gate.nhn?id=...</td>\n",
       "      <td>네이버</td>\n",
       "    </tr>\n",
       "  </tbody>\n",
       "</table>\n",
       "</div>"
      ],
      "text/plain": [
       "                               title lprice  \\\n",
       "0            몰스킨 2023 다이어리 위클리 소프트커버  22950   \n",
       "1     몰스킨 노트 가죽 하드커버 감성 고급 업무용 이쁜 심플  24000   \n",
       "2        다니엘크레뮤 22FW 헤비 코튼 몰스킨 팬츠 3종  91730   \n",
       "3           몰스킨 2023 데일리 12개월 다이어리 L  38050   \n",
       "4  몰스킨 2023다이어리 데일리 하드커버 라지블루 다이어리노트  31000   \n",
       "\n",
       "                                                link  mall  \n",
       "0  https://search.shopping.naver.com/gate.nhn?id=...  베스트펜  \n",
       "1  https://search.shopping.naver.com/gate.nhn?id=...  베스트펜  \n",
       "2  https://search.shopping.naver.com/gate.nhn?id=...   네이버  \n",
       "3  https://search.shopping.naver.com/gate.nhn?id=...   네이버  \n",
       "4  https://search.shopping.naver.com/gate.nhn?id=...   네이버  "
      ]
     },
     "execution_count": 35,
     "metadata": {},
     "output_type": "execute_result"
    }
   ],
   "source": [
    "pd_result"
   ]
  },
  {
   "cell_type": "markdown",
   "metadata": {},
   "source": [
    "## actMain()"
   ]
  },
  {
   "cell_type": "code",
   "execution_count": 36,
   "metadata": {},
   "outputs": [
    {
     "name": "stdout",
     "output_type": "stream",
     "text": [
      "1\n",
      "101\n",
      "201\n",
      "301\n",
      "401\n",
      "501\n",
      "601\n",
      "701\n",
      "801\n",
      "901\n"
     ]
    }
   ],
   "source": [
    "for n in range(1, 1000, 100):\n",
    "    print(n)"
   ]
  },
  {
   "cell_type": "code",
   "execution_count": 37,
   "metadata": {},
   "outputs": [
    {
     "name": "stdout",
     "output_type": "stream",
     "text": [
      "[2023-02-01 16:09:19.600604] Url Request Success\n",
      "[2023-02-01 16:09:19.850283] Url Request Success\n",
      "[2023-02-01 16:09:20.111905] Url Request Success\n",
      "[2023-02-01 16:09:20.408993] Url Request Success\n",
      "[2023-02-01 16:09:20.717453] Url Request Success\n",
      "[2023-02-01 16:09:20.992399] Url Request Success\n",
      "[2023-02-01 16:09:21.280628] Url Request Success\n",
      "[2023-02-01 16:09:21.549908] Url Request Success\n",
      "[2023-02-01 16:09:21.797305] Url Request Success\n",
      "[2023-02-01 16:09:22.124310] Url Request Success\n"
     ]
    }
   ],
   "source": [
    "result_mol = []\n",
    "\n",
    "for n in range(1, 1000, 100):\n",
    "    url = gen_search_url(\"shop\", \"몰스킨\", n, 100)\n",
    "    json_result = get_result_onpage(url)\n",
    "    pd_result = get_fields(json_result)\n",
    "\n",
    "    result_mol.append(pd_result)\n",
    "\n",
    "result_mol = pd.concat(result_mol)"
   ]
  },
  {
   "cell_type": "code",
   "execution_count": 38,
   "metadata": {},
   "outputs": [
    {
     "name": "stdout",
     "output_type": "stream",
     "text": [
      "<class 'pandas.core.frame.DataFrame'>\n",
      "Int64Index: 1000 entries, 0 to 99\n",
      "Data columns (total 4 columns):\n",
      " #   Column  Non-Null Count  Dtype \n",
      "---  ------  --------------  ----- \n",
      " 0   title   1000 non-null   object\n",
      " 1   lprice  1000 non-null   object\n",
      " 2   link    1000 non-null   object\n",
      " 3   mall    1000 non-null   object\n",
      "dtypes: object(4)\n",
      "memory usage: 39.1+ KB\n"
     ]
    }
   ],
   "source": [
    "result_mol.info()\n",
    "# 데이터는 1000개인데 index가 0-99임"
   ]
  },
  {
   "cell_type": "code",
   "execution_count": 39,
   "metadata": {},
   "outputs": [
    {
     "data": {
      "text/html": [
       "<div>\n",
       "<style scoped>\n",
       "    .dataframe tbody tr th:only-of-type {\n",
       "        vertical-align: middle;\n",
       "    }\n",
       "\n",
       "    .dataframe tbody tr th {\n",
       "        vertical-align: top;\n",
       "    }\n",
       "\n",
       "    .dataframe thead th {\n",
       "        text-align: right;\n",
       "    }\n",
       "</style>\n",
       "<table border=\"1\" class=\"dataframe\">\n",
       "  <thead>\n",
       "    <tr style=\"text-align: right;\">\n",
       "      <th></th>\n",
       "      <th>index</th>\n",
       "      <th>title</th>\n",
       "      <th>lprice</th>\n",
       "      <th>link</th>\n",
       "      <th>mall</th>\n",
       "    </tr>\n",
       "  </thead>\n",
       "  <tbody>\n",
       "    <tr>\n",
       "      <th>0</th>\n",
       "      <td>0</td>\n",
       "      <td>몰스킨 2023 다이어리 위클리 소프트커버</td>\n",
       "      <td>22950</td>\n",
       "      <td>https://search.shopping.naver.com/gate.nhn?id=...</td>\n",
       "      <td>베스트펜</td>\n",
       "    </tr>\n",
       "    <tr>\n",
       "      <th>1</th>\n",
       "      <td>1</td>\n",
       "      <td>몰스킨 노트 가죽 하드커버 감성 고급 업무용 이쁜 심플</td>\n",
       "      <td>24000</td>\n",
       "      <td>https://search.shopping.naver.com/gate.nhn?id=...</td>\n",
       "      <td>베스트펜</td>\n",
       "    </tr>\n",
       "    <tr>\n",
       "      <th>2</th>\n",
       "      <td>2</td>\n",
       "      <td>다니엘크레뮤 22FW 헤비 코튼 몰스킨 팬츠 3종</td>\n",
       "      <td>91730</td>\n",
       "      <td>https://search.shopping.naver.com/gate.nhn?id=...</td>\n",
       "      <td>네이버</td>\n",
       "    </tr>\n",
       "    <tr>\n",
       "      <th>3</th>\n",
       "      <td>3</td>\n",
       "      <td>몰스킨 2023 데일리 12개월 다이어리 L</td>\n",
       "      <td>38050</td>\n",
       "      <td>https://search.shopping.naver.com/gate.nhn?id=...</td>\n",
       "      <td>네이버</td>\n",
       "    </tr>\n",
       "    <tr>\n",
       "      <th>4</th>\n",
       "      <td>4</td>\n",
       "      <td>몰스킨 2023다이어리 데일리 하드커버 라지블루 다이어리노트</td>\n",
       "      <td>31000</td>\n",
       "      <td>https://search.shopping.naver.com/gate.nhn?id=...</td>\n",
       "      <td>네이버</td>\n",
       "    </tr>\n",
       "    <tr>\n",
       "      <th>...</th>\n",
       "      <td>...</td>\n",
       "      <td>...</td>\n",
       "      <td>...</td>\n",
       "      <td>...</td>\n",
       "      <td>...</td>\n",
       "    </tr>\n",
       "    <tr>\n",
       "      <th>995</th>\n",
       "      <td>95</td>\n",
       "      <td>인디안 고급 몰스킨 워싱 캐주얼자켓 MIPFAYF9101NBC</td>\n",
       "      <td>158200</td>\n",
       "      <td>https://search.shopping.naver.com/gate.nhn?id=...</td>\n",
       "      <td>네이버</td>\n",
       "    </tr>\n",
       "    <tr>\n",
       "      <th>996</th>\n",
       "      <td>96</td>\n",
       "      <td>인디안 몰스킨 워싱 솔리드 점퍼 부천점 MIWCLYF8111BC</td>\n",
       "      <td>173060</td>\n",
       "      <td>https://search.shopping.naver.com/gate.nhn?id=...</td>\n",
       "      <td>네이버</td>\n",
       "    </tr>\n",
       "    <tr>\n",
       "      <th>997</th>\n",
       "      <td>97</td>\n",
       "      <td>갤럭시 갤럭시 몰스킨 다잉 팬츠 GA1821U22P</td>\n",
       "      <td>116660</td>\n",
       "      <td>https://search.shopping.naver.com/gate.nhn?id=...</td>\n",
       "      <td>네이버</td>\n",
       "    </tr>\n",
       "    <tr>\n",
       "      <th>998</th>\n",
       "      <td>98</td>\n",
       "      <td>몰스킨 Moleskine 클래식 2023 데일리 플래너 하드 커버 라지 12 x 스칼렛</td>\n",
       "      <td>29800</td>\n",
       "      <td>https://search.shopping.naver.com/gate.nhn?id=...</td>\n",
       "      <td>네이버</td>\n",
       "    </tr>\n",
       "    <tr>\n",
       "      <th>999</th>\n",
       "      <td>99</td>\n",
       "      <td>몰스킨 까이에 룰드 라지 사이즈 옵션1</td>\n",
       "      <td>20000</td>\n",
       "      <td>https://search.shopping.naver.com/gate.nhn?id=...</td>\n",
       "      <td>네이버</td>\n",
       "    </tr>\n",
       "  </tbody>\n",
       "</table>\n",
       "<p>1000 rows × 5 columns</p>\n",
       "</div>"
      ],
      "text/plain": [
       "     index                                             title  lprice  \\\n",
       "0        0                           몰스킨 2023 다이어리 위클리 소프트커버   22950   \n",
       "1        1                    몰스킨 노트 가죽 하드커버 감성 고급 업무용 이쁜 심플   24000   \n",
       "2        2                       다니엘크레뮤 22FW 헤비 코튼 몰스킨 팬츠 3종   91730   \n",
       "3        3                          몰스킨 2023 데일리 12개월 다이어리 L   38050   \n",
       "4        4                 몰스킨 2023다이어리 데일리 하드커버 라지블루 다이어리노트   31000   \n",
       "..     ...                                               ...     ...   \n",
       "995     95                인디안 고급 몰스킨 워싱 캐주얼자켓 MIPFAYF9101NBC  158200   \n",
       "996     96               인디안 몰스킨 워싱 솔리드 점퍼 부천점 MIWCLYF8111BC  173060   \n",
       "997     97                      갤럭시 갤럭시 몰스킨 다잉 팬츠 GA1821U22P  116660   \n",
       "998     98  몰스킨 Moleskine 클래식 2023 데일리 플래너 하드 커버 라지 12 x 스칼렛   29800   \n",
       "999     99                             몰스킨 까이에 룰드 라지 사이즈 옵션1   20000   \n",
       "\n",
       "                                                  link  mall  \n",
       "0    https://search.shopping.naver.com/gate.nhn?id=...  베스트펜  \n",
       "1    https://search.shopping.naver.com/gate.nhn?id=...  베스트펜  \n",
       "2    https://search.shopping.naver.com/gate.nhn?id=...   네이버  \n",
       "3    https://search.shopping.naver.com/gate.nhn?id=...   네이버  \n",
       "4    https://search.shopping.naver.com/gate.nhn?id=...   네이버  \n",
       "..                                                 ...   ...  \n",
       "995  https://search.shopping.naver.com/gate.nhn?id=...   네이버  \n",
       "996  https://search.shopping.naver.com/gate.nhn?id=...   네이버  \n",
       "997  https://search.shopping.naver.com/gate.nhn?id=...   네이버  \n",
       "998  https://search.shopping.naver.com/gate.nhn?id=...   네이버  \n",
       "999  https://search.shopping.naver.com/gate.nhn?id=...   네이버  \n",
       "\n",
       "[1000 rows x 5 columns]"
      ]
     },
     "execution_count": 39,
     "metadata": {},
     "output_type": "execute_result"
    }
   ],
   "source": [
    "result_mol.reset_index()"
   ]
  },
  {
   "cell_type": "code",
   "execution_count": 40,
   "metadata": {},
   "outputs": [
    {
     "data": {
      "text/html": [
       "<div>\n",
       "<style scoped>\n",
       "    .dataframe tbody tr th:only-of-type {\n",
       "        vertical-align: middle;\n",
       "    }\n",
       "\n",
       "    .dataframe tbody tr th {\n",
       "        vertical-align: top;\n",
       "    }\n",
       "\n",
       "    .dataframe thead th {\n",
       "        text-align: right;\n",
       "    }\n",
       "</style>\n",
       "<table border=\"1\" class=\"dataframe\">\n",
       "  <thead>\n",
       "    <tr style=\"text-align: right;\">\n",
       "      <th></th>\n",
       "      <th>title</th>\n",
       "      <th>lprice</th>\n",
       "      <th>link</th>\n",
       "      <th>mall</th>\n",
       "    </tr>\n",
       "  </thead>\n",
       "  <tbody>\n",
       "    <tr>\n",
       "      <th>0</th>\n",
       "      <td>몰스킨 2023 다이어리 위클리 소프트커버</td>\n",
       "      <td>22950</td>\n",
       "      <td>https://search.shopping.naver.com/gate.nhn?id=...</td>\n",
       "      <td>베스트펜</td>\n",
       "    </tr>\n",
       "    <tr>\n",
       "      <th>1</th>\n",
       "      <td>몰스킨 노트 가죽 하드커버 감성 고급 업무용 이쁜 심플</td>\n",
       "      <td>24000</td>\n",
       "      <td>https://search.shopping.naver.com/gate.nhn?id=...</td>\n",
       "      <td>베스트펜</td>\n",
       "    </tr>\n",
       "    <tr>\n",
       "      <th>2</th>\n",
       "      <td>다니엘크레뮤 22FW 헤비 코튼 몰스킨 팬츠 3종</td>\n",
       "      <td>91730</td>\n",
       "      <td>https://search.shopping.naver.com/gate.nhn?id=...</td>\n",
       "      <td>네이버</td>\n",
       "    </tr>\n",
       "    <tr>\n",
       "      <th>3</th>\n",
       "      <td>몰스킨 2023 데일리 12개월 다이어리 L</td>\n",
       "      <td>38050</td>\n",
       "      <td>https://search.shopping.naver.com/gate.nhn?id=...</td>\n",
       "      <td>네이버</td>\n",
       "    </tr>\n",
       "    <tr>\n",
       "      <th>4</th>\n",
       "      <td>몰스킨 2023다이어리 데일리 하드커버 라지블루 다이어리노트</td>\n",
       "      <td>31000</td>\n",
       "      <td>https://search.shopping.naver.com/gate.nhn?id=...</td>\n",
       "      <td>네이버</td>\n",
       "    </tr>\n",
       "    <tr>\n",
       "      <th>...</th>\n",
       "      <td>...</td>\n",
       "      <td>...</td>\n",
       "      <td>...</td>\n",
       "      <td>...</td>\n",
       "    </tr>\n",
       "    <tr>\n",
       "      <th>995</th>\n",
       "      <td>인디안 고급 몰스킨 워싱 캐주얼자켓 MIPFAYF9101NBC</td>\n",
       "      <td>158200</td>\n",
       "      <td>https://search.shopping.naver.com/gate.nhn?id=...</td>\n",
       "      <td>네이버</td>\n",
       "    </tr>\n",
       "    <tr>\n",
       "      <th>996</th>\n",
       "      <td>인디안 몰스킨 워싱 솔리드 점퍼 부천점 MIWCLYF8111BC</td>\n",
       "      <td>173060</td>\n",
       "      <td>https://search.shopping.naver.com/gate.nhn?id=...</td>\n",
       "      <td>네이버</td>\n",
       "    </tr>\n",
       "    <tr>\n",
       "      <th>997</th>\n",
       "      <td>갤럭시 갤럭시 몰스킨 다잉 팬츠 GA1821U22P</td>\n",
       "      <td>116660</td>\n",
       "      <td>https://search.shopping.naver.com/gate.nhn?id=...</td>\n",
       "      <td>네이버</td>\n",
       "    </tr>\n",
       "    <tr>\n",
       "      <th>998</th>\n",
       "      <td>몰스킨 Moleskine 클래식 2023 데일리 플래너 하드 커버 라지 12 x 스칼렛</td>\n",
       "      <td>29800</td>\n",
       "      <td>https://search.shopping.naver.com/gate.nhn?id=...</td>\n",
       "      <td>네이버</td>\n",
       "    </tr>\n",
       "    <tr>\n",
       "      <th>999</th>\n",
       "      <td>몰스킨 까이에 룰드 라지 사이즈 옵션1</td>\n",
       "      <td>20000</td>\n",
       "      <td>https://search.shopping.naver.com/gate.nhn?id=...</td>\n",
       "      <td>네이버</td>\n",
       "    </tr>\n",
       "  </tbody>\n",
       "</table>\n",
       "<p>1000 rows × 4 columns</p>\n",
       "</div>"
      ],
      "text/plain": [
       "                                                title  lprice  \\\n",
       "0                             몰스킨 2023 다이어리 위클리 소프트커버   22950   \n",
       "1                      몰스킨 노트 가죽 하드커버 감성 고급 업무용 이쁜 심플   24000   \n",
       "2                         다니엘크레뮤 22FW 헤비 코튼 몰스킨 팬츠 3종   91730   \n",
       "3                            몰스킨 2023 데일리 12개월 다이어리 L   38050   \n",
       "4                   몰스킨 2023다이어리 데일리 하드커버 라지블루 다이어리노트   31000   \n",
       "..                                                ...     ...   \n",
       "995                인디안 고급 몰스킨 워싱 캐주얼자켓 MIPFAYF9101NBC  158200   \n",
       "996               인디안 몰스킨 워싱 솔리드 점퍼 부천점 MIWCLYF8111BC  173060   \n",
       "997                      갤럭시 갤럭시 몰스킨 다잉 팬츠 GA1821U22P  116660   \n",
       "998  몰스킨 Moleskine 클래식 2023 데일리 플래너 하드 커버 라지 12 x 스칼렛   29800   \n",
       "999                             몰스킨 까이에 룰드 라지 사이즈 옵션1   20000   \n",
       "\n",
       "                                                  link  mall  \n",
       "0    https://search.shopping.naver.com/gate.nhn?id=...  베스트펜  \n",
       "1    https://search.shopping.naver.com/gate.nhn?id=...  베스트펜  \n",
       "2    https://search.shopping.naver.com/gate.nhn?id=...   네이버  \n",
       "3    https://search.shopping.naver.com/gate.nhn?id=...   네이버  \n",
       "4    https://search.shopping.naver.com/gate.nhn?id=...   네이버  \n",
       "..                                                 ...   ...  \n",
       "995  https://search.shopping.naver.com/gate.nhn?id=...   네이버  \n",
       "996  https://search.shopping.naver.com/gate.nhn?id=...   네이버  \n",
       "997  https://search.shopping.naver.com/gate.nhn?id=...   네이버  \n",
       "998  https://search.shopping.naver.com/gate.nhn?id=...   네이버  \n",
       "999  https://search.shopping.naver.com/gate.nhn?id=...   네이버  \n",
       "\n",
       "[1000 rows x 4 columns]"
      ]
     },
     "execution_count": 40,
     "metadata": {},
     "output_type": "execute_result"
    }
   ],
   "source": [
    "result_mol.reset_index(drop=True, inplace=True)\n",
    "result_mol"
   ]
  },
  {
   "cell_type": "code",
   "execution_count": 41,
   "metadata": {},
   "outputs": [
    {
     "name": "stdout",
     "output_type": "stream",
     "text": [
      "<class 'pandas.core.frame.DataFrame'>\n",
      "RangeIndex: 1000 entries, 0 to 999\n",
      "Data columns (total 4 columns):\n",
      " #   Column  Non-Null Count  Dtype \n",
      "---  ------  --------------  ----- \n",
      " 0   title   1000 non-null   object\n",
      " 1   lprice  1000 non-null   object\n",
      " 2   link    1000 non-null   object\n",
      " 3   mall    1000 non-null   object\n",
      "dtypes: object(4)\n",
      "memory usage: 31.4+ KB\n"
     ]
    }
   ],
   "source": [
    "result_mol.info()"
   ]
  },
  {
   "cell_type": "code",
   "execution_count": 42,
   "metadata": {},
   "outputs": [
    {
     "name": "stdout",
     "output_type": "stream",
     "text": [
      "<class 'pandas.core.frame.DataFrame'>\n",
      "RangeIndex: 1000 entries, 0 to 999\n",
      "Data columns (total 4 columns):\n",
      " #   Column  Non-Null Count  Dtype  \n",
      "---  ------  --------------  -----  \n",
      " 0   title   1000 non-null   object \n",
      " 1   lprice  1000 non-null   float64\n",
      " 2   link    1000 non-null   object \n",
      " 3   mall    1000 non-null   object \n",
      "dtypes: float64(1), object(3)\n",
      "memory usage: 31.4+ KB\n"
     ]
    }
   ],
   "source": [
    "result_mol['lprice'] = result_mol['lprice'].astype('float')\n",
    "result_mol.info()"
   ]
  },
  {
   "cell_type": "markdown",
   "metadata": {},
   "source": [
    "## (5) to_excel()"
   ]
  },
  {
   "cell_type": "code",
   "execution_count": 43,
   "metadata": {},
   "outputs": [],
   "source": [
    "#!pip install xlsxwriter"
   ]
  },
  {
   "cell_type": "code",
   "execution_count": 44,
   "metadata": {},
   "outputs": [
    {
     "name": "stderr",
     "output_type": "stream",
     "text": [
      "C:\\Users\\TAEN\\AppData\\Local\\Temp\\ipykernel_15336\\623367242.py:15: FutureWarning: save is not part of the public API, usage can give unexpected results and will be removed in a future version\n",
      "  writer.save()\n"
     ]
    }
   ],
   "source": [
    "# 엑셀 작업을 파이썬으로 하는 것임\n",
    "writer = pd.ExcelWriter('../data/06_molskin_diary_innaver_shop.xlsx', engine='xlsxwriter')\n",
    "result_mol.to_excel(writer, sheet_name=\"Sheet1\")\n",
    "\n",
    "workbook = writer.book\n",
    "worksheet = writer.sheets['Sheet1']\n",
    "worksheet.set_column('A:A', 4)\n",
    "worksheet.set_column('B:B', 60) # 셀 크기가 60\n",
    "worksheet.set_column('C:C', 10)\n",
    "worksheet.set_column('D:D', 10)\n",
    "worksheet.set_column('E:E', 50)\n",
    "worksheet.set_column('F:F', 10)\n",
    "\n",
    "worksheet.conditional_format('C2:C1001', {'type':'3_color_scale'}) # 가격 크기에 따라 색깔을 다르게\n",
    "writer.save()"
   ]
  },
  {
   "cell_type": "markdown",
   "metadata": {},
   "source": [
    "## (6) 시각화"
   ]
  },
  {
   "cell_type": "code",
   "execution_count": 45,
   "metadata": {},
   "outputs": [
    {
     "name": "stdout",
     "output_type": "stream",
     "text": [
      " C ����̺��� �������� �̸��� �����ϴ�.\n",
      " ���� �Ϸ� ��ȣ: D60B-74CD\n",
      "\n",
      " c:\\Users\\TAEN\\Documents\\ds_study\\source_code ���͸�\n",
      "\n",
      "2023-02-01  ���� 04:06    <DIR>          .\n",
      "2023-02-01  ���� 04:06    <DIR>          ..\n",
      "2023-01-27  ���� 03:51    <DIR>          .ipynb_checkpoints\n",
      "2023-02-01  ���� 04:09    <DIR>          __pycache__\n",
      "2023-01-27  ���� 04:33           990,622 01.Analysis Seoul CCTV.ipynb\n",
      "2023-01-30  ���� 07:57         5,206,212 02. Analysis Seoul Crime.ipynb\n",
      "2023-01-27  ���� 04:33         1,720,988 03. Web Data.ipynb\n",
      "2023-01-30  ���� 09:39           423,148 04. Self Oil Station Price Analysis.ipynb\n",
      "2023-02-01  ���� 04:08         5,234,618 05. forecast.ipynb\n",
      "2023-02-01  ���� 04:07           380,408 06. Naver ApI.ipynb\n",
      "2023-02-01  ���� 11:15               950 drawSinWave.py\n",
      "2023-01-20  ���� 02:33             3,032 folium.html\n",
      "2022-12-15  ���� 03:05             1,280 naver.py\n",
      "2023-01-25  ���� 08:48             5,284 naverfinance.xlsx\n",
      "2023-02-01  ���� 04:06               533 set_matplotlib_hangul.py\n",
      "              11�� ����          13,967,075 ����Ʈ\n",
      "               4�� ���͸�  158,099,791,872 ����Ʈ ����\n"
     ]
    }
   ],
   "source": [
    "%ls"
   ]
  },
  {
   "cell_type": "code",
   "execution_count": 46,
   "metadata": {},
   "outputs": [],
   "source": [
    "import set_matplotlib_hangul\n",
    "import seaborn as sns\n",
    "import matplotlib.pyplot as plt"
   ]
  },
  {
   "cell_type": "code",
   "execution_count": 49,
   "metadata": {},
   "outputs": [
    {
     "data": {
      "image/png": "[encoded data removed]",
      "text/plain": [
       "<Figure size 1500x600 with 1 Axes>"
      ]
     },
     "metadata": {},
     "output_type": "display_data"
    }
   ],
   "source": [
    "plt.figure(figsize=(15, 6))\n",
    "sns.countplot(\n",
    "    x = result_mol[\"mall\"], # x = 안붙였더니 선생님꺼는 되는데 나는 오류남\n",
    "    data = result_mol, \n",
    "    palette=\"RdYlGn\",\n",
    "    order=result_mol[\"mall\"].value_counts().index\n",
    ")\n",
    "\n",
    "plt.show()"
   ]
  },
  {
   "cell_type": "code",
   "execution_count": 50,
   "metadata": {},
   "outputs": [
    {
     "data": {
      "image/png": "[encoded data removed]",
      "text/plain": [
       "<Figure size 1500x600 with 1 Axes>"
      ]
     },
     "metadata": {},
     "output_type": "display_data"
    }
   ],
   "source": [
    "plt.figure(figsize=(15, 6))\n",
    "sns.countplot(\n",
    "    x = result_mol[\"mall\"], # x = 안붙였더니 선생님꺼는 되는데 나는 오류남\n",
    "    data = result_mol, \n",
    "    palette=\"RdYlGn\",\n",
    "    order=result_mol[\"mall\"].value_counts().index\n",
    ")\n",
    "plt.xticks(rotation=90) #이름들이 세워지지 않게 하기 위해서.\n",
    "plt.show()"
   ]
  },
  {
   "cell_type": "code",
   "execution_count": null,
   "metadata": {},
   "outputs": [],
   "source": []
  }
 ],
 "metadata": {
  "kernelspec": {
   "display_name": "ds_study",
   "language": "python",
   "name": "python3"
  },
  "language_info": {
   "codemirror_mode": {
    "name": "ipython",
    "version": 3
   },
   "file_extension": ".py",
   "mimetype": "text/x-python",
   "name": "python",
   "nbconvert_exporter": "python",
   "pygments_lexer": "ipython3",
   "version": "3.10.9"
  },
  "orig_nbformat": 4,
  "vscode": {
   "interpreter": {
    "hash": "ecb590f526ee2d45a9b34ab94b4a51f41f367bb9e83a3b3480581c67fb46f3fc"
   }
  }
 },
 "nbformat": 4,
 "nbformat_minor": 2
}
