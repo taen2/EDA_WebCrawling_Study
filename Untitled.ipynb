{
 "cells": [
  {
   "cell_type": "code",
   "execution_count": 1,
   "id": "23426d20",
   "metadata": {},
   "outputs": [],
   "source": [
    "import folium"
   ]
  },
  {
   "cell_type": "code",
   "execution_count": null,
   "id": "58038ee6",
   "metadata": {},
   "outputs": [],
   "source": [
    "geo_path = '../data/02. skorea_municipalities_geo_simple.json'\n",
    "geo_str = json.load(open(geo_path, encoding='utf-8'))\n",
    "\n",
    "my_map = folium.Map(location=[37.5502, 126.982], zoom_start=10.5, tiles=)\n",
    "my_map.choropleth(\n",
    "    geo_data=geo_str,\n",
    "    data=gu_data,\n",
    "    columns=[gu_data.index, '휘발유 가격'],\n",
    "    key_on='feature.id',\n",
    "    fill_color=\"PuRd\"\n",
    ")\n",
    "my_map"
   ]
  }
 ],
 "metadata": {
  "kernelspec": {
   "display_name": "Python 3 (ipykernel)",
   "language": "python",
   "name": "python3"
  },
  "language_info": {
   "codemirror_mode": {
    "name": "ipython",
    "version": 3
   },
   "file_extension": ".py",
   "mimetype": "text/x-python",
   "name": "python",
   "nbconvert_exporter": "python",
   "pygments_lexer": "ipython3",
   "version": "3.10.9"
  }
 },
 "nbformat": 4,
 "nbformat_minor": 5
}
